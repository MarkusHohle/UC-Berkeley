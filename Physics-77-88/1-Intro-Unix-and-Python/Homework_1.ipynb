{
 "cells": [
  {
   "cell_type": "markdown",
   "id": "e66dc88b-065a-4b9a-92f6-f672f2745685",
   "metadata": {},
   "source": [
    "# Physics 77/88 - Fall 2024 - Homework 1 \n",
    "## Unix and Python\n",
    "*Submit this notebook to bCourses to receive a credit for this assignment.*\n",
    "<br>\n",
    "due: **Sept 11 2024** \n",
    "<br>\n",
    "**Please upload both, the .ipynb file and the corresponding .pdf**\n",
    "<br>\n",
    "## Problem 1 (4P)\n",
    "\n",
    "Imagine you have to import many **8 bit** color images (e. g. RGB) for training an ANN.\n",
    "\n",
    "a) How many different colors can be saved theoreticaly in each of the images? Explain your answer. (2P)<br>\n",
    "b) Do the same for a **16 bit** image. (2P)<br>\n",
    "<br>\n",
    "<br>\n",
    "## Problem 2 (2P)\n",
    "\n",
    "For many algorithms, you need to calculate the product $P_{tot}$ of different **probabilities** $P_i$ like eg.\n",
    "\n",
    "$$\n",
    "P_{tot} = \\Pi_{i}^{I}\\,P_i\n",
    "$$\n",
    "\n",
    "for large $I$.\n",
    "\n",
    "a) Why could this be a problem? (1P)<br>\n",
    "b) How can you solve the problem? (1P)<br>\n",
    "<br>\n",
    "<br>\n",
    "## Problem 3 (4P)\n",
    "\n",
    "Write down the following numbers as binary and with base 3 (including derivation):\n",
    "\n",
    "a) 21 (2P)<br>\n",
    "b) 27 (2P)<br>\n",
    "<br>\n",
    "<br>"
   ]
  },
  {
   "attachments": {
    "69306aee-72bd-4252-bcff-9b9f2852eb82.png": {
     "image/png": "[encoded data removed]"
    }
   },
   "cell_type": "markdown",
   "id": "e3e9b2b5-317b-4781-aba8-6d2df6c0cd98",
   "metadata": {},
   "source": [
    "![image.png](attachment:69306aee-72bd-4252-bcff-9b9f2852eb82.png) \n",
    "## Problem 4 - optional (4P)\n",
    "\n",
    "Create an arbitrary list *L1* in Python. From *L1* create another list *L2* that lists only those properties of *L1* which are **dunder methods**.\n",
    "<br>\n",
    "<br>"
   ]
  },
  {
   "cell_type": "markdown",
   "id": "baa59eba-05bc-4e2b-9246-dad6ea677816",
   "metadata": {},
   "source": [
    "## Problem 5 (2P)\n",
    "\n",
    "After a curve fit, a programm returns a vector *V* containing the errors, e. g.: "
   ]
  },
  {
   "cell_type": "code",
   "execution_count": 13,
   "id": "c0f7feb7-8157-40e8-b58c-aae3642edca0",
   "metadata": {},
   "outputs": [],
   "source": [
    "import numpy as np\n",
    "\n",
    "V = np.array([0.3, 0.01, 0.2, 0.121, 0.11])"
   ]
  },
  {
   "cell_type": "markdown",
   "id": "10b9fc3e-fdce-4d35-a372-2b72ad06ad58",
   "metadata": {},
   "source": [
    "How would you calculate the mean of the squared errors (MSE) most efficiently in Python?\n",
    "\n"
   ]
  }
 ],
 "metadata": {
  "kernelspec": {
   "display_name": "Python 3 (ipykernel)",
   "language": "python",
   "name": "python3"
  },
  "language_info": {
   "codemirror_mode": {
    "name": "ipython",
    "version": 3
   },
   "file_extension": ".py",
   "mimetype": "text/x-python",
   "name": "python",
   "nbconvert_exporter": "python",
   "pygments_lexer": "ipython3",
   "version": "3.11.7"
  }
 },
 "nbformat": 4,
 "nbformat_minor": 5
}
