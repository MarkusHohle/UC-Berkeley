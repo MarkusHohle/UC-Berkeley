{
 "cells": [
  {
   "cell_type": "markdown",
   "id": "ebe390a6-277e-499f-8a01-637c04a4f04b",
   "metadata": {},
   "source": [
    "# Walk Through I "
   ]
  },
  {
   "cell_type": "markdown",
   "id": "4b0f2ccd-5960-4e3b-85a1-b48e3a5925e5",
   "metadata": {},
   "source": [
    "1) We will encounter different *objects* and *types* in Python, such as numerical arrays, data frames or lists. These objects have different properties (or *attributes*). For a warm up, let's create some of the most common objects and explore some of their properties:"
   ]
  },
  {
   "cell_type": "code",
   "execution_count": 5,
   "id": "867edb2d-f0c9-484b-8cdd-648e2ac45973",
   "metadata": {},
   "outputs": [],
   "source": [
    "String \t= 'Hello ' + 'World' \t      #String\n",
    "\n",
    "List\t= [1, 2, 3, 5, 'World']\t      #List (default)\n",
    "\n",
    "Tuple  \t= (1, 2)                      #Tuple\n",
    "\n",
    "Dict \t= {'A': 1, 'B': 2}            #Dictonary"
   ]
  },
  {
   "cell_type": "markdown",
   "id": "ed22eaa6-2c74-494a-93e9-6b48ba0d5b03",
   "metadata": {},
   "source": [
    "Use the *print* statement to display the objects:"
   ]
  },
  {
   "cell_type": "code",
   "execution_count": 35,
   "id": "462a6278-c599-49f3-98a0-9c9b2aaebb72",
   "metadata": {},
   "outputs": [
    {
     "name": "stdout",
     "output_type": "stream",
     "text": [
      "Hello World\n",
      "[1, 2, 3, 5, 'World']\n",
      "(1, 2)\n",
      "{'A': 1, 'B': 2}\n"
     ]
    }
   ],
   "source": [
    "print(String)\n",
    "print(List)\n",
    "print(Tuple)\n",
    "print(Dict)"
   ]
  },
  {
   "cell_type": "markdown",
   "id": "f56cf702-8660-43f4-88e4-3ffbc2b197cb",
   "metadata": {},
   "source": [
    "The command *type* returns the type of the object:"
   ]
  },
  {
   "cell_type": "code",
   "execution_count": 41,
   "id": "82afeb39-dcb0-419c-8d3f-7fc762d2ca61",
   "metadata": {},
   "outputs": [
    {
     "data": {
      "text/plain": [
       "str"
      ]
     },
     "execution_count": 41,
     "metadata": {},
     "output_type": "execute_result"
    }
   ],
   "source": [
    "type(String)"
   ]
  },
  {
   "cell_type": "code",
   "execution_count": 43,
   "id": "db9fa022-00b7-4031-b2aa-f7a66155a217",
   "metadata": {},
   "outputs": [
    {
     "data": {
      "text/plain": [
       "list"
      ]
     },
     "execution_count": 43,
     "metadata": {},
     "output_type": "execute_result"
    }
   ],
   "source": [
    "type(List)"
   ]
  },
  {
   "cell_type": "code",
   "execution_count": 45,
   "id": "fc142951-cf45-48e3-a6dd-54012fc5043f",
   "metadata": {},
   "outputs": [
    {
     "data": {
      "text/plain": [
       "tuple"
      ]
     },
     "execution_count": 45,
     "metadata": {},
     "output_type": "execute_result"
    }
   ],
   "source": [
    "type(Tuple)"
   ]
  },
  {
   "cell_type": "code",
   "execution_count": 47,
   "id": "885b45fa-bd04-4920-a148-e4a678092c44",
   "metadata": {},
   "outputs": [
    {
     "data": {
      "text/plain": [
       "dict"
      ]
     },
     "execution_count": 47,
     "metadata": {},
     "output_type": "execute_result"
    }
   ],
   "source": [
    "type(Dict)"
   ]
  },
  {
   "attachments": {
    "58cf2d1f-4bf5-4ac9-b812-393a68f451b2.png": {
     "image/png": "[encoded data removed]"
    }
   },
   "cell_type": "markdown",
   "id": "6996f08d-1464-448e-938b-9635ef55f878",
   "metadata": {},
   "source": [
    "And typing the name of the variable you have the object assigned to, followed with a dot and using the *Tab* key shows a list of *attributes*<br>\n",
    "<br>\n",
    "![image.png](attachment:58cf2d1f-4bf5-4ac9-b812-393a68f451b2.png)"
   ]
  },
  {
   "cell_type": "markdown",
   "id": "c659c0bb-9102-49db-adbb-3b2f60284d10",
   "metadata": {},
   "source": [
    "We also will deal with numbers of different kind:"
   ]
  },
  {
   "cell_type": "code",
   "execution_count": 10,
   "id": "75b454c3-77e1-4520-97f4-ab40137632ef",
   "metadata": {},
   "outputs": [
    {
     "data": {
      "text/plain": [
       "int"
      ]
     },
     "execution_count": 10,
     "metadata": {},
     "output_type": "execute_result"
    }
   ],
   "source": [
    "a = 5\n",
    "type(a)"
   ]
  },
  {
   "cell_type": "code",
   "execution_count": 12,
   "id": "6c65f619-5399-4b20-b538-7c6bcb64cfce",
   "metadata": {},
   "outputs": [
    {
     "data": {
      "text/plain": [
       "float"
      ]
     },
     "execution_count": 12,
     "metadata": {},
     "output_type": "execute_result"
    }
   ],
   "source": [
    "b = 5.0\n",
    "type(b)"
   ]
  },
  {
   "cell_type": "markdown",
   "id": "f0173562-19cc-4fa1-9ec1-afa3a1e9de73",
   "metadata": {},
   "source": [
    "Why are these numbers of different type?<br>\n",
    "\n",
    "Now, do the following exercise:"
   ]
  },
  {
   "cell_type": "code",
   "execution_count": 37,
   "id": "cf7d5a84-4c81-4f5b-af92-bf7702316252",
   "metadata": {},
   "outputs": [
    {
     "name": "stdout",
     "output_type": "stream",
     "text": [
      "[1, 5]\n",
      "[1, 5]\n"
     ]
    }
   ],
   "source": [
    "L1 = [1, 2]\n",
    "L2 = L1\n",
    "\n",
    "L1[1] = 5\n",
    "print(L1)\n",
    "print(L2)"
   ]
  },
  {
   "cell_type": "markdown",
   "id": "9c160ae5-fd08-4504-bd65-0494456219e8",
   "metadata": {},
   "source": [
    "That is weird. We modified L1, which also modified L2. Repeat the same exercis with a number. What happens?\n",
    "Try now"
   ]
  },
  {
   "cell_type": "code",
   "execution_count": 19,
   "id": "3d9ac97e-72be-4f4d-b0f2-cf44f17efb93",
   "metadata": {},
   "outputs": [
    {
     "name": "stdout",
     "output_type": "stream",
     "text": [
      "[1, 5]\n",
      "[1, 2]\n"
     ]
    }
   ],
   "source": [
    "L1 = [1, 2]\n",
    "L2 = L1.copy()\n",
    "\n",
    "L1[1] = 5\n",
    "print(L1)\n",
    "print(L2)"
   ]
  },
  {
   "attachments": {},
   "cell_type": "markdown",
   "id": "b945235b-2fca-4775-8f3f-338d00355128",
   "metadata": {},
   "source": [
    "Apparently, this time L2 did not get modified. Lists, Dictionaries and Sets are so called *mutables*, i. e. we are able to \"mutate\" them and they *inherit* the mutation.\n",
    "Arrays, data frames and numbers are not mutables"
   ]
  },
  {
   "cell_type": "markdown",
   "id": "d22368e8-34d3-485a-98a1-557fec1492be",
   "metadata": {},
   "source": [
    "- What happens, if you multiply the objects with a number, say 3?\n",
    "- Try to change entries like ..."
   ]
  },
  {
   "cell_type": "code",
   "execution_count": 22,
   "id": "135289bf-9e5d-4165-b09f-6118ac348f3f",
   "metadata": {},
   "outputs": [
    {
     "ename": "TypeError",
     "evalue": "'str' object does not support item assignment",
     "output_type": "error",
     "traceback": [
      "\u001b[1;31m---------------------------------------------------------------------------\u001b[0m",
      "\u001b[1;31mTypeError\u001b[0m                                 Traceback (most recent call last)",
      "Cell \u001b[1;32mIn[22], line 1\u001b[0m\n\u001b[1;32m----> 1\u001b[0m String[\u001b[38;5;241m3\u001b[39m] \u001b[38;5;241m=\u001b[39m \u001b[38;5;124m'\u001b[39m\u001b[38;5;124mK\u001b[39m\u001b[38;5;124m'\u001b[39m\n",
      "\u001b[1;31mTypeError\u001b[0m: 'str' object does not support item assignment"
     ]
    }
   ],
   "source": [
    "String[3] = 'K'"
   ]
  },
  {
   "cell_type": "markdown",
   "id": "5dcfd828-9b4c-481b-9b82-d599b162125d",
   "metadata": {},
   "source": [
    "...or"
   ]
  },
  {
   "cell_type": "code",
   "execution_count": 26,
   "id": "8c4a4d54-a036-4034-ae37-74c8a49a20d6",
   "metadata": {},
   "outputs": [],
   "source": [
    "a = 45"
   ]
  },
  {
   "cell_type": "markdown",
   "id": "a330dac7-df78-4fd5-a2c5-855089dd9d6a",
   "metadata": {},
   "source": [
    "- Try to *slice* the objects like eg"
   ]
  },
  {
   "cell_type": "code",
   "execution_count": 29,
   "id": "afc3a6ce-91a8-4c44-b598-de59541808c0",
   "metadata": {},
   "outputs": [
    {
     "name": "stdout",
     "output_type": "stream",
     "text": [
      "ello\n",
      "H\n",
      "d\n",
      "l\n"
     ]
    }
   ],
   "source": [
    "Snew = String[1:5]\n",
    "print(Snew)\n",
    "print(String[0])\n",
    "print(String[-1])\n",
    "print(String[-2])"
   ]
  },
  {
   "cell_type": "markdown",
   "id": "bf47c4dc-7914-46a9-9ccf-e5c94050e3a9",
   "metadata": {},
   "source": [
    "Does that work with the other objects too?"
   ]
  },
  {
   "cell_type": "markdown",
   "id": "f3de33e2-16bf-4506-a5b7-a239bd830479",
   "metadata": {},
   "source": [
    "2) In Python, we often import libraries and packages, such as numpy, pandas and matplotlib:"
   ]
  },
  {
   "cell_type": "code",
   "execution_count": 32,
   "id": "753f97b4-b8d1-4f9a-b4be-a69bfa250f5f",
   "metadata": {},
   "outputs": [],
   "source": [
    "import numpy as np               #for numerical operations\n",
    "import pandas as pd              #parsing .xls, .xlsx, .csv etc\n",
    "import matplotlib.pyplot as plt  #plotting tool\n",
    "import seaborn as sns            #sophisticated plotting, ready to publish"
   ]
  },
  {
   "cell_type": "markdown",
   "id": "f02055ef-4a78-46be-b202-91b3672e707f",
   "metadata": {},
   "source": [
    "try: np. and Tab\n",
    "\n",
    "Try also:"
   ]
  },
  {
   "cell_type": "code",
   "execution_count": 6,
   "id": "9d5041a1-0d0a-4ab2-a87c-e12d706c83a2",
   "metadata": {},
   "outputs": [
    {
     "name": "stdout",
     "output_type": "stream",
     "text": [
      "[1 2 3 5]\n"
     ]
    },
    {
     "data": {
      "text/plain": [
       "numpy.ndarray"
      ]
     },
     "execution_count": 6,
     "metadata": {},
     "output_type": "execute_result"
    }
   ],
   "source": [
    "Array = np.array([1, 2, 3, 5])\n",
    "print(Array)\n",
    "type(Array)"
   ]
  },
  {
   "cell_type": "markdown",
   "id": "2e58bb5c-ff11-4e7f-a2ec-0bc16c925454",
   "metadata": {},
   "source": [
    "We are now ready to create our first plot:"
   ]
  },
  {
   "cell_type": "code",
   "execution_count": 24,
   "id": "8f5895cb-a0e1-47a2-8d49-711d33348e87",
   "metadata": {},
   "outputs": [
    {
     "data": {
      "image/png": "[encoded data removed]",
      "text/plain": [
       "<Figure size 640x480 with 1 Axes>"
      ]
     },
     "metadata": {},
     "output_type": "display_data"
    }
   ],
   "source": [
    "x = np.arange(0,2,0.01)\n",
    "y = np.exp(x)\n",
    "\n",
    "plt.plot(x, y, '--', color = [0.5, 0.2, 0.9, 0.5], linewidth = 4)\n",
    "plt.scatter(x, y, color = 'k', s = 0.1)\n",
    "plt.xlabel('x values')\n",
    "plt.ylabel('y values')\n",
    "plt.title('My First Pyplot')\n",
    "plt.show()"
   ]
  },
  {
   "cell_type": "markdown",
   "id": "29cffcc0-32fc-4e19-8e30-554852b8302a",
   "metadata": {},
   "source": [
    "Check out: *https://python-graph-gallery.com/*"
   ]
  },
  {
   "cell_type": "code",
   "execution_count": null,
   "id": "68b9190b-bb69-4988-9f1a-a8f0e5fc9c0e",
   "metadata": {},
   "outputs": [],
   "source": []
  }
 ],
 "metadata": {
  "kernelspec": {
   "display_name": "Python 3 (ipykernel)",
   "language": "python",
   "name": "python3"
  },
  "language_info": {
   "codemirror_mode": {
    "name": "ipython",
    "version": 3
   },
   "file_extension": ".py",
   "mimetype": "text/x-python",
   "name": "python",
   "nbconvert_exporter": "python",
   "pygments_lexer": "ipython3",
   "version": "3.11.7"
  }
 },
 "nbformat": 4,
 "nbformat_minor": 5
}
