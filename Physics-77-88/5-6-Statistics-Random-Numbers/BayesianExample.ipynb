{
 "cells": [
  {
   "cell_type": "markdown",
   "id": "15aec831-ef86-4b50-ba40-f553314dbe7a",
   "metadata": {},
   "source": [
    "## Bayesian Example"
   ]
  },
  {
   "cell_type": "markdown",
   "id": "35d1c7df-4dc3-4cef-a7f5-6ab15a38abcd",
   "metadata": {},
   "source": [
    "**In this example we want to illustrate how Bayes' Theorem can be applied for a concrete example.**<br>\n",
    "<br>\n",
    "Let's say there is a medical test, for example taking a blood sample in order to diagnose a disease like cancer based on tumor markers in the blood (see e.g. https://www.cancer.gov/news-events/cancer-currents-blog/2020/cancerseek-blood-test-detect-early-cancer).<br>\n",
    "<br>\n",
    "For one particular test the probability to get a positive test result (positive here means tumor markers are found), **given** the patient is sick is 95%. Denoting $S$ as the sick state, $H$ as the healthy state and $+$ as positive test result whereas $-$ is the state for the negative test result, we can formalize the above statement:<br>\n",
    "<br>\n",
    "The probability to get a positive test result **given** the patient is sick is 95%: $P(+|S) = 0.95$<br>\n",
    "<br>"
   ]
  },
  {
   "cell_type": "markdown",
   "id": "060f384b-8844-4623-83b7-ad2b1b7a77e3",
   "metadata": {},
   "source": [
    "Now, a patient took the test and the **test result is positive**. What is the probability, that the patient is indeed sick?<br>\n",
    "First, we should understand, that the answer **is not** $P(+|S)$! The probability we are asking for is actually:<br>\n",
    "<br>\n",
    "The probability that the patient is sick given there is a positive test result: $P(S|+)$<br>\n",
    "<br>\n",
    "And of course $P(S|+)\\neq P(+|S)$."
   ]
  },
  {
   "cell_type": "markdown",
   "id": "4fe9fe10-50d0-48ad-aed6-88e3a11a8391",
   "metadata": {},
   "source": [
    "How do we calculate this probability? We recall Bayes' Theorem:<br>\n",
    "<br>\n",
    "$P(A|B) = \\frac{P(B|A)P(A)}{P(B)}$<br>\n",
    "<br>"
   ]
  },
  {
   "cell_type": "markdown",
   "id": "03809f37-7603-49ad-8576-7eb349598e83",
   "metadata": {},
   "source": [
    "and just apply it to our problem:<br>\n",
    "<br>\n",
    "$P(S|+) = \\frac{P(+|S)P(S)}{P(+)}$\n",
    "<br>"
   ]
  },
  {
   "cell_type": "markdown",
   "id": "adb4d0ae-42c4-46d6-a5c6-d03956cb076e",
   "metadata": {},
   "source": [
    "Here, $P(S)$ is the prior probability. It is the probability that the patient is sick in the first place, **before** we even were thinking about taking the test. $P(S)$ is called *prevalence* and can be looked up in studies. Usually $P(S)$ is pretty low for most cancer types, but also could be higher for diseases like Alzheimers, depending on the age of the patient.<br>\n",
    "Since we are testing for a specific disease, $P(S)$ can be looked up and the value is, say $P(S) = 0.0001$ in our case."
   ]
  },
  {
   "cell_type": "markdown",
   "id": "8270ba84-c905-4b52-b63d-cc4af6d45df3",
   "metadata": {},
   "source": [
    "The next step is to take care about $P(+)$, the probability to get a positive test result. Here, we have to apply **marginalization**. There are two paths which lead to that result: either the patient is healthy and the test result is just a **false positive** (which becomes more likely the more sensitive the test is), or the patient is indeed sick. Hence:<br>\n",
    "<br>\n",
    "$P(+) = P(+|S)P(S)\\,+\\,P(+|H)P(H)$<br>\n",
    "<br>\n",
    "where $P(H)\\,+\\,P(S) = 1$"
   ]
  },
  {
   "cell_type": "markdown",
   "id": "78876a38-5599-4e8e-86df-1b212986d4d3",
   "metadata": {},
   "source": [
    "The value for $P(+|H)$, the **false positive rate**, is usually also known from studies and is identical to the so called **p-value** in this case. The threshold is usually set arbitrarily to $P(+|H) = 0.01$.<br>\n",
    "Now, we have all the variables we need:"
   ]
  },
  {
   "cell_type": "markdown",
   "id": "3fe7890c-6d45-4855-a416-8d95d6667fc5",
   "metadata": {},
   "source": [
    "<br>\n",
    "$P(S|+) = \\frac{P(+|S)P(S)}{P(+|S)P(S)\\,+\\,P(+|H)P(H)} = \\frac{1}{1+ \\frac{P(+|H)P(H)}{P(+|S)P(S)}} = \\frac{1}{1+ \\frac{P(+|H)\\left[1-P(S)\\right]}{P(+|S)P(S)}}$\n",
    "<br>"
   ]
  },
  {
   "cell_type": "markdown",
   "id": "5b6ea490-9e25-424d-b414-adc663102df6",
   "metadata": {},
   "source": [
    "Let's do the math:<br>\n",
    "<br>\n",
    "$P(S|+) =  \\frac{1}{1+ \\frac{0.01\\,(1 - 0.0001)}{0.95\\,0.0001}} \\approx 1\\%$\n",
    "<br>"
   ]
  },
  {
   "cell_type": "markdown",
   "id": "809e0368-1c2e-47a7-9431-0d37a2717693",
   "metadata": {},
   "source": [
    "That is good news! Eventhough the test might be very accurate (high $P(+|S)$), a positive test result does not mean that the patient is sick. Looking at the above equation we see that $P(S|+)$ is so low because the prior $P(S)$ is very small. That is the mathematical reason why unsubstantiated screening for rare diseases is useless, even if the procedure itself is harmless.<br>\n",
    "However, when having a particular reason, i.e. a symptom, then $P(S)$ changes. Say, you have an obese elderly person with backpain, $P(S)$ for say pancreatic cancer increases by orders of magnitude. We have some **biased prior knowledge** - the symptom. Now, with that symptom, we could in principle return to Bayes' Theorem and apply it to the last equation (see next lecture)."
   ]
  }
 ],
 "metadata": {
  "kernelspec": {
   "display_name": "Python 3 (ipykernel)",
   "language": "python",
   "name": "python3"
  },
  "language_info": {
   "codemirror_mode": {
    "name": "ipython",
    "version": 3
   },
   "file_extension": ".py",
   "mimetype": "text/x-python",
   "name": "python",
   "nbconvert_exporter": "python",
   "pygments_lexer": "ipython3",
   "version": "3.11.7"
  }
 },
 "nbformat": 4,
 "nbformat_minor": 5
}
