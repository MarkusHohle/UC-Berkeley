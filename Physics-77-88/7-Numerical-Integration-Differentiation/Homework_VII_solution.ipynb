{
 "cells": [
  {
   "attachments": {},
   "cell_type": "markdown",
   "id": "5bdb5bb3-ebaf-40c2-8195-764b35260fa7",
   "metadata": {},
   "source": [
    "# Physics 77/88 - Fall 2024 - Homework 7 \n",
    "## Monte-Carlo Simulation and Numerical Integration\n",
    "*Submit this notebook to bCourses to receive a credit for this assignment.*\n",
    "<br>\n",
    "due: **Nov 7th 2024** \n",
    "<br>\n",
    "**Please upload both, the .ipynb file and the corresponding .pdf**\n",
    "<br>\n",
    "## Total: 25P"
   ]
  },
  {
   "cell_type": "markdown",
   "id": "19a4772d-a2b7-4030-9795-cdbd1e812f86",
   "metadata": {},
   "source": [
    "In the lecture, we showed how a **M**onte-**C**arlo **S**imulation (**MCS**) can be used for estimating $\\pi$. A MSC can also be used for estimating an integral numerically, even if the object of which the integral has to be calculated is high dimensional.<br>\n",
    "<br>\n",
    "Consider the volume $V$ of a $N$ dimensional *hypersphere* or *N-ball* of radius $R$:<br>\n",
    "<br>\n",
    "$V_N(R) = \\frac{\\pi^{N/2}}{\\Gamma(\\frac{N}{2}+1)}\\,R^N$  $\\;\\;\\;\\;\\;\\;\\;\\;\\;\\;\\;\\;\\;\\;\\;\\;\\;\\;\\;\\;\\;\\;\\;\\;$                    1)<br>\n",
    "<br>\n",
    "Here, $\\Gamma(x)$ is Euler's gamma function. Note, that for solving the problem, **no knowledge about the gamma function is needed**. In Python, we can import the gamma function via:"
   ]
  },
  {
   "cell_type": "code",
   "execution_count": null,
   "id": "70546bd3-93d2-4cac-b58e-4bc27a14cba0",
   "metadata": {},
   "outputs": [],
   "source": [
    "import math\n",
    "N = 3\n",
    "Result = math.gamma(N/2 + 1)"
   ]
  },
  {
   "cell_type": "markdown",
   "id": "f15bfc95-4ecb-495d-b0e4-d8ab90344ee0",
   "metadata": {},
   "source": [
    "As an estimate, the values for the volumes of the following $N$ are:<br>\n",
    "<br>\n",
    "$N = 2$: $V =\\pi\\,R^2 \\approx 3.142\\,R^2$<br>\n",
    "$N = 3$: $V = \\frac{4}{3}\\pi\\,R^3 \\approx 4.189\\,R^3$<br>\n",
    "$N = 4$: $V \\approx 4.935\\,R^4$<br>\n",
    "$N = 5$: $V \\approx 5.264\\,R^5$<br>\n",
    "<br>\n",
    "and so on.<br>\n",
    "<br>\n",
    "See also https://en.wikipedia.org/wiki/Volume_of_an_n-ball"
   ]
  },
  {
   "cell_type": "markdown",
   "id": "674c5555-fd8c-4943-aedc-762c8f22d281",
   "metadata": {},
   "source": [
    "The goal of the homework assignment is to learn how to apply a concept that has been introduced during the lecture for a more general case. Also, hyperspheres play an important role in Statistical Physics.  "
   ]
  },
  {
   "cell_type": "markdown",
   "id": "1b10e915-9608-4f27-8c99-0b3638448df6",
   "metadata": {},
   "source": [
    "## Problem 1 (20P)"
   ]
  },
  {
   "cell_type": "markdown",
   "id": "406b8877-31a8-4bc8-af2c-6333242463fc",
   "metadata": {},
   "source": [
    "Write the function **MC_ND_Sphere** using *def* that takes the number $M$ of sampling points, the number of dimensions $N$ and $R$, the radius as input arguments and approximates the volume of a $N$-dimensional hypersphere via a MCS.<br> \n",
    "The function should return the approximated **mean value** after 100 runs and the **standard deviation** as well as the **exact value from equation 1)**. You can use the MCS code from the lecture as backbone for your code.<br> "
   ]
  },
  {
   "cell_type": "markdown",
   "id": "3b6fe285-94a0-4fc3-9ba1-5019e9d3703e",
   "metadata": {},
   "source": [
    "<br>"
   ]
  },
  {
   "cell_type": "code",
   "execution_count": 1,
   "id": "fcf81ff5-48e7-4046-afc1-473accb8c18b",
   "metadata": {},
   "outputs": [],
   "source": [
    "import math\n",
    "import numpy as np\n",
    "import matplotlib.pyplot as plt\n",
    "\n",
    "\n",
    "def MC_ND_Sphere(M, N, R = 2):\n",
    "    \n",
    "    #exact solution\n",
    "    V = np.pi**(N/2) * (R**N)/ math.gamma(N/2 + 1)\n",
    "    \n",
    "    #numerical solution\n",
    "    Volumes = np.zeros((100))\n",
    "    for i in range(100):\n",
    "        \n",
    "        Rand = np.random.uniform(-R,R,(M,N))\n",
    "        \n",
    "        Radius = 0\n",
    "        for r in range(N):\n",
    "            Radius += Rand[:,r]**2\n",
    "            \n",
    "        Volumes[i] = (np.sqrt(Radius) < R).sum()/M\n",
    "        \n",
    "    V_MC       = Volumes * (2*R)**N\n",
    "    V_MC_mean  = V_MC.mean()\n",
    "    V_MC_error = V_MC.std()\n",
    "    \n",
    "    return V, V_MC_mean, V_MC_error"
   ]
  },
  {
   "cell_type": "markdown",
   "id": "df0eba2d-c20b-432b-91aa-8343665e4fd9",
   "metadata": {},
   "source": [
    "## Problem 2 (5P)"
   ]
  },
  {
   "cell_type": "markdown",
   "id": "47a4b00a-b6c8-4bd7-a4e0-9890ebcc3eaf",
   "metadata": {},
   "source": [
    "Call the function for five or six different values of $N$ using *map*. How do you need to change the number of sampling points in order to maintain **roughly** the same accuracy for the different $N$? Generate a plot of your result. The plot should look similar to:"
   ]
  },
  {
   "cell_type": "code",
   "execution_count": 23,
   "id": "3781fee0-66da-4ed7-996d-d74af93ecf7c",
   "metadata": {},
   "outputs": [
    {
     "data": {
      "image/png": "[encoded data removed]",
      "text/plain": [
       "<Figure size 640x480 with 1 Axes>"
      ]
     },
     "metadata": {},
     "output_type": "display_data"
    }
   ],
   "source": [
    "N_array = np.arange(2,10)\n",
    "M_array = 4**N_array\n",
    "\n",
    "Res = list(map(MC_ND_Sphere, M_array, N_array))\n",
    "Res = np.array(Res)\n",
    "\n",
    "plt.plot(N_array, Res[:,0], '-', c = 'r', linewidth = 3, label = 'Exact Value', alpha = 0.2)\n",
    "plt.scatter(N_array, Res[:,1], marker = 'o', s = 10, c = 'black')\n",
    "plt.errorbar(N_array, Res[:,1], Res[:,2], fmt='none', c = 'black', label = 'Approximation')\n",
    "plt.xlabel('Number of Dimensions N')\n",
    "plt.ylabel('Volume')\n",
    "plt.legend()\n",
    "plt.show()"
   ]
  },
  {
   "cell_type": "code",
   "execution_count": null,
   "id": "cfe87d1b-b387-4404-93da-7b8f0da7dbea",
   "metadata": {},
   "outputs": [],
   "source": []
  }
 ],
 "metadata": {
  "kernelspec": {
   "display_name": "Python 3 (ipykernel)",
   "language": "python",
   "name": "python3"
  },
  "language_info": {
   "codemirror_mode": {
    "name": "ipython",
    "version": 3
   },
   "file_extension": ".py",
   "mimetype": "text/x-python",
   "name": "python",
   "nbconvert_exporter": "python",
   "pygments_lexer": "ipython3",
   "version": "3.11.7"
  }
 },
 "nbformat": 4,
 "nbformat_minor": 5
}
