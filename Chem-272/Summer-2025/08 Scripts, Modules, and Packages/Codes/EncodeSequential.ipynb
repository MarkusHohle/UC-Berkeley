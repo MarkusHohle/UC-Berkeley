{
 "cells": [
  {
   "cell_type": "code",
   "execution_count": 31,
   "id": "48589d87-4ffc-45a4-b460-bb944e130114",
   "metadata": {},
   "outputs": [],
   "source": [
    "import numpy as np\n",
    "import seaborn as sns"
   ]
  },
  {
   "cell_type": "code",
   "execution_count": 33,
   "id": "24589a09-9d5a-4579-87cb-467d0b411507",
   "metadata": {},
   "outputs": [],
   "source": [
    "NT      = ['A', 'C', 'G', 'T']\n",
    "Code    = [[1,0,0,0], [0,1,0,0], [0,0,1,0], [0,0,0,1]] \n",
    "Dict    = {key: value for key, value in zip(NT,Code)}\n",
    "Encoder = lambda Sequence: [Dict[s] for s in Sequence]"
   ]
  },
  {
   "cell_type": "code",
   "execution_count": 35,
   "id": "6739403a-4567-466d-b925-1b44612c9598",
   "metadata": {},
   "outputs": [],
   "source": [
    "Seq = 'AACTCGTCTGACCTGTCGTATTGGCA'"
   ]
  },
  {
   "cell_type": "code",
   "execution_count": 37,
   "id": "4dce43df-56f6-4651-bccd-2734336ed027",
   "metadata": {},
   "outputs": [],
   "source": [
    "E = np.array(Encoder(Seq)).transpose()"
   ]
  },
  {
   "cell_type": "code",
   "execution_count": 39,
   "id": "3636585b-7f58-438c-ab93-bbab79e15b1d",
   "metadata": {},
   "outputs": [
    {
     "name": "stdout",
     "output_type": "stream",
     "text": [
      "[[1 1 0 0 0 0 0 0 0 0 1 0 0 0 0 0 0 0 0 1 0 0 0 0 0 1]\n",
      " [0 0 1 0 1 0 0 1 0 0 0 1 1 0 0 0 1 0 0 0 0 0 0 0 1 0]\n",
      " [0 0 0 0 0 1 0 0 0 1 0 0 0 0 1 0 0 1 0 0 0 0 1 1 0 0]\n",
      " [0 0 0 1 0 0 1 0 1 0 0 0 0 1 0 1 0 0 1 0 1 1 0 0 0 0]]\n"
     ]
    }
   ],
   "source": [
    "print(E)"
   ]
  },
  {
   "cell_type": "code",
   "execution_count": 41,
   "id": "a9eaf585-0308-49b0-b656-eb1d94b488c4",
   "metadata": {},
   "outputs": [
    {
     "data": {
      "text/plain": [
       "<Axes: >"
      ]
     },
     "execution_count": 41,
     "metadata": {},
     "output_type": "execute_result"
    },
    {
     "data": {
      "image/png": "[encoded data removed]",
      "text/plain": [
       "<Figure size 640x480 with 2 Axes>"
      ]
     },
     "metadata": {},
     "output_type": "display_data"
    }
   ],
   "source": [
    "sns.heatmap(E, cmap = \"Blues\", xticklabels = list(Seq), yticklabels=[None]*4)"
   ]
  },
  {
   "cell_type": "code",
   "execution_count": null,
   "id": "a35eecf3-f0e6-48fb-a85a-7215972cdd24",
   "metadata": {},
   "outputs": [],
   "source": []
  }
 ],
 "metadata": {
  "kernelspec": {
   "display_name": "Python 3 (ipykernel)",
   "language": "python",
   "name": "python3"
  },
  "language_info": {
   "codemirror_mode": {
    "name": "ipython",
    "version": 3
   },
   "file_extension": ".py",
   "mimetype": "text/x-python",
   "name": "python",
   "nbconvert_exporter": "python",
   "pygments_lexer": "ipython3",
   "version": "3.11.7"
  }
 },
 "nbformat": 4,
 "nbformat_minor": 5
}
