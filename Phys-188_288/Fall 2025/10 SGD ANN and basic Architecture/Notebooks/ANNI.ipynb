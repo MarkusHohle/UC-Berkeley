{
 "cells": [
  {
   "cell_type": "markdown",
   "id": "aafc06e9-e354-4534-b8b7-cbb2b24c0096",
   "metadata": {},
   "source": [
    "## Building a fully functional ANN I"
   ]
  },
  {
   "cell_type": "markdown",
   "id": "1e73d9ac-ae6e-4580-ba60-b6987ded86e2",
   "metadata": {},
   "source": [
    "**0) Loading and Preparing Data**"
   ]
  },
  {
   "cell_type": "markdown",
   "id": "5f0f7e48-47fd-4b33-8e55-467fbdaeb8ab",
   "metadata": {},
   "source": [
    "Importing libraries:"
   ]
  },
  {
   "cell_type": "code",
   "execution_count": null,
   "id": "d2375136-822f-464d-9cec-94b072310497",
   "metadata": {},
   "outputs": [],
   "source": [
    "import numpy as np\n",
    "import seaborn as sns\n",
    "import matplotlib.pyplot as plt\n",
    "\n",
    "#importing the spiral data set \n",
    "#pip install nnfs\n",
    "from nnfs.datasets import spiral_data"
   ]
  },
  {
   "cell_type": "markdown",
   "id": "e25113b3-5738-4fa9-a876-66100c534c41",
   "metadata": {},
   "source": [
    "<br>"
   ]
  },
  {
   "cell_type": "markdown",
   "id": "ff5729ea-c3f8-470a-8763-04acc0fb881d",
   "metadata": {},
   "source": [
    "Importing the spiral dataset (Nsamples for each class):"
   ]
  },
  {
   "cell_type": "code",
   "execution_count": null,
   "id": "22523517-ea4d-49de-934d-115c4e11fbc0",
   "metadata": {},
   "outputs": [],
   "source": [
    "Nsample  = 300\n",
    "Nclasses = 5\n",
    "[X, Y]   = spiral_data(samples = Nsample, classes = Nclasses)"
   ]
  },
  {
   "cell_type": "markdown",
   "id": "18a13b41-ae4b-4d49-a8fa-f47a9a5034f1",
   "metadata": {},
   "source": [
    "Plotting the dataset:"
   ]
  },
  {
   "cell_type": "code",
   "execution_count": null,
   "id": "e58cf14b-fdf5-46e3-bd10-4a31aa9e8f8c",
   "metadata": {},
   "outputs": [],
   "source": [
    "for n in range(Nclasses):\n",
    "    idx   = np.argwhere(Y == n)[:,0]\n",
    "    xplot = X[idx,0]\n",
    "    yplot = X[idx,1]\n",
    "    plt.scatter(xplot, yplot, marker = '.', color = [1/(n+1), n/Nclasses, 2/(2*n + 3)], label = 'class ' + str(n))\n",
    "plt.legend()\n",
    "plt.show()"
   ]
  },
  {
   "cell_type": "code",
   "execution_count": null,
   "id": "7226231e-f733-410e-817a-8b179bc48127",
   "metadata": {},
   "outputs": [],
   "source": [
    "print(Y)"
   ]
  },
  {
   "cell_type": "code",
   "execution_count": null,
   "id": "f366a9f1-e69c-4033-aef5-1bd44d13651c",
   "metadata": {},
   "outputs": [],
   "source": [
    "print(X[:10,:])"
   ]
  },
  {
   "cell_type": "markdown",
   "id": "a504e415-4c41-4211-aaec-5f6f5b339cb1",
   "metadata": {},
   "source": [
    "Expecially if the data clouds have a complex shape like this, standard ML tools (k-means, SVM etc) fail. Thererore, pretty much the only choice is an ANN.<br>\n",
    "Let us first define all the tools we need for an ANN:<br>\n",
    "<br>"
   ]
  },
  {
   "cell_type": "markdown",
   "id": "3b31be37-2562-4c41-a42f-61e847596224",
   "metadata": {},
   "source": [
    "**1) Defining all the Parts we need for an ANN**<br>\n",
    "<br>\n",
    "We start with defining the dense layer:"
   ]
  },
  {
   "cell_type": "code",
   "execution_count": null,
   "id": "a8d64f5e-81b8-4e19-b51a-2a90ea9734d8",
   "metadata": {},
   "outputs": [],
   "source": [
    "class Layer_Dense():\n",
    "    \n",
    "    def __init__(self, n_inputs, n_neurons):\n",
    "        self.weights = np.random.randn(n_inputs, n_neurons)\n",
    "        self.biases  = np.zeros((1, n_neurons))\n",
    "        \n",
    "    def forward(self, inputs):\n",
    "        self.output  = np.dot(inputs, self.weights) + self.biases\n",
    "        self.inputs  = inputs"
   ]
  },
  {
   "cell_type": "markdown",
   "id": "0f1f4c3d-ca8b-4a81-9c94-1976b49fad6b",
   "metadata": {},
   "source": [
    "Furthermore, we want to have some flexibility concerning the activation functions and therefore define a *ReLU* layer and a *sigmoid layer*:"
   ]
  },
  {
   "cell_type": "code",
   "execution_count": null,
   "id": "a3a526a2-5985-4794-b640-24aa98363a0f",
   "metadata": {},
   "outputs": [],
   "source": [
    "class Activation_ReLU():\n",
    "    \n",
    "    def forward(self, inputs):\n",
    "        self.output  = np.maximum(0, inputs)\n",
    "        self.inputs  = inputs"
   ]
  },
  {
   "cell_type": "code",
   "execution_count": null,
   "id": "ba2c5ea0-af12-4c15-8a62-4452d6950a9f",
   "metadata": {},
   "outputs": [],
   "source": [
    "class Activation_Sigmoid():\n",
    "        \n",
    "    def forward(self, inputs):\n",
    "        self.output = np.clip(1/(1 + np.exp(-inputs)), 1e-7, 1-1e-7)\n",
    "        self.inputs = inputs"
   ]
  },
  {
   "cell_type": "markdown",
   "id": "0248279e-90d6-41da-be06-fb24e1cba3b2",
   "metadata": {},
   "source": [
    "<br>"
   ]
  },
  {
   "cell_type": "markdown",
   "id": "496638a8-fba2-4846-ba6f-9b84eaf84423",
   "metadata": {},
   "source": [
    "**2) The ANN**"
   ]
  },
  {
   "cell_type": "markdown",
   "id": "5447e23a-d3cf-4bd3-b0e5-43cf9060e011",
   "metadata": {},
   "source": [
    "In the next step, we call the different instances of the layers and stack them togehter to a *serial ANN*."
   ]
  },
  {
   "cell_type": "code",
   "execution_count": null,
   "id": "61b6b8ca-4aaa-4675-9945-55bfb1fb1b8a",
   "metadata": {},
   "outputs": [],
   "source": [
    "Nneurons1 = 64\n",
    "Nfeatures = X.shape[1]\n",
    "\n",
    "dense1    = Layer_Dense(Nfeatures, Nneurons1)\n",
    "dense_reg = Layer_Dense(Nneurons1, 1)        #for regression: one value for each data point\n",
    "dense_cla = Layer_Dense(Nneurons1, Nclasses) #for classification: Nclasses values (later: probability for each class) for each data point"
   ]
  },
  {
   "cell_type": "code",
   "execution_count": null,
   "id": "0669d02a-c0af-422d-ae07-9617840a0c2d",
   "metadata": {},
   "outputs": [],
   "source": [
    "ReLU      = Activation_ReLU()\n",
    "Sigm      = Activation_Sigmoid()"
   ]
  },
  {
   "cell_type": "markdown",
   "id": "cb9f4759-ecdf-4d7c-af79-c4061d9a2289",
   "metadata": {},
   "source": [
    "As a first test, let us run the input matrix X through the network:"
   ]
  },
  {
   "cell_type": "code",
   "execution_count": null,
   "id": "fd39d651-2cef-432b-8b0b-ba95c91c6c9b",
   "metadata": {},
   "outputs": [],
   "source": [
    "dense1.forward(X)\n",
    "ReLU.forward(dense1.output)\n",
    "dense_reg.forward(ReLU.output)"
   ]
  },
  {
   "cell_type": "code",
   "execution_count": null,
   "id": "6833dc3e-6647-4a16-b770-983fecaa88aa",
   "metadata": {},
   "outputs": [],
   "source": [
    "dense_cla.forward(ReLU.output)"
   ]
  },
  {
   "cell_type": "markdown",
   "id": "7d3dfc07-7c8f-4cda-9a6c-35793d1dfa01",
   "metadata": {},
   "source": [
    "We make sure that the shape of the outputs is correct: "
   ]
  },
  {
   "cell_type": "code",
   "execution_count": null,
   "id": "4a9c5798-78ef-404c-912d-1e02b5b761bd",
   "metadata": {},
   "outputs": [],
   "source": [
    "X.shape #Ndatapoints x Nfeatures"
   ]
  },
  {
   "cell_type": "code",
   "execution_count": null,
   "id": "54f35e54-1298-4667-aaa8-75707c0895f4",
   "metadata": {},
   "outputs": [],
   "source": [
    "dense1.output.shape #Ndatapoints x Nneurons "
   ]
  },
  {
   "cell_type": "code",
   "execution_count": null,
   "id": "8be44e36-1b48-499c-93b3-4b6371ffeee2",
   "metadata": {},
   "outputs": [],
   "source": [
    "dense1.weights.shape #Nfeatures x Nneurons"
   ]
  },
  {
   "cell_type": "code",
   "execution_count": null,
   "id": "04fa0ad7-cff8-4ca1-9624-f98d391f5f85",
   "metadata": {},
   "outputs": [],
   "source": [
    "dense1.biases.shape #1 x Nneurons"
   ]
  },
  {
   "cell_type": "markdown",
   "id": "a39e7746-7971-47ab-98af-08a00ee15a84",
   "metadata": {},
   "source": [
    "The activation functions do not change the shape of their input."
   ]
  },
  {
   "cell_type": "code",
   "execution_count": null,
   "id": "af1a08b9-9b85-40b1-aa1f-a284331ee590",
   "metadata": {},
   "outputs": [],
   "source": [
    "print(dense1.output.shape)\n",
    "print(ReLU.output.shape)"
   ]
  }
 ],
 "metadata": {
  "kernelspec": {
   "display_name": "Python 3 (ipykernel)",
   "language": "python",
   "name": "python3"
  },
  "language_info": {
   "codemirror_mode": {
    "name": "ipython",
    "version": 3
   },
   "file_extension": ".py",
   "mimetype": "text/x-python",
   "name": "python",
   "nbconvert_exporter": "python",
   "pygments_lexer": "ipython3",
   "version": "3.11.7"
  }
 },
 "nbformat": 4,
 "nbformat_minor": 5
}
