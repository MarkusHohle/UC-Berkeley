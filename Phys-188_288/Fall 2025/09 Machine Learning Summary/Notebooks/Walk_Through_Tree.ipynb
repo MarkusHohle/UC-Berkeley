{
 "cells": [
  {
   "cell_type": "markdown",
   "id": "99ed50b5-0671-4f0a-bfbf-d15c3ff60268",
   "metadata": {},
   "source": [
    "## Example Trees in Python<br>\n",
    "<br>"
   ]
  },
  {
   "cell_type": "markdown",
   "id": "7d3647e1-8ea4-4f8b-ba78-572286a0f6ef",
   "metadata": {},
   "source": [
    "**0) Loading Libraries**<br>\n",
    "<br>"
   ]
  },
  {
   "cell_type": "code",
   "execution_count": null,
   "id": "2b56a29e-7a84-4d94-9077-48c796eea09b",
   "metadata": {},
   "outputs": [],
   "source": [
    "#standard libraries\n",
    "import pandas as pd\n",
    "import matplotlib.pyplot as plt\n",
    "import seaborn as sns"
   ]
  },
  {
   "cell_type": "code",
   "execution_count": null,
   "id": "00238aa7-5e3a-48b1-94b7-9a57998b0c96",
   "metadata": {},
   "outputs": [],
   "source": [
    "#pip install BioPython if necessary\n",
    "from scipy import spatial            #for turning matrices into square forms\n",
    "from Bio.Phylo.TreeConstruction import DistanceCalculator, DistanceTreeConstructor\n",
    "from Bio import Phylo                #for constructing a pylogenetic tree"
   ]
  },
  {
   "cell_type": "code",
   "execution_count": null,
   "id": "58086008-ee31-4645-b012-f43b0ba633b6",
   "metadata": {},
   "outputs": [],
   "source": [
    "from ReadMyFasta import ReadMyFasta  #a subroutine that reads the data (actually just text files, but called \"fasta\" in the lifescience community)    "
   ]
  },
  {
   "cell_type": "code",
   "execution_count": null,
   "id": "4d9c3d2a-dab9-4ab6-978a-88bdeefd017b",
   "metadata": {},
   "outputs": [],
   "source": [
    "import warnings\n",
    "warnings.filterwarnings('ignore')    #we also want to ignore some irrelevant warnings"
   ]
  },
  {
   "cell_type": "markdown",
   "id": "82a61616-0928-453d-b391-930aeccbe782",
   "metadata": {},
   "source": [
    "<br>"
   ]
  },
  {
   "cell_type": "markdown",
   "id": "086b5bf8-9220-4bf3-b9ea-fc462daaffe9",
   "metadata": {},
   "source": [
    "**1) Loading and Inspecting the Data**<br>\n",
    "<br>"
   ]
  },
  {
   "cell_type": "code",
   "execution_count": null,
   "id": "d4caeff5-3547-4562-a8ca-2e4b6e631e2d",
   "metadata": {},
   "outputs": [],
   "source": [
    "[N, S, ToAlign] = ReadMyFasta('cytochromeC.txt') #loading the data"
   ]
  },
  {
   "cell_type": "code",
   "execution_count": null,
   "id": "14f9dd46-e5fd-4716-8963-660caa77c8d6",
   "metadata": {},
   "outputs": [],
   "source": [
    "print(N) #list of samples"
   ]
  },
  {
   "cell_type": "code",
   "execution_count": null,
   "id": "18be24dd-3652-47bc-af8a-b07b6404e051",
   "metadata": {},
   "outputs": [],
   "source": [
    "print(S) #the sequences themself (here AA sequence)"
   ]
  },
  {
   "cell_type": "code",
   "execution_count": null,
   "id": "6f26eeb1-f930-4b35-a648-a13f601a0190",
   "metadata": {
    "scrolled": true
   },
   "outputs": [],
   "source": [
    "print(ToAlign) #an object needed by BioPy. It essentially contains the same information as N and S"
   ]
  },
  {
   "cell_type": "markdown",
   "id": "9a9cb9d4-b3cf-41b2-9712-d90a8e7eb769",
   "metadata": {},
   "source": [
    "<br>"
   ]
  },
  {
   "cell_type": "markdown",
   "id": "2a7ec823-87d9-4346-8609-a768cacff996",
   "metadata": {},
   "source": [
    "You might also want to explore the other datasets: "
   ]
  },
  {
   "cell_type": "code",
   "execution_count": null,
   "id": "1cc68f26-9745-4a05-9578-e4d8d4ec7381",
   "metadata": {},
   "outputs": [],
   "source": [
    "#[N, S, ToAlign] = ReadMyFasta('c-myc_AA.txt') #another AA sequence\n",
    "#[N, S, ToAlign] = ReadMyFasta('pax8gene.txt') #DNA (= NT) sequence "
   ]
  },
  {
   "cell_type": "markdown",
   "id": "1bc39cb9-d705-49e5-9762-a683f731739c",
   "metadata": {},
   "source": [
    "<br>"
   ]
  },
  {
   "cell_type": "markdown",
   "id": "392113a3-021c-481c-a3ed-f47238b6fcfb",
   "metadata": {},
   "source": [
    "**2) Calculating the Distances**<br>\n",
    "<br>"
   ]
  },
  {
   "cell_type": "markdown",
   "id": "7dfe1ad3-e125-408d-a768-b5712d3fd389",
   "metadata": {},
   "source": [
    "Before we can construct the tree, we need to calculate the distance between all the samples. Since we are dealing with amino acids (AAs) or nucleotides (NTs) here, **an Euclidean distance doesn't make any sense**. Instead, the distance is calculated based on the **fraction of different sites** in the sequence, the **Jukes-Cantor distance**. However, we also need to take into account that replacing an AA or NT in the sequence strongly depends on the chemical properties. In some case, some AAs might be chemically similar and replacing them is very likely (for example Leucine and Isoleucine). In other cases however the chemical properties are completely different (Glycine vs Tryptophan) and having had them replaced with eachother is more significant (i. e. the distance should be larger).<br>\n",
    "In order to take these differences into account, we need to load a so-called **score matrix**. There are dozends of different score matrices available. Depending on the evolutionary distance within the samples, some score matrices might be better suited than others.<br>\n",
    "In order to get an impression of the variety of score matrices, we just print the models:"
   ]
  },
  {
   "cell_type": "code",
   "execution_count": null,
   "id": "7027b8bc-d6b6-44eb-984f-f6831c572036",
   "metadata": {},
   "outputs": [],
   "source": [
    "print(DistanceCalculator.models)"
   ]
  },
  {
   "cell_type": "markdown",
   "id": "3fcb5a96-f25e-407d-9526-f68a4945f373",
   "metadata": {},
   "source": [
    "<br>"
   ]
  },
  {
   "cell_type": "markdown",
   "id": "adb0d5e3-0157-454a-9b0c-e9dad2bc2f78",
   "metadata": {},
   "source": [
    "Next, we calculate the distance, by first calling one model. Note, the score matrices are either applicable for AAs **or** NTs, not both at the same time."
   ]
  },
  {
   "cell_type": "code",
   "execution_count": null,
   "id": "6f856e41-55ac-4cf8-8d0e-277848a4a425",
   "metadata": {},
   "outputs": [],
   "source": [
    "calc   = DistanceCalculator('blosum62', skip_letters=('.'))\n",
    "DistMa = calc.get_distance(ToAlign)"
   ]
  },
  {
   "cell_type": "markdown",
   "id": "b8140c76-d7f8-4632-a29c-abf7b5a15f2a",
   "metadata": {},
   "source": [
    "<br>"
   ]
  },
  {
   "cell_type": "markdown",
   "id": "73a3291f-dc5e-4d45-a929-424334bba3dd",
   "metadata": {},
   "source": [
    "Per default, the distance matrix *DistMa* doesn't have the square form which is nicely readable for humans. Therefore, we turn it into a square form and then plot it using *sns.heatmap*:"
   ]
  },
  {
   "cell_type": "code",
   "execution_count": null,
   "id": "876a2fdd-b846-45f9-8762-64238c9bc094",
   "metadata": {},
   "outputs": [],
   "source": [
    "D    = spatial.distance.squareform(DistMa)\n",
    "D    = spatial.distance.squareform(D)\n",
    "D_df = pd.DataFrame(D, columns = DistMa.names)\n",
    "\n",
    "sns.heatmap(D_df, square = True,  cmap = \"Blues\", \\\n",
    "            yticklabels = DistMa.names)\n",
    "plt.show()"
   ]
  },
  {
   "cell_type": "markdown",
   "id": "de04ee5b-c3fb-4a0c-9e60-59b9a77afa22",
   "metadata": {},
   "source": [
    "<br>"
   ]
  },
  {
   "cell_type": "markdown",
   "id": "51233878-8641-44a9-b705-a562f53a417a",
   "metadata": {},
   "source": [
    "**3) Constructing the Tree**<br>\n",
    "<br>"
   ]
  },
  {
   "cell_type": "markdown",
   "id": "e280ee9b-56c0-437d-b292-a937b9697fdc",
   "metadata": {},
   "source": [
    "We are now ready to construct and plot the tree."
   ]
  },
  {
   "cell_type": "code",
   "execution_count": null,
   "id": "7d7e3531-72f1-49a5-8e95-3a45aab0c05d",
   "metadata": {},
   "outputs": [],
   "source": [
    "constructor = DistanceTreeConstructor()\n",
    "UPGMATree   = constructor.upgma(DistMa)\n",
    "Phylo.draw(UPGMATree)"
   ]
  },
  {
   "cell_type": "markdown",
   "id": "a93dffe0-9e81-4751-af8c-2a60990600e0",
   "metadata": {},
   "source": [
    "We note that the tree makes sense for most species, but not all. There are many reasons, why the tree is not perfect:<br>\n",
    "- If we use AAs instead of NTs, then we run into the problem that mapping from AAs to NTs is not unique (see **codons**) and so is the tree.<br>\n",
    "- The sequences are not complete. There are gaps and the fragments might have originated from different parts of the complete sequence.<br>\n",
    "- We look at only one gene or protein sequence. That is only a tiny speck of information that makes a species.<br>"
   ]
  },
  {
   "cell_type": "markdown",
   "id": "6c8ba23d-0a8e-4790-ab81-dab09fc7d429",
   "metadata": {},
   "source": [
    "Another problem is that the species are evolutionarily very distant. One can partly account for that by applying the **Neighbour - Joining (NJ)** correction. Often, it is called NJ - distance, but the result is mathematically not a distance at al.  "
   ]
  },
  {
   "cell_type": "code",
   "execution_count": null,
   "id": "30828a2f-0187-4096-aaf0-191ea60c1217",
   "metadata": {},
   "outputs": [],
   "source": [
    "NJTree      = constructor.nj(DistMa) #Neighbour - Joining correction\n",
    "Phylo.draw(NJTree)"
   ]
  },
  {
   "cell_type": "markdown",
   "id": "70d7ce1c-e37f-4089-adcc-70a9b695f133",
   "metadata": {},
   "source": [
    "In our case it might not really work, for the reasons mentioned before.<br>\n",
    "<br>\n",
    "Note, that some heatmap tools have a limited capability to cluster sample."
   ]
  },
  {
   "cell_type": "code",
   "execution_count": null,
   "id": "1172bb8b-851d-4564-81b7-baeea57036fb",
   "metadata": {},
   "outputs": [],
   "source": [
    "sns.clustermap(D_df, cmap = \"Blues\", row_cluster = True, col_cluster = True,\\\n",
    "               metric = 'euclidean', method = 'average', yticklabels = True,\\\n",
    "               xticklabels = True)\n",
    "plt.show()"
   ]
  },
  {
   "cell_type": "markdown",
   "id": "33eea5a4-945f-4566-9cbb-a39dfa2eaf83",
   "metadata": {},
   "source": [
    "The cluster method *average* equals UPGMA. There are other methods like "
   ]
  },
  {
   "cell_type": "code",
   "execution_count": null,
   "id": "42ab7a21-88dd-4a6e-8963-68e02970be17",
   "metadata": {},
   "outputs": [],
   "source": [
    "#(\"Single Linkage\", single),\n",
    "#(\"Average Linkage\", average), --> like UPGMA\n",
    "#(\"Complete Linkage\", complete),\n",
    "#(\"Ward Linkage\", ward)"
   ]
  },
  {
   "cell_type": "markdown",
   "id": "92db21b0-5e6b-4fa9-a4c5-0e49662aca67",
   "metadata": {},
   "source": [
    "available."
   ]
  },
  {
   "cell_type": "markdown",
   "id": "6d135924-e77d-4330-b2c5-d5e293c808c7",
   "metadata": {},
   "source": [
    "However, we usually can't employ a score matrix for calculating the distance in a proper way."
   ]
  }
 ],
 "metadata": {
  "kernelspec": {
   "display_name": "Python 3 (ipykernel)",
   "language": "python",
   "name": "python3"
  },
  "language_info": {
   "codemirror_mode": {
    "name": "ipython",
    "version": 3
   },
   "file_extension": ".py",
   "mimetype": "text/x-python",
   "name": "python",
   "nbconvert_exporter": "python",
   "pygments_lexer": "ipython3",
   "version": "3.11.7"
  }
 },
 "nbformat": 4,
 "nbformat_minor": 5
}
