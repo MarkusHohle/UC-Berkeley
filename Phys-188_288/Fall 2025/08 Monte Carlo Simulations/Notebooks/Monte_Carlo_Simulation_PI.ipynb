{
 "cells": [
  {
   "cell_type": "markdown",
   "id": "15aec831-ef86-4b50-ba40-f553314dbe7a",
   "metadata": {},
   "source": [
    "## Monte Carlo Simulation"
   ]
  },
  {
   "cell_type": "markdown",
   "id": "69f6e959-e0aa-45f9-b42c-7966bdb65372",
   "metadata": {},
   "source": [
    "A very common tool in physics is a so called **Monte Carlo Simulation (MCS)**. We want to carry out a MCS in order to estimate the number $\\pi$ (even though this is not the most efficient way to do so)."
   ]
  },
  {
   "cell_type": "markdown",
   "id": "4fe9fe10-50d0-48ad-aed6-88e3a11a8391",
   "metadata": {},
   "source": [
    "The idea is to generate uniformly distributed random numbers from 0 to 1 for two coordinates $x$ and $y$. We then select those numbers $N$ which satisfy the condition $x^2 + y^2 < 1$ and compare $N$ to the total number $N_{tot}$ of generated random numbers.<br>\n",
    "For large $N_{tot}$<br> \n",
    "<br>\n",
    "$N \\propto \\pi/4\\,\\, r^2$ and<br> \n",
    "$N_{tot} \\propto \\, r^2$<br>\n",
    "<br>\n",
    "where $r = 1$ since we only pick random numbers from 0 to 1."
   ]
  },
  {
   "cell_type": "code",
   "execution_count": null,
   "id": "54ef8854-b26f-44dd-a5dd-05eec29d07a4",
   "metadata": {},
   "outputs": [],
   "source": [
    "import numpy as np\n",
    "import matplotlib.pyplot as plt\n",
    "\n",
    "def CalcPi(N):\n",
    "    X = np.random.uniform(0,1,(N,1))\n",
    "    Y = np.random.uniform(0,1,(N,1))\n",
    "    R = X**2 + Y**2\n",
    "    PI = 4*(R< 1).sum()/N\n",
    "    \n",
    "    print(f\"Pi = {PI: 0.6f}\")\n",
    "\n",
    "    xplot = np.arange(0,1,1/1000)\n",
    "    yplot = np.sqrt(1 - xplot**2)\n",
    "    \n",
    "    plt.plot(xplot, yplot, 'r--')\n",
    "    plt.fill_between(xplot, yplot, facecolor = 'k', alpha = 0.12)\n",
    "    plt.scatter(X,Y, s = 1, c = 'k')\n",
    "    plt.show()"
   ]
  },
  {
   "cell_type": "markdown",
   "id": "f4d8cdc4-98a1-4c3e-a8fc-a6a92500a198",
   "metadata": {},
   "source": [
    "Let us run *CalcPi* for different $N$ and see how close it gets to the actual value of $\\pi$:"
   ]
  },
  {
   "cell_type": "code",
   "execution_count": null,
   "id": "43f3d7ea-3c17-43b4-8854-80dcd6955284",
   "metadata": {},
   "outputs": [],
   "source": [
    "CalcPi(50)"
   ]
  },
  {
   "cell_type": "markdown",
   "id": "03809f37-7603-49ad-8576-7eb349598e83",
   "metadata": {},
   "source": [
    "Now, we want to modify *CalcPi* so that we can run it many times (>100) for different $N = 10, 20, 50, 100, 200, 500, 1000, 2000, 5000, 10000$. How does the average value of $\\pi$ and its error change as a function of $N$?"
   ]
  },
  {
   "cell_type": "code",
   "execution_count": null,
   "id": "117a986a-c6be-46f8-9ec3-a31ff8712da1",
   "metadata": {},
   "outputs": [],
   "source": [
    "def CalcPi2(N):\n",
    "    Nreps = 1000\n",
    "    PI    = np.zeros((Nreps)) \n",
    "\n",
    "    for i in range(Nreps):\n",
    "    \n",
    "        X     = np.random.uniform(0,1,(N,1))\n",
    "        Y     = np.random.uniform(0,1,(N,1))\n",
    "        R     = X**2 + Y**2\n",
    "        PI[i] = 4*(R< 1).sum()/N\n",
    "\n",
    "    return np.mean(PI), np.std(PI)"
   ]
  },
  {
   "cell_type": "code",
   "execution_count": null,
   "id": "bff8a048-e1cc-40b1-85b3-aab5129c4102",
   "metadata": {},
   "outputs": [],
   "source": [
    "CalcPi2(50)"
   ]
  },
  {
   "cell_type": "markdown",
   "id": "a2ee7dc4-0119-4144-af7e-4de120761bef",
   "metadata": {},
   "source": [
    "Now for many different $N$:"
   ]
  },
  {
   "cell_type": "code",
   "execution_count": null,
   "id": "e8477d4d-9396-4a41-8813-a1b7a997f633",
   "metadata": {},
   "outputs": [],
   "source": [
    "N = [10, 20, 50, 100, 200, 500, 1000, 2000, 5000, 10000, 20000]"
   ]
  },
  {
   "cell_type": "code",
   "execution_count": null,
   "id": "7fc58363-449c-4787-8650-a6d08c6883d6",
   "metadata": {},
   "outputs": [],
   "source": [
    "AllPi = np.array(list(map(CalcPi2,N)))"
   ]
  },
  {
   "cell_type": "code",
   "execution_count": null,
   "id": "ba08bdb8-cf87-492f-a4fe-ada903bdb399",
   "metadata": {},
   "outputs": [],
   "source": [
    "print(AllPi)"
   ]
  },
  {
   "cell_type": "markdown",
   "id": "9e02b0da-3dc5-4c40-aaa9-9b401730b721",
   "metadata": {},
   "source": [
    "<br>"
   ]
  },
  {
   "cell_type": "markdown",
   "id": "bf73a32a-d22d-4c9f-aae9-445528746fde",
   "metadata": {},
   "source": [
    "Plotting $\\pi$ vs $N$:"
   ]
  },
  {
   "cell_type": "code",
   "execution_count": null,
   "id": "10a6d615-0db8-4858-91c1-645da69f1202",
   "metadata": {},
   "outputs": [],
   "source": [
    "e_theo = 4*0.4/np.sqrt(np.array(N))\n",
    "\n",
    "plt.fill_between(N, AllPi[:,0] + e_theo, AllPi[:,0] - e_theo, color = 'k', alpha = 0.1, interpolate = True,)\n",
    "plt.plot([0, 1.1*N[-1]], [np.pi, np.pi], 'k--', alpha = 0.2)\n",
    "plt.errorbar(N, AllPi[:,0], yerr=AllPi[:,1], capsize=3, fmt=\"ko\", ecolor = \"black\")\n",
    "plt.xscale('log')\n",
    "plt.xlabel('number of datapoints N')\n",
    "plt.ylabel('approximation for $\\pi$')\n",
    "plt.show()"
   ]
  }
 ],
 "metadata": {
  "kernelspec": {
   "display_name": "Python 3 (ipykernel)",
   "language": "python",
   "name": "python3"
  },
  "language_info": {
   "codemirror_mode": {
    "name": "ipython",
    "version": 3
   },
   "file_extension": ".py",
   "mimetype": "text/x-python",
   "name": "python",
   "nbconvert_exporter": "python",
   "pygments_lexer": "ipython3",
   "version": "3.11.7"
  }
 },
 "nbformat": 4,
 "nbformat_minor": 5
}
