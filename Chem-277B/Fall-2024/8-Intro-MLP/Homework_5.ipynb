{
 "cells": [
  {
   "cell_type": "markdown",
   "id": "d3871b6b-964c-4332-a6fa-aa4ba061ebdf",
   "metadata": {},
   "source": [
    "# Chem 277B - Fall 2024 - Homework 5\n",
    "## ANN - Artificial Neural Networks\n",
    "*Submit this notebook to bCourses to receive a credit for this assignment.*\n",
    "<br>\n",
    "due: **Oct 29th 2024** \n",
    "<br>\n",
    "**Please upload both, the .ipynb file and the corresponding .pdf**<br>\n",
    "<br>"
   ]
  },
  {
   "cell_type": "markdown",
   "id": "fda39810-091f-482b-a7fb-906c6da69c7f",
   "metadata": {},
   "source": [
    "## 60 Points Total"
   ]
  },
  {
   "cell_type": "markdown",
   "id": "1ad98376-0aa9-4d9a-b182-c46a251e90d6",
   "metadata": {},
   "source": [
    "The goal of this homework assignment is to understand how the complexity of the dataset and the design of the ANN (number of neurons and number of layers) with different parameters i.e. like learning rate and activation functions influence the performance of the ANN.<br>\n",
    "**Important: Only use numpy for creating the ANN, pandas for data frames if neccessary and matplotlib/ seaborn for plotting, but no further external python libraries.**"
   ]
  },
  {
   "cell_type": "markdown",
   "id": "2302b60a-2aa0-43a7-bd68-2650720d3a5e",
   "metadata": {},
   "source": [
    "**1) Create an artificial dataset, one for regression and one for classification each** <br>\n",
    "Start with a data set similar to the molecule data set we have been using earlier with a moderate number of features (say five) and about 1000 data points.<br> \n",
    "Normalize the features between 0 and 1 for better convergence and split the dataset into **training and testing set**."
   ]
  },
  {
   "cell_type": "markdown",
   "id": "58c222ec-a21f-44d9-a5a5-5f9b2b34cdc3",
   "metadata": {},
   "source": [
    "**2) Network Design**<br>\n",
    "Use at least two hidden layers and experiment with different layer sizes. Use different activation functions, such like *Sigmoid*, *ReLU* or any other activation function of your choice.<br>\n",
    "Implement dropout between the hidden layers (e.g., randomly drop 20-30% neurons).<br>\n",
    "Add an output layer according to the optimization problem (regression vs classification)."
   ]
  },
  {
   "cell_type": "markdown",
   "id": "84b6dbb7-6df6-4484-8459-e7c9279e7e0b",
   "metadata": {},
   "source": [
    "**3) Training and Optimization**<br>\n",
    "For regression, use Mean Squared Error (MSE) as the loss function. For classification, use cross entropy as loss function (you can use the codes provided in the lecture). Implement backpropagation manually for weight updates and use gradient descent for optimization. Now, train the network over multiple epochs and track the loss and accuracy."
   ]
  },
  {
   "cell_type": "markdown",
   "id": "7dddee3b-f36b-4543-9c27-1c7dc93a3b80",
   "metadata": {},
   "source": [
    "**4) Evaluation**<br>\n",
    "Monitor the loss and the accuracy for the different epochs. For classification, generate a confusion chart and plot a histogramm of the different probabilities (see the lecture) at the end of the training process.<br>\n",
    "Evaluate the performance of the ANN with the test set in the same way.<br>\n",
    "<br>\n",
    "Now, experiment with different<br>\n",
    "- training to test set ratios<br>\n",
    "- different numbers of features in the data (say, $N_{feature} = 3, 5, 20, 50$)\n",
    "- features that correlate\n",
    "- different numbers of data points (say, $N_{sample} = 200, 2\\,000, 5\\,000, 10\\,000$)\n",
    "\n",
    "How does the accuracy change?"
   ]
  },
  {
   "cell_type": "markdown",
   "id": "fe6057e2-0c5b-4e79-9cae-b0afc98086f0",
   "metadata": {},
   "source": [
    "**5) Submission Requirements**<br>\n",
    "Include a short report (1-2 pages) explaining:<br>\n",
    "- your architecture choices (layers, neurons, activation functions, etc.)<br>\n",
    "- how dropout was implemented.<br>\n",
    "- training performance (loss and accuracy plots).<br>\n",
    "- results and key insights.<br>"
   ]
  },
  {
   "cell_type": "code",
   "execution_count": null,
   "id": "133a942c-ae5e-437c-9c14-6ac41887b589",
   "metadata": {},
   "outputs": [],
   "source": []
  }
 ],
 "metadata": {
  "kernelspec": {
   "display_name": "Python 3 (ipykernel)",
   "language": "python",
   "name": "python3"
  },
  "language_info": {
   "codemirror_mode": {
    "name": "ipython",
    "version": 3
   },
   "file_extension": ".py",
   "mimetype": "text/x-python",
   "name": "python",
   "nbconvert_exporter": "python",
   "pygments_lexer": "ipython3",
   "version": "3.11.7"
  }
 },
 "nbformat": 4,
 "nbformat_minor": 5
}
