{
 "cells": [
  {
   "cell_type": "markdown",
   "id": "bb8b26c2-91da-4942-94fb-0993a88b8777",
   "metadata": {},
   "source": [
    "# Chem 277B - Fall 2024 - Homework 4\n",
    "## Optimization\n",
    "*Submit this notebook to bCourses to receive a credit for this assignment.*\n",
    "<br>\n",
    "due: **Oct 17th 2024** \n",
    "<br>\n",
    "**Please upload both, the .ipynb file and the corresponding .pdf**<br>\n",
    "<br>"
   ]
  },
  {
   "cell_type": "markdown",
   "id": "1bd8ffe5-23d4-451b-b3a6-d19e9a968297",
   "metadata": {},
   "source": [
    "## Problem 1 (16 P)"
   ]
  },
  {
   "cell_type": "markdown",
   "id": "12d379df-a105-4a28-8ee7-76ab14c2677d",
   "metadata": {},
   "source": [
    "**Surrogate Models with Lasso and Ridge Regression**<br>\n",
    "<br>\n",
    "- Following tutorial 3 create surrogate models using both Lasso and Ridge regression.<br>\n",
    "- Perform a grid search for hyperparameter tuning (**6 points**).<br>\n",
    "- Test your models using both train-test split and the complete dataset (**5 points**).<br>\n",
    "- Compare the performance of the models based on accuracy (**5 points**)."
   ]
  },
  {
   "cell_type": "markdown",
   "id": "83e19a2c-1d4d-43b9-afbd-5efcf5abef0f",
   "metadata": {},
   "source": [
    "<br>"
   ]
  },
  {
   "cell_type": "markdown",
   "id": "c7c8a482-5c06-44a8-99b7-d88a15d31fb7",
   "metadata": {},
   "source": [
    "## Problem 2 (4 P)"
   ]
  },
  {
   "cell_type": "markdown",
   "id": "63ecb62f-770e-49df-921d-0f1ae4cdfaf6",
   "metadata": {},
   "source": [
    "**Model Selection**<br>\n",
    "<br>\n",
    "Select the best-performing model as your final surrogate model and provide reasoning for the choice."
   ]
  },
  {
   "cell_type": "markdown",
   "id": "2e8079bd-b0bb-4f13-b37f-66bda81b1f0d",
   "metadata": {},
   "source": [
    "<br>"
   ]
  },
  {
   "cell_type": "markdown",
   "id": "1b1680a8-99c9-45d8-bc9a-7a2928724d4d",
   "metadata": {},
   "source": [
    "## Problem 3 (16 P) "
   ]
  },
  {
   "cell_type": "markdown",
   "id": "d8654b42-d745-4b15-a59c-5ff0796b554d",
   "metadata": {},
   "source": [
    "**Optimization Techniques**<br>\n",
    "<br>\n",
    "- Use Particle Swarm Optimization (PSO) (**6 points**).<br>\n",
    "- Implement Simulated Annealing with the pyheuristics package (**6 points**).<br>\n",
    "- Optionally, explore and apply any other swarm-based algorithms (**4 points**).<br>"
   ]
  },
  {
   "cell_type": "markdown",
   "id": "36c3941e-4286-4b97-b7af-91141feb6eb2",
   "metadata": {},
   "source": [
    "<br>"
   ]
  },
  {
   "cell_type": "markdown",
   "id": "1aedd999-6b5d-4e61-b78b-807de03004de",
   "metadata": {},
   "source": [
    "## Problem 4 (4 P) "
   ]
  },
  {
   "cell_type": "markdown",
   "id": "d7e53b44-3219-4826-b290-7e655a5afb2c",
   "metadata": {},
   "source": [
    "**Analysis and Reporting**<br>\n",
    "<br>\n",
    "- Report the optimal values obtained from each optimization method.<br>\n",
    "- Compare and discuss the performance of each algorithm.<br>"
   ]
  }
 ],
 "metadata": {
  "kernelspec": {
   "display_name": "Python 3 (ipykernel)",
   "language": "python",
   "name": "python3"
  },
  "language_info": {
   "codemirror_mode": {
    "name": "ipython",
    "version": 3
   },
   "file_extension": ".py",
   "mimetype": "text/x-python",
   "name": "python",
   "nbconvert_exporter": "python",
   "pygments_lexer": "ipython3",
   "version": "3.11.7"
  }
 },
 "nbformat": 4,
 "nbformat_minor": 5
}
