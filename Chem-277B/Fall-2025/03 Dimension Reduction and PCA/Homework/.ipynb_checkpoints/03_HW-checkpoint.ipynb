{
 "cells": [
  {
   "cell_type": "markdown",
   "id": "4af23393",
   "metadata": {},
   "source": [
    "# Homework Assignment 3 - Chem 277B\n",
    "## Breast Cancer Prediction"
   ]
  },
  {
   "cell_type": "markdown",
   "id": "cdab7dec",
   "metadata": {},
   "source": [
    "### 1) Objective\n",
    "\n",
    "We found in the last HW assignment that many features of the Breast Cancer Wisconsin dataset are highly correlated.\n",
    "Analyze the Breast Cancer Wisconsin dataset using dimensionality reduction and classification techniques (Naive Bayes) to predict whether a tumor is benign or malignant. Compare the results to your earlier findings."
   ]
  },
  {
   "cell_type": "markdown",
   "id": "3abb895c",
   "metadata": {},
   "source": [
    "### 2) Preparation\n",
    "\n",
    "Before starting, import the necessary libraries for data analysis and visualization. "
   ]
  },
  {
   "cell_type": "code",
   "execution_count": null,
   "id": "6571d5b9",
   "metadata": {},
   "outputs": [],
   "source": [
    "import numpy as np\n",
    "import matplotlib.pyplot as plt\n",
    "\n",
    "from sklearn.decomposition import PCA\n",
    "from sklearn.naive_bayes import GaussianNB\n",
    "from sklearn.metrics import confusion_matrix, ConfusionMatrixDisplay\n",
    "from sklearn.preprocessing import MinMaxScaler\n",
    "from sklearn.datasets import load_breast_cancer\n",
    "from sklearn.model_selection import train_test_split"
   ]
  },
  {
   "cell_type": "markdown",
   "id": "4bb84277",
   "metadata": {},
   "source": [
    "Load the dataset from `sklearn`, which contains cell descriptors and a target variable (diagnosis: 0 = malignant, 1 = benign)."
   ]
  },
  {
   "cell_type": "code",
   "execution_count": null,
   "id": "e4733587",
   "metadata": {},
   "outputs": [],
   "source": [
    "data, target = load_breast_cancer(return_X_y=True, as_frame=True)\n",
    "feature_names = data.columns"
   ]
  },
  {
   "cell_type": "markdown",
   "id": "9f197e26",
   "metadata": {},
   "source": [
    "Split the dataset into training (50%) and testing (50%) sets this time. Use `random_state=42` for reproducibility. Scale the features to a range of [0, 1] using `MinMaxScaler`."
   ]
  },
  {
   "cell_type": "code",
   "execution_count": null,
   "id": "259187ad",
   "metadata": {},
   "outputs": [],
   "source": [
    "X_train, X_test, y_train, y_test = train_test_split(data, target, test_size=0.50, random_state=42)\n",
    "\n",
    "######## Fill in the code below ########\n",
    "\n",
    "########################################\n",
    "\n",
    "print(f'Shape of training features: {X_train.shape}')\n",
    "print(f'Shape of training labels: {y_train.shape}')\n",
    "print(f'Shape of test features: {X_test.shape}')\n",
    "print(f'Shape of test labels: {y_test.shape}')"
   ]
  },
  {
   "cell_type": "markdown",
   "id": "155ff2fa",
   "metadata": {},
   "source": [
    "### 3) Baseline results\n",
    "\n",
    "Use the *mean radius* (the first feature) to build a Gaussian Naive Bayes classifier. Evaluate the classifier on the test set and display the confusion matrix. The results should be not as good as the result from the previous homework assignment due to the reduced training set size."
   ]
  },
  {
   "cell_type": "code",
   "execution_count": null,
   "id": "f66131e9",
   "metadata": {},
   "outputs": [],
   "source": [
    "######## Fill in the code below ########\n",
    "\n",
    "########################################\n",
    "\n",
    "cm = confusion_matrix(y_test, y_pred)\n",
    "disp = ConfusionMatrixDisplay(confusion_matrix=cm)\n",
    "disp.plot(cmap=plt.cm.Blues)\n",
    "plt.show()"
   ]
  },
  {
   "cell_type": "markdown",
   "id": "3698668c",
   "metadata": {},
   "source": [
    "### 4) Principal Component Analysis\n",
    "\n",
    "4.1) Perform PCA on the training set to reduce the dimensionality. Plot the **full** eigenvalue spectrum (use log scale for the y-axis). How many principal components are needed to explain at least 90% of the variance in the data?"
   ]
  },
  {
   "cell_type": "code",
   "execution_count": null,
   "id": "2a8f986c",
   "metadata": {},
   "outputs": [],
   "source": [
    "######## Fill in the code below ########\n",
    "\n",
    "########################################\n",
    "\n",
    "\n",
    "\n",
    "print(f'Explained variance ratio by the {n_components90} principal components: {ratio}')\n",
    "print(f'Total explained variance by the {n_components90} principal components: {ratio_tot}')"
   ]
  },
  {
   "cell_type": "raw",
   "id": "b10f2378-97fa-4b3c-9bb6-8776525292e2",
   "metadata": {},
   "source": [
    "#your answer here#"
   ]
  },
  {
   "cell_type": "markdown",
   "id": "ca03731e",
   "metadata": {},
   "source": [
    "<br>\n",
    "4.2) Visualize the principal components. What are the loadings of the original features on PC1? Which features contribute most? Compare the PCA results with the correlation plot from the previous homework assignment."
   ]
  },
  {
   "cell_type": "code",
   "execution_count": null,
   "id": "3a13a2b7",
   "metadata": {},
   "outputs": [],
   "source": [
    "for i in range(n_components):\n",
    "    plt.figure()\n",
    "\n",
    "    ######## Fill in the code below ########\n",
    "\n",
    "    \n",
    "    ########################################\n",
    "\n",
    "    plt.xticks(rotation=90)\n",
    "    plt.xlabel('Features')\n",
    "    plt.ylabel(f'Loadings for PC{i+1}')\n",
    "    plt.show()\n"
   ]
  },
  {
   "cell_type": "raw",
   "id": "450a52ae-46f9-4bc3-aa08-db269d48605a",
   "metadata": {},
   "source": [
    "# Yor answer here# "
   ]
  },
  {
   "cell_type": "markdown",
   "id": "1d34c1f2",
   "metadata": {},
   "source": [
    "<br>\n",
    "4.3) Visualize the training data with each principal component with a histogram, and the space defined by the first two principal components with a scatter plot. Color the points based on their class labels (malignant or benign). What patterns do you observe?"
   ]
  },
  {
   "cell_type": "code",
   "execution_count": null,
   "id": "6522db0a",
   "metadata": {},
   "outputs": [],
   "source": [
    "for i in range(n_components):\n",
    "    plt.figure()\n",
    "\n",
    "    ######## Fill in the code below ########\n",
    "   \n",
    "\n",
    "    \n",
    "    ########################################\n",
    "\n",
    "    plt.xlabel(f'PC{i+1}')\n",
    "    plt.ylabel('Frequency')    \n",
    "    plt.show()"
   ]
  },
  {
   "cell_type": "code",
   "execution_count": null,
   "id": "35d33e82",
   "metadata": {},
   "outputs": [],
   "source": [
    "plt.figure()\n",
    "\n",
    "######## Fill in the code below ########\n",
    "\n",
    "\n",
    "\n",
    "########################################\n",
    "\n",
    "plt.xlabel('PC1')\n",
    "plt.ylabel('PC2')\n",
    "plt.legend()\n",
    "plt.show()"
   ]
  },
  {
   "cell_type": "raw",
   "id": "d4fff2ad-f12f-48bb-bf0d-e10e80a91cca",
   "metadata": {},
   "source": [
    "#Your answer here#"
   ]
  },
  {
   "cell_type": "markdown",
   "id": "566f14e2",
   "metadata": {},
   "source": [
    "<br>\n",
    "4.4) Use the principal component(s) that best separates the classes to build a Gaussian Naive Bayes classifier. Evaluate the classifier on the test set and display the confusion matrix. Compare the results with those obtained using only the *mean radius* feature."
   ]
  },
  {
   "cell_type": "code",
   "execution_count": null,
   "id": "2ff09f49",
   "metadata": {},
   "outputs": [],
   "source": [
    "######## Fill in the code below ########\n",
    "\n",
    "\n",
    "\n",
    "########################################\n",
    "\n",
    "accuracy = np.mean(y_pred == y_test)\n",
    "print(f'Accuracy using PC1: {accuracy:.2f}')\n",
    "\n",
    "cm = confusion_matrix(y_test, y_pred)\n",
    "disp = ConfusionMatrixDisplay(confusion_matrix=cm, display_labels=gnb.classes_)\n",
    "disp.plot(cmap=plt.cm.Blues)\n",
    "plt.show()"
   ]
  },
  {
   "cell_type": "raw",
   "id": "9d20b161-8f13-4d25-8df3-343c68aaaa8f",
   "metadata": {},
   "source": [
    "#Your answer here#"
   ]
  }
 ],
 "metadata": {
  "kernelspec": {
   "display_name": "Python 3 (ipykernel)",
   "language": "python",
   "name": "python3"
  },
  "language_info": {
   "codemirror_mode": {
    "name": "ipython",
    "version": 3
   },
   "file_extension": ".py",
   "mimetype": "text/x-python",
   "name": "python",
   "nbconvert_exporter": "python",
   "pygments_lexer": "ipython3",
   "version": "3.11.7"
  }
 },
 "nbformat": 4,
 "nbformat_minor": 5
}
