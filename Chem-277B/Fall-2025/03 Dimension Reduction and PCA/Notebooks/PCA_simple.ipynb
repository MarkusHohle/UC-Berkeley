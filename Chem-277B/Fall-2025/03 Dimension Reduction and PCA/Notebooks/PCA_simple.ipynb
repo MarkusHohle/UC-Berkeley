{
 "cells": [
  {
   "cell_type": "markdown",
   "id": "e123caba-7d32-45d3-acc5-0e375ed78274",
   "metadata": {},
   "source": [
    "# Walk Through Example PCA\n",
    "(artificial data set)\n",
    "<bf>"
   ]
  },
  {
   "cell_type": "markdown",
   "id": "3dbe50de-3a2f-48a8-8888-f1b83d16e87e",
   "metadata": {},
   "source": [
    "**0) Loading libraries**"
   ]
  },
  {
   "cell_type": "markdown",
   "id": "37a782c0-5314-45f8-99bd-b825b6ad4f02",
   "metadata": {},
   "source": [
    "In the first example we want to perform PCA on a simple, artificial dataset. First, we import the standard libraries:"
   ]
  },
  {
   "cell_type": "code",
   "execution_count": null,
   "id": "dc7fefd0-bf92-4a65-b33e-29a67e1de5c3",
   "metadata": {},
   "outputs": [],
   "source": [
    "import numpy as np\n",
    "import pandas as pd\n",
    "import seaborn as sns\n",
    "import matplotlib.pyplot as plt"
   ]
  },
  {
   "cell_type": "markdown",
   "id": "9c28b6ae-e4e7-4740-bdc3-dbdf6c5af894",
   "metadata": {},
   "source": [
    "Next, we call *PCA* and a *plotly* library for 3D plots:"
   ]
  },
  {
   "cell_type": "code",
   "execution_count": null,
   "id": "701b9945-3b61-444d-996d-d2e114d8569a",
   "metadata": {},
   "outputs": [],
   "source": [
    "#pip install plotly"
   ]
  },
  {
   "cell_type": "code",
   "execution_count": null,
   "id": "1454435f-2676-430a-af08-2a19b6299ba5",
   "metadata": {},
   "outputs": [],
   "source": [
    "from sklearn.decomposition import PCA\n",
    "import plotly.graph_objects as go"
   ]
  },
  {
   "cell_type": "markdown",
   "id": "1c5c772b-368b-460a-95b6-04bd25f4b3a2",
   "metadata": {},
   "source": [
    "<br>"
   ]
  },
  {
   "cell_type": "markdown",
   "id": "c2dea3a4-a36e-4a53-bef0-0c5803384398",
   "metadata": {},
   "source": [
    "**1) Reading the data set**"
   ]
  },
  {
   "cell_type": "markdown",
   "id": "44c3cdbe-bb04-4154-a65f-d6a95ddb910c",
   "metadata": {},
   "source": [
    "Next, we read the dataset using *pandas*. Note, that the dataset is just an ordinary text file."
   ]
  },
  {
   "cell_type": "code",
   "execution_count": null,
   "id": "c55a2884-f79d-45bc-8f53-bec422cda53b",
   "metadata": {},
   "outputs": [],
   "source": [
    "XYZdf = pd.read_csv(\"Rot.txt\", sep='\\s+', header = None)\n",
    "XYZ   = np.array(XYZdf)"
   ]
  },
  {
   "cell_type": "markdown",
   "id": "379f0ec8-a1a6-4f33-9755-43a86b58bb12",
   "metadata": {},
   "source": [
    "<br>"
   ]
  },
  {
   "cell_type": "code",
   "execution_count": null,
   "id": "3a9e26bf-01d9-46aa-b19e-064268692d21",
   "metadata": {},
   "outputs": [],
   "source": [
    "print(XYZ[:10,:])"
   ]
  },
  {
   "cell_type": "markdown",
   "id": "0f764d57-9d77-472b-9ed2-c19ae486238c",
   "metadata": {},
   "source": [
    "**2) Plotting the data set**"
   ]
  },
  {
   "cell_type": "markdown",
   "id": "9d7cda72-65fb-4959-b186-48b38da4b037",
   "metadata": {},
   "source": [
    "The dataset has just three features. Therefore, we can visualize the data in a standard 3D scatter plot."
   ]
  },
  {
   "cell_type": "code",
   "execution_count": null,
   "id": "3b5277d5-4b35-4840-afdc-c9a1b2aeffe2",
   "metadata": {},
   "outputs": [],
   "source": [
    "print(XYZ.shape)"
   ]
  },
  {
   "cell_type": "markdown",
   "id": "2aca0350-a255-45d2-bb22-49c78d5a6db4",
   "metadata": {},
   "source": [
    "a) 3D scatter plot"
   ]
  },
  {
   "cell_type": "code",
   "execution_count": null,
   "id": "14b736e8-d236-4ac9-b9c9-2724d23ddaf8",
   "metadata": {},
   "outputs": [],
   "source": [
    "# standard3D plot\n",
    "fig = plt.figure(figsize=(5, 5))\n",
    "ax = fig.add_subplot(projection='3d')\n",
    "ax.scatter(XYZ[:,0], XYZ[:,1], XYZ[:,2], c = 'black', marker = 'o', s = 40)\n",
    "ax.set_xlabel('X')\n",
    "ax.set_ylabel('Y')\n",
    "ax.set_zlabel('Z')\n",
    "ax.tick_params(axis = 'both', which = 'major', labelsize = 15)\n",
    "ax.zaxis.labelpad = -3 \n",
    "plt.show()"
   ]
  },
  {
   "cell_type": "code",
   "execution_count": null,
   "id": "fb1d6e04-3b68-4b82-973a-330fb752bab7",
   "metadata": {},
   "outputs": [],
   "source": [
    "mesh    = go.Mesh3d(x = XYZ[:,0], y = XYZ[:,1], z = XYZ[:,2], opacity = 0.5, color='rgba(244,22,100,0.6)')\n",
    "scatter = go.Scatter3d(x = XYZ[:,0], y = XYZ[:,1], z = XYZ[:,2], mode = 'markers', marker = dict(size = 3, color = 'black'))\n",
    "fig     = go.Figure(data = [mesh, scatter])\n",
    "fig.update_layout(width = 800, height = 800, margin = dict(r = 10, b = 10, l = 10, t = 10))\n",
    "fig.show()"
   ]
  },
  {
   "cell_type": "markdown",
   "id": "4d9ede37-7226-4e35-8707-3d0e4fa94156",
   "metadata": {},
   "source": [
    "It seems as if the x,y coordinates correlate with the z coordinate. We can check that by displaying the correlation values in a headmap: "
   ]
  },
  {
   "cell_type": "code",
   "execution_count": null,
   "id": "ab49c1fb-d966-4783-a412-cd03a7728d1a",
   "metadata": {},
   "outputs": [],
   "source": [
    "XYZdf.columns = ['X', 'Y', 'Z']\n",
    "sns.heatmap(XYZdf.corr(), annot=True, cmap = sns.color_palette(\"Blues\"))\n",
    "plt.show()"
   ]
  },
  {
   "cell_type": "markdown",
   "id": "7d0e5568-c238-4425-a402-1887814c59e3",
   "metadata": {},
   "source": [
    "A more sophisticated plot using *plotly* shows clearly the correlation of the x,y coordinates with the z coordinate."
   ]
  },
  {
   "cell_type": "markdown",
   "id": "df9fe313-01b4-4547-b2ff-9e2bc4c937eb",
   "metadata": {},
   "source": [
    "<br>"
   ]
  },
  {
   "cell_type": "markdown",
   "id": "7065c38e-3535-4f5c-8487-928c204fddba",
   "metadata": {},
   "source": [
    "**3) Running PCA**"
   ]
  },
  {
   "cell_type": "markdown",
   "id": "b92b89d9-a918-4cde-b69c-da6967264f3e",
   "metadata": {},
   "source": [
    "Let us therefore now run a PCA, i. e. transforming the dataset into its proper (= eigen) coordinate system."
   ]
  },
  {
   "cell_type": "code",
   "execution_count": null,
   "id": "4e999dcd-561a-4f50-bdea-51dd775326a7",
   "metadata": {},
   "outputs": [],
   "source": [
    "out = PCA(n_components = 3).fit(XYZ)\n",
    "\n",
    "eigenVec = out.components_          #eigen vectors\n",
    "eigenVal = out.explained_variance_  #eigen values\n",
    "eigenXYZ = out.transform(XYZ)       #dataset transformed into its proper (= eigen) coordinate system"
   ]
  },
  {
   "cell_type": "code",
   "execution_count": null,
   "id": "3857491a-1514-45ad-894d-ce4e55b256ab",
   "metadata": {},
   "outputs": [],
   "source": [
    "print(eigenVec)\n",
    "#print(eigenVal)"
   ]
  },
  {
   "cell_type": "code",
   "execution_count": null,
   "id": "721b945f-9653-45e0-8bee-17d2e29151a2",
   "metadata": {},
   "outputs": [],
   "source": [
    "v1 = eigenVec[:,0]\n",
    "v2 = eigenVec[:,1]\n",
    "v3 = eigenVec[:,2]"
   ]
  },
  {
   "cell_type": "code",
   "execution_count": null,
   "id": "50b609d4-a0f3-4a94-9b2a-ae8162679aa6",
   "metadata": {},
   "outputs": [],
   "source": [
    "np.dot(v1,v2)"
   ]
  },
  {
   "cell_type": "markdown",
   "id": "50f041f1-2697-4ae6-bac1-4548ee6deca2",
   "metadata": {},
   "source": [
    "As we expected, one eigenvalue is essentially zero (keep the limited numerical accuracy in mind)."
   ]
  },
  {
   "cell_type": "code",
   "execution_count": null,
   "id": "03bf6fd0-46ab-432b-88b2-53540ed50c39",
   "metadata": {},
   "outputs": [],
   "source": [
    "epsilon = np.finfo(float).eps\n",
    "print(epsilon)"
   ]
  },
  {
   "cell_type": "code",
   "execution_count": null,
   "id": "b2e04d33-75f5-4efb-9e6e-decc4ffcaed0",
   "metadata": {},
   "outputs": [],
   "source": [
    "print(eigenVal)"
   ]
  },
  {
   "cell_type": "markdown",
   "id": "a1860cf9-0fc6-4d22-8b2f-6473f440411b",
   "metadata": {},
   "source": [
    "<br>"
   ]
  },
  {
   "cell_type": "markdown",
   "id": "c2e6b5e0-17a9-45ea-a561-8d8c8ff8c1ab",
   "metadata": {},
   "source": [
    "**4) Plotting Eigenvalue Spectrum and Data in Eigenspace**"
   ]
  },
  {
   "cell_type": "markdown",
   "id": "a259c51d-df2b-41f2-91dc-690b2acb00f5",
   "metadata": {},
   "source": [
    "Finally, we want to plot the eigenvalue spectrum... "
   ]
  },
  {
   "cell_type": "code",
   "execution_count": null,
   "id": "61e95c1f-97d3-45bb-9ee6-5e835ce3a512",
   "metadata": {},
   "outputs": [],
   "source": [
    "xplot = np.arange(1,4)\n",
    "\n",
    "fig = plt.figure(figsize=(5, 3))\n",
    "plt.bar(xplot, eigenVal, color = (0.9, 0.9, 0.9), edgecolor = 'black')\n",
    "plt.xlabel('dimension')\n",
    "plt.ylabel('eigenvalue')\n",
    "plt.yscale('log')\n",
    "plt.xticks(xplot)\n",
    "plt.show()"
   ]
  },
  {
   "cell_type": "markdown",
   "id": "16e01659-92eb-48a3-87ca-8ca4e38cdd27",
   "metadata": {},
   "source": [
    "...and the data itself. Note that each eigen coordinate is now a linear combination of the previous coordinates."
   ]
  },
  {
   "cell_type": "code",
   "execution_count": null,
   "id": "0551c39b-2b48-4518-a7df-bb974b492594",
   "metadata": {},
   "outputs": [],
   "source": [
    "# standard3D plot\n",
    "fig = plt.figure(figsize=(8, 8))\n",
    "ax = fig.add_subplot(projection = '3d')\n",
    "ax.scatter(eigenXYZ[:,0], eigenXYZ[:,1], eigenXYZ[:,2], c = 'black', marker = 'o', s = 40)\n",
    "ax.set_xlabel('X')\n",
    "ax.set_ylabel('Y')\n",
    "ax.set_zlabel('Z')\n",
    "ax.tick_params(axis = 'both', which = 'major', labelsize = 5)\n",
    "ax.zaxis.labelpad = -15 #\n",
    "plt.show()"
   ]
  },
  {
   "cell_type": "markdown",
   "id": "cf9a7426-9e7e-4dc2-ad90-d2c475e128d9",
   "metadata": {},
   "source": [
    "Knowing, that the 3rd coordinate is not needed, we can display the data just with an ordinary 2D scatter plot."
   ]
  },
  {
   "cell_type": "code",
   "execution_count": null,
   "id": "2ef96e15-6861-4320-903e-0a8862932699",
   "metadata": {},
   "outputs": [],
   "source": [
    "plt.scatter(eigenXYZ[:,0], eigenXYZ[:,1], c = 'black', marker = 'o', s = 40)\n",
    "plt.xlabel('eigen X')\n",
    "plt.ylabel('eigen Y')\n",
    "plt.show()"
   ]
  }
 ],
 "metadata": {
  "kernelspec": {
   "display_name": "Python 3 (ipykernel)",
   "language": "python",
   "name": "python3"
  },
  "language_info": {
   "codemirror_mode": {
    "name": "ipython",
    "version": 3
   },
   "file_extension": ".py",
   "mimetype": "text/x-python",
   "name": "python",
   "nbconvert_exporter": "python",
   "pygments_lexer": "ipython3",
   "version": "3.11.7"
  }
 },
 "nbformat": 4,
 "nbformat_minor": 5
}
