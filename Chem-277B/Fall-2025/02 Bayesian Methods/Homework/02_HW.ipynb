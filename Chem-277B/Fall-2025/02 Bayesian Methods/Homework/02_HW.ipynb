{
 "cells": [
  {
   "cell_type": "markdown",
   "id": "4af23393",
   "metadata": {},
   "source": [
    "# Homework Assignment 2 - Chem 277B\n",
    "## Breast Cancer Prediction"
   ]
  },
  {
   "cell_type": "markdown",
   "id": "cdab7dec",
   "metadata": {},
   "source": [
    "**1) Objective**\n",
    "\n",
    "Analyze the Breast Cancer Wisconsin dataset, classify cancer cells using Naive Bayes models, and evaluate performance using a confusion matrix."
   ]
  },
  {
   "cell_type": "markdown",
   "id": "6ea08f1c-cb8c-4c85-b252-94bfd560a78b",
   "metadata": {},
   "source": [
    "<br>"
   ]
  },
  {
   "cell_type": "markdown",
   "id": "3abb895c",
   "metadata": {},
   "source": [
    "**2) Preparation**\n",
    "\n",
    "Before starting, import the necessary libraries for data analysis and visualization. "
   ]
  },
  {
   "cell_type": "code",
   "execution_count": null,
   "id": "6571d5b9",
   "metadata": {},
   "outputs": [],
   "source": [
    "import numpy as np\n",
    "import seaborn as sns\n",
    "import matplotlib.pyplot as plt\n",
    "\n",
    "from sklearn.naive_bayes import GaussianNB\n",
    "from sklearn.metrics import confusion_matrix, ConfusionMatrixDisplay\n",
    "from sklearn.preprocessing import MinMaxScaler\n",
    "from sklearn.datasets import load_breast_cancer\n",
    "from sklearn.model_selection import train_test_split"
   ]
  },
  {
   "cell_type": "markdown",
   "id": "5ae1382c-e96d-404e-b026-404687cc5636",
   "metadata": {},
   "source": [
    "<br>"
   ]
  },
  {
   "cell_type": "markdown",
   "id": "4bb84277",
   "metadata": {},
   "source": [
    "**3) Dataset**\n",
    "\n",
    "Load the dataset from `sklearn`, which contains cell descriptors and a target variable (diagnosis: 0 = malignant, 1 = benign)."
   ]
  },
  {
   "cell_type": "code",
   "execution_count": null,
   "id": "e4733587",
   "metadata": {},
   "outputs": [],
   "source": [
    "data, target = load_breast_cancer(return_X_y=True, as_frame=True)"
   ]
  },
  {
   "cell_type": "code",
   "execution_count": null,
   "id": "3b7974e7",
   "metadata": {},
   "outputs": [],
   "source": [
    "data"
   ]
  },
  {
   "cell_type": "code",
   "execution_count": null,
   "id": "53145110",
   "metadata": {},
   "outputs": [],
   "source": [
    "target"
   ]
  },
  {
   "cell_type": "markdown",
   "id": "9f197e26",
   "metadata": {},
   "source": [
    "Split the dataset into training (80%) and testing (20%) sets. Use `random_state=42` for reproducibility."
   ]
  },
  {
   "cell_type": "code",
   "execution_count": null,
   "id": "259187ad",
   "metadata": {},
   "outputs": [],
   "source": [
    "######## Fill in the code below ########\n",
    "\n",
    "########################################\n",
    "\n",
    "print(f'Number of training samples: {X_train.shape[0]}')\n",
    "print(f'- Number of malignant samples: {y_train[y_train==0].shape[0]} ({y_train[y_train==0].shape[0]/y_train.shape[0]*100:.1f}%)')\n",
    "print(f'- Number of benign samples: {y_train[y_train==1].shape[0]} ({y_train[y_train==1].shape[0]/y_train.shape[0]*100:.1f}%)')\n",
    "print(f'Number of test samples: {X_test.shape[0]}')\n",
    "print(f'- Number of malignant samples: {y_test[y_test==0].shape[0]} ({y_test[y_test==0].shape[0]/y_test.shape[0]*100:.1f}%)')\n",
    "print(f'- Number of benign samples: {y_test[y_test==1].shape[0]} ({y_test[y_test==1].shape[0]/y_test.shape[0]*100:.1f}%)')"
   ]
  },
  {
   "cell_type": "markdown",
   "id": "b2974de1-f250-4449-8909-3591210f0b5b",
   "metadata": {},
   "source": [
    "<br>"
   ]
  },
  {
   "cell_type": "markdown",
   "id": "155ff2fa",
   "metadata": {},
   "source": [
    "**4) Visualize**\n",
    "\n",
    "Use the *mean radius* (the first feature) to create two histograms: one for malignant cells and one for benign cells. Overlay the two histograms to visualize the distribution of this feature for both classes. Discuss any similarities or differences."
   ]
  },
  {
   "cell_type": "code",
   "execution_count": null,
   "id": "f66131e9",
   "metadata": {},
   "outputs": [],
   "source": [
    "plt.figure()\n",
    "\n",
    "######## Fill in the code below ########\n",
    "\n",
    "\n",
    "########################################\n",
    "\n",
    "plt.xlabel('Mean Radius')\n",
    "plt.ylabel('Frequency')\n",
    "plt.legend()\n",
    "plt.show()"
   ]
  },
  {
   "cell_type": "markdown",
   "id": "52b44181",
   "metadata": {},
   "source": [
    "*your discussion*"
   ]
  },
  {
   "cell_type": "markdown",
   "id": "fbe61492",
   "metadata": {},
   "source": [
    "Also use the *mean fractal dimension* (the ninth feature) to create two histograms. Compare the distributions with those from the *mean radius*. Which feature appears to better separate the two classes?"
   ]
  },
  {
   "cell_type": "code",
   "execution_count": null,
   "id": "f0a1fbfe",
   "metadata": {},
   "outputs": [],
   "source": [
    "plt.figure()\n",
    "\n",
    "######## Fill in the code below ########\n",
    "\n",
    "\n",
    "########################################\n",
    "\n",
    "plt.xlabel('Mean Fractal Dimension')\n",
    "plt.ylabel('Frequency')\n",
    "plt.legend()\n",
    "plt.show()"
   ]
  },
  {
   "cell_type": "markdown",
   "id": "8ffb6ef8",
   "metadata": {},
   "source": [
    "*your discussion*"
   ]
  },
  {
   "cell_type": "markdown",
   "id": "d880832d-c663-4d51-855c-9477bb5355e3",
   "metadata": {},
   "source": [
    "<br>"
   ]
  },
  {
   "cell_type": "markdown",
   "id": "2779e9a6",
   "metadata": {},
   "source": [
    "**5) Naive Bayes Classification**\n",
    "\n",
    "Train a Gaussian Naive Bayes classifier using only *mean radius* and discuss its accuracy."
   ]
  },
  {
   "cell_type": "code",
   "execution_count": null,
   "id": "aa4e812f",
   "metadata": {},
   "outputs": [],
   "source": [
    "######## Fill in the code below ########\n",
    "\n",
    "\n",
    "########################################\n",
    "\n",
    "accuracy = np.mean(y_pred == y_test)\n",
    "print(f'Accuracy using mean radius: {accuracy:.2f}')\n",
    "\n",
    "cm = confusion_matrix(y_test, y_pred)\n",
    "disp = ConfusionMatrixDisplay(confusion_matrix=cm)\n",
    "disp.plot(cmap=plt.cm.Blues)\n",
    "plt.show()"
   ]
  },
  {
   "cell_type": "markdown",
   "id": "b3a5c971",
   "metadata": {},
   "source": [
    "*your discussion*"
   ]
  },
  {
   "cell_type": "markdown",
   "id": "83beaa20",
   "metadata": {},
   "source": [
    "Train another Gaussian Naive Bayes classifier using only *mean fractal dimension* and discuss its accuracy."
   ]
  },
  {
   "cell_type": "code",
   "execution_count": null,
   "id": "ba6a0302",
   "metadata": {},
   "outputs": [],
   "source": [
    "######## Fill in the code below ########\n",
    "\n",
    "\n",
    "\n",
    "########################################\n",
    "\n",
    "accuracy = np.mean(y_pred == y_test)\n",
    "print(f'Accuracy using mean fractal dimension: {accuracy:.2f}')\n",
    "\n",
    "cm = confusion_matrix(y_test, y_pred)\n",
    "disp = ConfusionMatrixDisplay(confusion_matrix=cm)\n",
    "disp.plot(cmap=plt.cm.Blues)\n",
    "plt.show()"
   ]
  },
  {
   "cell_type": "markdown",
   "id": "e91edd4b",
   "metadata": {},
   "source": [
    "*your discussion*"
   ]
  },
  {
   "cell_type": "markdown",
   "id": "abf489f9",
   "metadata": {},
   "source": [
    "Also train a Gaussian Naive Bayes classifier using both *mean radius* and *mean fractal dimension* and evaluate its accuracy. Don't forget to scale the features now! How does this compare to the previous two models?"
   ]
  },
  {
   "cell_type": "code",
   "execution_count": null,
   "id": "0f1c91ea",
   "metadata": {},
   "outputs": [],
   "source": [
    "######## Fill in the code below ########\n",
    "\n",
    "\n",
    "\n",
    "\n",
    "\n",
    "\n",
    "########################################\n",
    "\n",
    "accuracy = np.mean(y_pred == y_test)\n",
    "print(f'Accuracy using mean radius and mean fractal dimension: {accuracy:.2f}')\n",
    "\n",
    "cm = confusion_matrix(y_test, y_pred)\n",
    "disp = ConfusionMatrixDisplay(confusion_matrix=cm)\n",
    "disp.plot(cmap=plt.cm.Blues)\n",
    "plt.show()"
   ]
  },
  {
   "cell_type": "markdown",
   "id": "aee484b8",
   "metadata": {},
   "source": [
    "*your discussion*"
   ]
  },
  {
   "cell_type": "markdown",
   "id": "ceff244c",
   "metadata": {},
   "source": [
    "Lastly, train a Gaussian Naive Bayes classifier using all 30 features and evaluate its accuracy. Compare the performance of this model to the previous models."
   ]
  },
  {
   "cell_type": "code",
   "execution_count": null,
   "id": "04d7bdcd",
   "metadata": {},
   "outputs": [],
   "source": [
    "######## Fill in the code below ########\n",
    "\n",
    "\n",
    "\n",
    "\n",
    "\n",
    "\n",
    "########################################\n",
    "\n",
    "accuracy = np.mean(y_pred == y_test)\n",
    "print(f'Accuracy using all features: {accuracy:.2f}')\n",
    "\n",
    "cm = confusion_matrix(y_test, y_pred)\n",
    "disp = ConfusionMatrixDisplay(confusion_matrix=cm)\n",
    "disp.plot(cmap=plt.cm.Blues)\n",
    "plt.show()"
   ]
  },
  {
   "cell_type": "markdown",
   "id": "24dd23ef",
   "metadata": {},
   "source": [
    "*your discussion*"
   ]
  },
  {
   "cell_type": "markdown",
   "id": "0a7a064f-2ca3-4817-9fee-d7a65dc2597c",
   "metadata": {},
   "source": [
    "<br>"
   ]
  },
  {
   "cell_type": "markdown",
   "id": "444a6337-21f5-40f9-b6c4-dcfc174e70bb",
   "metadata": {},
   "source": [
    "**6) Feature Analysis**"
   ]
  },
  {
   "cell_type": "markdown",
   "id": "90ca1e4a-65d3-423d-a645-a46242cfe3da",
   "metadata": {},
   "source": [
    "One assumption of Naive Bayes is that the features are mutually independent. Generate a heatmap of Pearsons (pairwise) correlation coefficient. Which features correlate? Does the correlation make sense?"
   ]
  },
  {
   "cell_type": "code",
   "execution_count": null,
   "id": "aedb5f19-06f7-4756-9c7f-65ef5c1f6d46",
   "metadata": {},
   "outputs": [],
   "source": [
    "######## Fill in the code below ########\n",
    "\n",
    "\n",
    "\n",
    "\n",
    "########################################"
   ]
  },
  {
   "cell_type": "markdown",
   "id": "d445e0d6-2b04-489c-ba8b-784748b49ac1",
   "metadata": {},
   "source": [
    "*your discussion*"
   ]
  },
  {
   "cell_type": "markdown",
   "id": "23518e9f-f5d1-4296-99c5-c002598531fa",
   "metadata": {},
   "source": [
    "Remove three of the features that show high correlation with another feature and run the analysis you did in 5) again. Compare the accuray to the value you optain when you include all features."
   ]
  },
  {
   "cell_type": "code",
   "execution_count": null,
   "id": "ed6e6c8a-1f12-46d5-8a9c-60b9cc096cd8",
   "metadata": {},
   "outputs": [],
   "source": [
    "######## Fill in the code below ########\n",
    "\n",
    "\n",
    "\n",
    "\n",
    "\n",
    "\n",
    "########################################\n",
    "\n",
    "accuracy = np.mean(y_pred == y_test)\n",
    "print(f'Accuracy using all features: {accuracy:.2f}')\n",
    "\n",
    "cm = confusion_matrix(y_test, y_pred)\n",
    "disp = ConfusionMatrixDisplay(confusion_matrix=cm)\n",
    "disp.plot(cmap=plt.cm.Blues)\n",
    "plt.show()"
   ]
  },
  {
   "cell_type": "markdown",
   "id": "3c5c59f0-ca4c-438f-9ac2-3624b87d7072",
   "metadata": {},
   "source": [
    "*your discussion*"
   ]
  }
 ],
 "metadata": {
  "kernelspec": {
   "display_name": "Python 3 (ipykernel)",
   "language": "python",
   "name": "python3"
  },
  "language_info": {
   "codemirror_mode": {
    "name": "ipython",
    "version": 3
   },
   "file_extension": ".py",
   "mimetype": "text/x-python",
   "name": "python",
   "nbconvert_exporter": "python",
   "pygments_lexer": "ipython3",
   "version": "3.11.7"
  }
 },
 "nbformat": 4,
 "nbformat_minor": 5
}
