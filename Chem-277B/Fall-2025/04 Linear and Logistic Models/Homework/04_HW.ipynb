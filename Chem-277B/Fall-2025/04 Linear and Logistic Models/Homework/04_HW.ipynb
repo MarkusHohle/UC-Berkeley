{
 "cells": [
  {
   "cell_type": "markdown",
   "id": "4af23393",
   "metadata": {},
   "source": [
    "# Homework Assignment 4 - Chem 277B\n",
    "## Diabetes Prediction"
   ]
  },
  {
   "cell_type": "markdown",
   "id": "cdab7dec",
   "metadata": {},
   "source": [
    "### 1) Objective\n",
    "\n",
    "Analyze the Diabetes dataset using linear regression techniques to predict disease progression based on various health metrics."
   ]
  },
  {
   "cell_type": "markdown",
   "id": "3abb895c",
   "metadata": {},
   "source": [
    "### 2) Preparation\n",
    "\n",
    "Before starting, import the necessary libraries for data analysis and visualization. "
   ]
  },
  {
   "cell_type": "code",
   "execution_count": null,
   "id": "6571d5b9",
   "metadata": {},
   "outputs": [],
   "source": [
    "import numpy as np\n",
    "import matplotlib.pyplot as plt\n",
    "import seaborn as sns\n",
    "\n",
    "from scipy.stats import probplot\n",
    "\n",
    "from sklearn.decomposition import PCA\n",
    "from sklearn.naive_bayes import GaussianNB\n",
    "from sklearn.metrics import confusion_matrix, ConfusionMatrixDisplay\n",
    "from sklearn.datasets import load_diabetes\n",
    "from sklearn.model_selection import train_test_split\n",
    "\n",
    "from statsmodels.api import add_constant, OLS, Logit, GLM, families, stats"
   ]
  },
  {
   "cell_type": "markdown",
   "id": "4bb84277",
   "metadata": {},
   "source": [
    "Load the dataset from `sklearn`, which contains various health metrics and a target variable indicating disease progression."
   ]
  },
  {
   "cell_type": "code",
   "execution_count": null,
   "id": "e4733587",
   "metadata": {},
   "outputs": [],
   "source": [
    "data, target = load_diabetes(return_X_y=True, as_frame=True, scaled=True)\n",
    "feature_names = ['age', 'sex', 'bmi', 'bp', 'tc', 'ldl', 'hdl', 'tch', 'ltg', 'glu']\n",
    "data.columns = feature_names"
   ]
  },
  {
   "cell_type": "markdown",
   "id": "9f197e26",
   "metadata": {},
   "source": [
    "Split the dataset into training (80%) and testing (20%) sets this time. Use `random_state=42` for reproducibility. The dataset is already scaled."
   ]
  },
  {
   "cell_type": "code",
   "execution_count": null,
   "id": "259187ad",
   "metadata": {},
   "outputs": [],
   "source": [
    "X_train, X_test, y_train, y_test = train_test_split(data, target, test_size=0.2, random_state=42)\n",
    "\n",
    "print(f'Shape of training features: {X_train.shape}')\n",
    "print(f'Shape of training labels: {y_train.shape}')\n",
    "print(f'Shape of test features: {X_test.shape}')\n",
    "print(f'Shape of test labels: {y_test.shape}')"
   ]
  },
  {
   "cell_type": "markdown",
   "id": "ba83e17a",
   "metadata": {},
   "source": [
    "### 3) Visualization\n",
    "\n",
    "Visualize the dataset using pair plots to understand the relationships between features. Discuss any patterns or correlations you observe."
   ]
  },
  {
   "cell_type": "code",
   "execution_count": null,
   "id": "6661692e",
   "metadata": {},
   "outputs": [],
   "source": [
    "######## Fill in the code below ########\n",
    "\n",
    "########################################"
   ]
  },
  {
   "cell_type": "markdown",
   "id": "f7654160",
   "metadata": {},
   "source": [
    "> your answer here"
   ]
  },
  {
   "cell_type": "markdown",
   "id": "e86d0d0e",
   "metadata": {},
   "source": [
    "Visualize the dataset using two principal components to see if the target variable can be separated."
   ]
  },
  {
   "cell_type": "code",
   "execution_count": null,
   "id": "5f25eecb",
   "metadata": {},
   "outputs": [],
   "source": [
    "######## Fill in the code below ########\n",
    " \n",
    "########################################\n",
    "\n",
    "sns.scatterplot(x=X_train_pca[:, 0], y=X_train_pca[:, 1], hue=y_train)\n",
    "plt.xlabel('Principal Component 1')\n",
    "plt.ylabel('Principal Component 2')\n",
    "plt.show()"
   ]
  },
  {
   "cell_type": "markdown",
   "id": "e68ad07c",
   "metadata": {},
   "source": [
    "> your answer here"
   ]
  },
  {
   "cell_type": "markdown",
   "id": "ed9505c4",
   "metadata": {},
   "source": [
    "### 4) Linear Regression\n",
    "\n",
    "Perform linear regression using the training set to predict the target variable. Remember to add the intercept. Discuss the your fitting results, including R-squared value, coefficients, and p-values.<br>\n",
    "**Note, scaling/normalizing the data is not necessary here.**<br>\n",
    "One feature, sex, is a **categorical**. For now, we want to treat this feature like all the other features, but what would you need to do in order to  represent this feature numerically?"
   ]
  },
  {
   "cell_type": "code",
   "execution_count": null,
   "id": "783abbae",
   "metadata": {},
   "outputs": [],
   "source": [
    "######## Fill in the code below ########\n",
    " \n",
    "########################################\n",
    "\n",
    "print(model.summary())"
   ]
  },
  {
   "cell_type": "markdown",
   "id": "24e7c6bb",
   "metadata": {},
   "source": [
    "> your answer here"
   ]
  },
  {
   "cell_type": "markdown",
   "id": "65c2bbb3",
   "metadata": {},
   "source": [
    "Plot the residuals of the model. Discuss whether the residuals appear to be normally distributed."
   ]
  },
  {
   "cell_type": "code",
   "execution_count": null,
   "id": "4dec0904",
   "metadata": {},
   "outputs": [],
   "source": [
    "######## Fill in the code below ########\n",
    " \n",
    "########################################"
   ]
  },
  {
   "cell_type": "markdown",
   "id": "2dc17609",
   "metadata": {},
   "source": [
    "> your answer here"
   ]
  },
  {
   "cell_type": "markdown",
   "id": "2d2d305d",
   "metadata": {},
   "source": [
    "Plot the predictions against the true values for both training and testing sets. Calculate and report the Mean Absolute Error (MAE) for both sets. Discuss the model's performance and any potential overfitting or underfitting issues."
   ]
  },
  {
   "cell_type": "code",
   "execution_count": null,
   "id": "87985a3e",
   "metadata": {},
   "outputs": [],
   "source": [
    "######## Fill in the code below ########\n",
    " \n",
    "########################################"
   ]
  },
  {
   "cell_type": "markdown",
   "id": "592c5b6d",
   "metadata": {},
   "source": [
    "> your answer here"
   ]
  },
  {
   "cell_type": "markdown",
   "id": "e1fb21b1",
   "metadata": {},
   "source": [
    "### 5) Logistic Regression\n",
    "\n",
    "Classify the target variable into two classes: above and below 150."
   ]
  },
  {
   "cell_type": "code",
   "execution_count": null,
   "id": "6f4c0bcd",
   "metadata": {},
   "outputs": [],
   "source": [
    "y_train_cat = (y_train > 150).astype(int)\n",
    "y_test_cat = (y_test > 150).astype(int)"
   ]
  },
  {
   "cell_type": "markdown",
   "id": "2b5c7183",
   "metadata": {},
   "source": [
    "Use Gaussian Naive Bayes to classify the data. Report the accuracy and confusion matrix. Discuss the model's performance and any potential limitations."
   ]
  },
  {
   "cell_type": "code",
   "execution_count": null,
   "id": "b6f2d41d",
   "metadata": {},
   "outputs": [],
   "source": [
    "######## Fill in the code below ########\n",
    "\n",
    "########################################"
   ]
  },
  {
   "cell_type": "markdown",
   "id": "10cf7473",
   "metadata": {},
   "source": [
    "> your answer here"
   ]
  },
  {
   "cell_type": "markdown",
   "id": "2de2aa89",
   "metadata": {},
   "source": [
    "Use logistic regression to classify the data. Report the accuracy and confusion matrix. Discuss the model's performance and fitting results."
   ]
  },
  {
   "cell_type": "code",
   "execution_count": null,
   "id": "11e0543a",
   "metadata": {},
   "outputs": [],
   "source": [
    "######## Fill in the code below ########\n",
    "\n",
    "########################################"
   ]
  },
  {
   "cell_type": "markdown",
   "id": "5c1b2400",
   "metadata": {},
   "source": [
    "> your answer here"
   ]
  },
  {
   "cell_type": "markdown",
   "id": "fe52a9e6",
   "metadata": {},
   "source": [
    "For each class, plot the histogram of the predicted probabilities. Discuss how well the model separates the two classes."
   ]
  },
  {
   "cell_type": "code",
   "execution_count": null,
   "id": "94a7d998",
   "metadata": {},
   "outputs": [],
   "source": [
    "######## Fill in the code below ########\n",
    "\n",
    "########################################"
   ]
  },
  {
   "cell_type": "markdown",
   "id": "4a452d9b",
   "metadata": {},
   "source": [
    "> your answer here"
   ]
  }
 ],
 "metadata": {
  "kernelspec": {
   "display_name": "Python 3 (ipykernel)",
   "language": "python",
   "name": "python3"
  },
  "language_info": {
   "codemirror_mode": {
    "name": "ipython",
    "version": 3
   },
   "file_extension": ".py",
   "mimetype": "text/x-python",
   "name": "python",
   "nbconvert_exporter": "python",
   "pygments_lexer": "ipython3",
   "version": "3.11.7"
  }
 },
 "nbformat": 4,
 "nbformat_minor": 5
}
