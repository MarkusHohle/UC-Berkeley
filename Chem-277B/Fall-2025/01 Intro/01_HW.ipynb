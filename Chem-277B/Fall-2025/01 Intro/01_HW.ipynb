{
 "cells": [
  {
   "cell_type": "markdown",
   "id": "f56e633d-e70a-4a95-b217-fd10bd8ab0f9",
   "metadata": {},
   "source": [
    "# Homework Assignment 1 - Chem 277B\n",
    "## Warm Up"
   ]
  },
  {
   "cell_type": "markdown",
   "id": "6b28275c-2fab-4a79-af21-a0277205ddea",
   "metadata": {},
   "source": [
    "**1) Motivation**"
   ]
  },
  {
   "cell_type": "markdown",
   "id": "91827ad2-b936-4249-9db5-01d834ea76a4",
   "metadata": {},
   "source": [
    "In this course we will focus on machine learning algorithms and their applications. For that purpose, you should be fluent in python and we therefore want to repeat a few programming and approximation techniques you might have learned in previous classes. If that was not the case, now you have the occasion to get them to know and also practice the application of these basic techniques.  "
   ]
  },
  {
   "cell_type": "markdown",
   "id": "58afc7fe-133f-40f2-8829-f5f9e7a09ea2",
   "metadata": {},
   "source": [
    "<br>"
   ]
  },
  {
   "cell_type": "markdown",
   "id": "0c6cfef6-67a7-444f-a816-0f12aa8886da",
   "metadata": {},
   "source": [
    "**2) Preparation**"
   ]
  },
  {
   "cell_type": "markdown",
   "id": "eebc7113-2dce-4536-9695-8f500d538351",
   "metadata": {},
   "source": [
    "First, we want to import *numpy* and *matplotlob*:"
   ]
  },
  {
   "cell_type": "code",
   "execution_count": 12,
   "id": "0649d7bd-2b44-4ea9-8328-1964850ee186",
   "metadata": {},
   "outputs": [],
   "source": [
    "import numpy as np\n",
    "import matplotlib.pyplot as plt"
   ]
  },
  {
   "cell_type": "markdown",
   "id": "f6a770c5-468f-46c7-b6c3-41b211f79117",
   "metadata": {},
   "source": [
    "For many applications we need to work with derivatives, i.e. in case of gradient descent, backpropagation, for solving differential equations and for deriving approximations. One important method for deriving approximations is the **Taylor series**:<br>\n",
    "<br>\n",
    "$f(x) = \\sum_{n=0}^{\\infty}\\frac{1}{n!}\\frac{d^n f(x)}{dx^n}|_{x=x_0}\\left(x - x_0\\right)^n$<br>"
   ]
  },
  {
   "cell_type": "markdown",
   "id": "c2921606-794e-46e9-a47e-795a92423511",
   "metadata": {},
   "source": [
    "<br>"
   ]
  },
  {
   "cell_type": "markdown",
   "id": "a8a483aa-805e-44d3-b598-4581c26ab223",
   "metadata": {},
   "source": [
    "<br>"
   ]
  },
  {
   "cell_type": "markdown",
   "id": "858bfa95-3edc-44ed-8b24-cd70e6c61701",
   "metadata": {},
   "source": [
    "**3) Exercise**"
   ]
  },
  {
   "cell_type": "markdown",
   "id": "fcbddc57-3d3e-4627-8996-57a39ed23b4a",
   "metadata": {},
   "source": [
    "3a) Consider the function $f(x) = \\sqrt{1 + x}$ in the range zero to four. Derive the 1st and 2nd order Taylor approximation of $f(x)$ at $x_0 = 0$ and **plot the exact function in the same graph together with both approximations**. Add legends for all three graphs and don't forget axis labels!<br> Estimate $\\sqrt{1.5}$, $\\sqrt{2}$ and $\\sqrt{3}$ from both approximations and compare the values to the exact values (create a small table using a **dataframe**). "
   ]
  },
  {
   "cell_type": "markdown",
   "id": "14d44950-13f4-4760-9f0e-fafa73cfd466",
   "metadata": {},
   "source": [
    "<br>"
   ]
  },
  {
   "cell_type": "markdown",
   "id": "84d89938-45b6-43f9-8210-27682d510b4c",
   "metadata": {},
   "source": [
    "3b) Create a **class** *Palindrome_Checker*, that takes a string in its `__init__`. The class then should contain **three methods** of checking if a string is a palindrome: via a loop (use the *break* statement in order to make the code most efficient), via recursion and via the fastes way, which is *My_StringS[::-1]*. In each case the method should return a statement if the input string is a palindrome or not. "
   ]
  }
 ],
 "metadata": {
  "kernelspec": {
   "display_name": "Python 3 (ipykernel)",
   "language": "python",
   "name": "python3"
  },
  "language_info": {
   "codemirror_mode": {
    "name": "ipython",
    "version": 3
   },
   "file_extension": ".py",
   "mimetype": "text/x-python",
   "name": "python",
   "nbconvert_exporter": "python",
   "pygments_lexer": "ipython3",
   "version": "3.11.7"
  }
 },
 "nbformat": 4,
 "nbformat_minor": 5
}
