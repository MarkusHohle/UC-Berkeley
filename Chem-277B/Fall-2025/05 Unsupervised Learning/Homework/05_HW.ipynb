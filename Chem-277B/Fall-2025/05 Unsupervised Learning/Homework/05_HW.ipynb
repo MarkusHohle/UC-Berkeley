{
 "cells": [
  {
   "cell_type": "markdown",
   "id": "4af23393",
   "metadata": {},
   "source": [
    "# Homework Assignment 5 - Chem 277B\n",
    "## Flower Image Analysis"
   ]
  },
  {
   "cell_type": "markdown",
   "id": "cdab7dec",
   "metadata": {},
   "source": [
    "### 1) Objective\n",
    "\n",
    "Before Convolutional Neural Networks (CNN) became available, K-means was an efficient method to segment images. Each pixel is represented by its RGB color vector. If we assume that pixel which belong to the same object should have the same color, then K-means should be able to cluster the pixel accordingly and therefore segment the image.<br> \n",
    "We want to analyze the Oxford 102 Flower Dataset using K-means clustering, hierarchical clustering, and decision tree classification and later in the course compare the results we obtain here to what we obtain using CNNs.<br>\n",
    "<br>"
   ]
  },
  {
   "cell_type": "markdown",
   "id": "3abb895c",
   "metadata": {},
   "source": [
    "### 2) Preparation\n",
    "\n",
    "Before starting, we need to import the necessary libraries for data analysis and visualization.<br>\n",
    "First, we import the standard libraries: "
   ]
  },
  {
   "cell_type": "code",
   "execution_count": null,
   "id": "6571d5b9",
   "metadata": {},
   "outputs": [],
   "source": [
    "import numpy as np\n",
    "import seaborn as sns\n",
    "import matplotlib.pyplot as plt\n",
    "from matplotlib.colors import rgb_to_hsv, hsv_to_rgb\n",
    "from scipy.spatial.distance import pdist, squareform"
   ]
  },
  {
   "cell_type": "markdown",
   "id": "4bb84277",
   "metadata": {},
   "source": [
    "Next, we need to load the dataset from `torchvision`"
   ]
  },
  {
   "cell_type": "code",
   "execution_count": null,
   "id": "45ccf25e-ff31-43ff-ae01-22e559e9db79",
   "metadata": {},
   "outputs": [],
   "source": [
    "from torchvision.datasets import Flowers102 #pip install torchvision if necessary"
   ]
  },
  {
   "cell_type": "markdown",
   "id": "bbf7d7b0-fbd7-413b-899a-90e060187277",
   "metadata": {},
   "source": [
    "Finally, we import our clustering methods:"
   ]
  },
  {
   "cell_type": "code",
   "execution_count": null,
   "id": "8c56c90e-0bad-464a-b8f2-c76421bfc8f7",
   "metadata": {},
   "outputs": [],
   "source": [
    "from sklearn.cluster import KMeans\n",
    "from sklearn.tree import DecisionTreeClassifier, plot_tree\n",
    "from sklearn.metrics import confusion_matrix, ConfusionMatrixDisplay"
   ]
  },
  {
   "cell_type": "markdown",
   "id": "6899b272-fc30-4e00-9c21-16b1459dfe7b",
   "metadata": {},
   "source": [
    "<br>"
   ]
  },
  {
   "cell_type": "markdown",
   "id": "b5f63154-2379-4035-8c7d-c0d296c89896",
   "metadata": {},
   "source": [
    "The dataset from `torchvision` contains various flower images and their corresponding labels.<br>\n",
    "Run the following lines (it might take a few minutes!)."
   ]
  },
  {
   "cell_type": "code",
   "execution_count": null,
   "id": "04812cd7-d279-4313-b8a7-731fbd3405d1",
   "metadata": {},
   "outputs": [],
   "source": [
    "transforms = lambda x: np.array(x) / 255\n",
    "dataset_train = Flowers102(root='Data', split='train', download=True, transform=transforms)\n",
    "dataset_val = Flowers102(root='Data', split='val', download=True, transform=transforms)\n",
    "dataset_test = Flowers102(root='Data', split='test', download=True, transform=transforms)\n",
    "labels_train = np.array(dataset_train._labels)\n",
    "labels_val = np.array(dataset_val._labels)\n",
    "labels_test = np.array(dataset_test._labels)"
   ]
  },
  {
   "cell_type": "code",
   "execution_count": null,
   "id": "4713389d-32f4-456d-aedb-66ceefc255cf",
   "metadata": {},
   "outputs": [],
   "source": [
    "classes = np.array([\"pink primrose\", \"hard-leaved pocket orchid\", \"canterbury bells\", \"sweet pea\",\"english marigold\",\"tiger lily\", \"moon orchid\",\n",
    "    \"bird of paradise\", \"monkshood\",\"globe thistle\", \"snapdragon\",\"colt's foot\",\"king protea\",\"spear thistle\",\"yellow iris\",\"globe-flower\",\n",
    "    \"purple coneflower\", \"peruvian lily\", \"balloon flower\", \"giant white arum lily\",\"fire lily\",\"pincushion flower\", \"fritillary\", \"red ginger\",\n",
    "    \"grape hyacinth\",\"corn poppy\", \"prince of wales feathers\",\"stemless gentian\",\"artichoke\",\"sweet william\",\"carnation\", \"garden phlox\",\n",
    "    \"love in the mist\",\"mexican aster\", \"alpine sea holly\", \"ruby-lipped cattleya\", \"cape flower\", \"great masterwort\", \"siam tulip\",  \"lenten rose\",\n",
    "    \"barbeton daisy\", \"daffodil\", \"sword lily\", \"poinsettia\", \"bolero deep blue\", \"wallflower\",\"marigold\", \"buttercup\", \"oxeye daisy\",\n",
    "    \"common dandelion\", \"petunia\", \"wild pansy\",\"primula\", \"sunflower\",\"pelargonium\", \"bishop of llandaff\", \"gaura\", \"geranium\", \"orange dahlia\",\n",
    "    \"pink-yellow dahlia?\",\"cautleya spicata\", \"japanese anemone\", \"black-eyed susan\", \"silverbush\", \"californian poppy\", \"osteospermum\",\n",
    "    \"spring crocus\", \"bearded iris\", \"windflower\", \"tree poppy\", \"gazania\", \"azalea\", \"water lily\",\"rose\", \"thorn apple\", \"morning glory\",\n",
    "    \"passion flower\", \"lotus\", \"toad lily\", \"anthurium\", \"frangipani\", \"clematis\", \"hibiscus\", \"columbine\", \"desert-rose\", \"tree mallow\", \"magnolia\",\n",
    "    \"cyclamen\",  \"watercress\", \"canna lily\", \"hippeastrum\", \"bee balm\", \"ball moss\", \"foxglove\", \"bougainvillea\",\"camellia\",\"mallow\",\"mexican petunia\",\n",
    "    \"bromelia\", \"blanket flower\", \"trumpet creeper\", \"blackberry lily\"])"
   ]
  },
  {
   "cell_type": "markdown",
   "id": "61fac27d-c9d1-4d88-bd9c-cad577fedd97",
   "metadata": {},
   "source": [
    "<br>"
   ]
  },
  {
   "cell_type": "markdown",
   "id": "7df4b28d-ff25-409d-bd6e-ea663c0fd1fb",
   "metadata": {},
   "source": [
    "2.1) We can display images in python using `plt.imshow(x)`, where *x* is the image. Show the first image from the dataset to understand what the data looks like."
   ]
  },
  {
   "cell_type": "code",
   "execution_count": null,
   "id": "5d008052-a585-4cf9-b2f3-89f3c0312569",
   "metadata": {},
   "outputs": [],
   "source": [
    "index = 0 #first image\n",
    "x, y = dataset_train[index] #x: image, y: the label, classes[y]: the actual name of the flower (type str) \n",
    "\n",
    "######## Fill in the code below ########\n",
    " \n",
    "########################################"
   ]
  },
  {
   "cell_type": "markdown",
   "id": "7244271a-f5a2-42f0-a547-af5a0b6e41b5",
   "metadata": {},
   "source": [
    "<br>"
   ]
  },
  {
   "cell_type": "markdown",
   "id": "2ca62e84-92e3-47ef-9ecf-a6ec842a64cf",
   "metadata": {},
   "source": [
    "2.2) Print the shape and type of the image. Generate three plots, each showing the image only in one color channel in gray scale (`cmap='gray'`)! "
   ]
  },
  {
   "cell_type": "code",
   "execution_count": null,
   "id": "28ee19c7-b402-45ee-8bd8-1c2170263b3b",
   "metadata": {},
   "outputs": [],
   "source": [
    "######## Fill in the code below ########\n",
    " \n",
    "########################################"
   ]
  },
  {
   "cell_type": "markdown",
   "id": "5459de99-be8f-47b2-8c6f-d9649119c801",
   "metadata": {},
   "source": [
    "<br>"
   ]
  },
  {
   "cell_type": "markdown",
   "id": "9f197e26",
   "metadata": {},
   "source": [
    "2.3) Show an image in the first 8 classes from the dataset to understand what the data looks like."
   ]
  },
  {
   "cell_type": "code",
   "execution_count": null,
   "id": "259187ad",
   "metadata": {},
   "outputs": [],
   "source": [
    "indices = [0, 10, 20, 30, 40, 50, 60, 70]\n",
    "\n",
    "######## Fill in the code below ########\n",
    " \n",
    "########################################"
   ]
  },
  {
   "cell_type": "markdown",
   "id": "2e49738c-4c8f-459d-b04c-e19a713b1de0",
   "metadata": {},
   "source": [
    "<br>"
   ]
  },
  {
   "cell_type": "markdown",
   "id": "ba83e17a",
   "metadata": {},
   "source": [
    "### 3) Image Segmentation\n",
    "\n",
    "3.1) Segment the first image in the training set using K-means clustering. Reshape the image into a 2D array where each row represents a pixel and each column represents a color channel (RGB), and then apply K-means clustering to cluster the pixels. Visualize the segmented image and discuss what you observe."
   ]
  },
  {
   "cell_type": "code",
   "execution_count": null,
   "id": "6661692e",
   "metadata": {},
   "outputs": [],
   "source": [
    "index = 0\n",
    "\n",
    "######## Fill in the code below ########\n",
    " \n",
    "########################################"
   ]
  },
  {
   "cell_type": "markdown",
   "id": "f7654160",
   "metadata": {},
   "source": [
    "> your answer here!"
   ]
  },
  {
   "cell_type": "markdown",
   "id": "e86d0d0e",
   "metadata": {},
   "source": [
    "3.2) Visualize the center of each cluster as a color using `plt.imshow(colors.reshape(.., .., ..))`. What does this tell you about the image?"
   ]
  },
  {
   "cell_type": "code",
   "execution_count": null,
   "id": "5f25eecb",
   "metadata": {},
   "outputs": [],
   "source": [
    "######## Fill in the code below ########\n",
    "\n",
    "########################################"
   ]
  },
  {
   "cell_type": "markdown",
   "id": "e51010a4",
   "metadata": {},
   "source": [
    "> your answer here!"
   ]
  },
  {
   "cell_type": "markdown",
   "id": "3bba57ae-4d26-4ff6-9b66-e0aeed157bc1",
   "metadata": {},
   "source": [
    "<br>"
   ]
  },
  {
   "cell_type": "markdown",
   "id": "1bcb3deb",
   "metadata": {},
   "source": [
    "3.3) Reconstruct the image using the cluster centers and the labels assigned to each pixel. Does the reconstructed image capture the main features of the original image? Discuss your observations."
   ]
  },
  {
   "cell_type": "code",
   "execution_count": null,
   "id": "e5706d1c",
   "metadata": {},
   "outputs": [],
   "source": [
    "plt.imshow(colors[pxl_labels].reshape(H, W, C))\n",
    "plt.axis('off')\n",
    "plt.title('Reconstructed image')\n",
    "plt.show()"
   ]
  },
  {
   "cell_type": "markdown",
   "id": "e68ad07c",
   "metadata": {},
   "source": [
    "> your answer here!"
   ]
  },
  {
   "cell_type": "markdown",
   "id": "3346ccd0-937c-4e30-a23e-4b634057e140",
   "metadata": {},
   "source": [
    "<br>"
   ]
  },
  {
   "cell_type": "markdown",
   "id": "6dc3c77f",
   "metadata": {},
   "source": [
    "### 4) Image Clustering\n",
    "\n",
    "4.1) Use hierarchical clustering (`sns.clustermap`) to cluster the first 8 classes of images in the training set. Compute the mean color of the first image in the class and use the mean colors as features. Next, based on the mean colors, generate a distance square matrix (you can use `pdist(your_means, metric='euclidean')`) for clustering. Visualize the resulting dendrogram and discuss what you observe."
   ]
  },
  {
   "cell_type": "code",
   "execution_count": null,
   "id": "605a7c5b",
   "metadata": {},
   "outputs": [],
   "source": [
    "indices = [0, 10, 20, 30, 40, 50, 60, 70]\n",
    "ticks = classes[labels_train[indices]]\n",
    "\n",
    "######## Fill in the code below ########\n",
    "\n",
    "########################################"
   ]
  },
  {
   "cell_type": "markdown",
   "id": "3de85de5",
   "metadata": {},
   "source": [
    "> your answer here!"
   ]
  },
  {
   "cell_type": "markdown",
   "id": "aa38514f-fb6e-4b40-8bf2-769d5464efa9",
   "metadata": {},
   "source": [
    "<br>"
   ]
  },
  {
   "cell_type": "markdown",
   "id": "ed9505c4",
   "metadata": {},
   "source": [
    "### 5) Classification\n",
    "\n",
    "5.1) Perform decision tree classification using `DecisionTreeClassifier` to predict the flower species based on the features from the K-means clustering. Train the decision tree classifier for class 0 (pink primrose) and class 4 (english marigold) on the training set and evaluate its performance on the validation set by creating a **confusion matrix plot** for both, training and evaluation set. Discuss why or why not the features from K-means clustering might be effective for this classification task."
   ]
  },
  {
   "cell_type": "code",
   "execution_count": null,
   "id": "f6078037",
   "metadata": {},
   "outputs": [],
   "source": [
    "indices_train = np.array([0, 1, 2, 3, 4, 5, 6, 7, 8, 9, 40, 41, 42, 43, 44, 45, 46, 47, 48, 49])\n",
    "indices_val = np.array([0, 1, 2, 3, 4, 5, 6, 7, 8, 9, 40, 41, 42, 43, 44, 45, 46, 47, 48, 49])\n",
    "\n",
    "######## Fill in the code below ########\n",
    "def extract_features(image, n_clusters=2):\n",
    "....\n",
    "\n",
    "tree = DecisionTreeClassifier(random_state=42)\n",
    "tree.fit(x_train, y_train)\n",
    "\n",
    "....\n",
    "########################################"
   ]
  },
  {
   "cell_type": "markdown",
   "id": "93904115",
   "metadata": {},
   "source": [
    "> your answer here!"
   ]
  },
  {
   "cell_type": "markdown",
   "id": "8dd2a238",
   "metadata": {},
   "source": [
    "Visualize the decision tree and interpret the results. Discuss which features are most important for classification and how well the model performs. You can visualize the features as colors to help interpret the decision tree."
   ]
  },
  {
   "cell_type": "code",
   "execution_count": null,
   "id": "cd404db6",
   "metadata": {},
   "outputs": [],
   "source": [
    "plt.imshow(x_train.reshape(-1, n_clusters, 3))\n",
    "plt.axis('off')\n",
    "plt.title('Training features as colors')\n",
    "plt.show()\n",
    "\n",
    "plt.imshow(x_val.reshape(-1, n_clusters, 3))\n",
    "plt.axis('off')\n",
    "plt.title('Validation features as colors')\n",
    "plt.show()\n",
    "\n",
    "feature_names = [f'cluster{i}-{c}' for i in range(n_clusters) for c in ['red', 'green', 'blue']]\n",
    "plot_tree(tree, filled=True, feature_names=feature_names, fontsize=10)\n",
    "plt.show()"
   ]
  },
  {
   "cell_type": "markdown",
   "id": "bc5ad83d",
   "metadata": {},
   "source": [
    "> your answer here!"
   ]
  },
  {
   "cell_type": "markdown",
   "id": "3fb882e7",
   "metadata": {},
   "source": [
    "5.2) Try a little more feature engineering by, for example, converting the RGB color space to HSV color space (`image = rgb_to_hsv(image)`) before applying K-means clustering, as well as sorting the cluster centers before flattening them into a feature vector. See if these changes improve the classification performance."
   ]
  },
  {
   "cell_type": "code",
   "execution_count": null,
   "id": "bc5784bf",
   "metadata": {},
   "outputs": [],
   "source": [
    "indices_train = np.array([0, 1, 2, 3, 4, 5, 6, 7, 8, 9, 40, 41, 42, 43, 44, 45, 46, 47, 48, 49])\n",
    "indices_val = np.array([0, 1, 2, 3, 4, 5, 6, 7, 8, 9, 40, 41, 42, 43, 44, 45, 46, 47, 48, 49])\n",
    "\n",
    "######## Fill in the code below ########\n",
    "def extract_features(image, n_clusters=2):\n",
    "\n",
    "....\n",
    "tree = DecisionTreeClassifier(random_state=42)\n",
    "tree.fit(x_train, y_train)\n",
    "....\n",
    "########################################"
   ]
  },
  {
   "cell_type": "markdown",
   "id": "b8869f03",
   "metadata": {},
   "source": [
    "> your answer here!"
   ]
  },
  {
   "cell_type": "markdown",
   "id": "e57caa39",
   "metadata": {},
   "source": [
    "5.3) Try your final classification method on class 0 (pink primrose) and class 1 (hard-leaved pocket orchid). How well does it perform? Discuss what kind of features we have not considered that might help improve the classification."
   ]
  },
  {
   "cell_type": "code",
   "execution_count": null,
   "id": "48bd0ad0",
   "metadata": {},
   "outputs": [],
   "source": [
    "indices_train = np.array([0, 1, 2, 3, 4, 5, 6, 7, 8, 9, 10, 11, 12, 13, 14, 15, 16, 17, 18, 19])\n",
    "indices_val = np.array([0, 1, 2, 3, 4, 5, 6, 7, 8, 9, 10, 11, 12, 13, 14, 15, 16, 17, 18, 19])\n",
    "\n",
    "######## Fill in the code below ########\n",
    "\n",
    "########################################"
   ]
  },
  {
   "cell_type": "markdown",
   "id": "1f559902",
   "metadata": {},
   "source": [
    "> your answer here!"
   ]
  }
 ],
 "metadata": {
  "kernelspec": {
   "display_name": "Python 3 (ipykernel)",
   "language": "python",
   "name": "python3"
  },
  "language_info": {
   "codemirror_mode": {
    "name": "ipython",
    "version": 3
   },
   "file_extension": ".py",
   "mimetype": "text/x-python",
   "name": "python",
   "nbconvert_exporter": "python",
   "pygments_lexer": "ipython3",
   "version": "3.11.7"
  }
 },
 "nbformat": 4,
 "nbformat_minor": 5
}
