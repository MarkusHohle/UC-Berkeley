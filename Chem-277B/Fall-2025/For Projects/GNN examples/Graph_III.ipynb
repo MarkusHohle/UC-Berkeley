{
 "cells": [
  {
   "cell_type": "markdown",
   "id": "1c4a7b96-98ee-44cd-8c8f-144d6099c467",
   "metadata": {},
   "source": [
    "# Graphs III\n",
    "## The Caffeine Molecule - Revisited"
   ]
  },
  {
   "attachments": {
    "f057e4d1-e944-428a-ac62-50f225172bdd.jpg": {
     "image/jpeg": "[encoded data removed]"
    }
   },
   "cell_type": "markdown",
   "id": "f65c2368-c342-4922-b271-a3c28b9f9a01",
   "metadata": {},
   "source": [
    "Now we want to train an actual GNN on our Caffeine molecule. The task is to predict the kind of atom (node) based on the node features and edge attributes. This is a classification problem. In our case, the problem is actually very simple since we know the atomic mass, but let us pretent for a moment that we don't know the connection between atomic mass and the actual atom. Think about investigating a social network or pinpointing specific computer/user in the internet in a crime investigation.<br>\n",
    "![Caffeine_Molecule.jpg](attachment:f057e4d1-e944-428a-ac62-50f225172bdd.jpg)\n",
    "(source: espresso planet)"
   ]
  },
  {
   "cell_type": "markdown",
   "id": "76033ac3-78e2-4567-a9de-e8f878f4dec3",
   "metadata": {},
   "source": [
    "Also the accuracy won't be great since we have only 24 atoms and their frequencies are also not equally distributed. Nevertheless, we can learn the following aspects<br>\n",
    "- basic syntax for running a GNN using PyTorch<br>\n",
    "- how to build a graph such that we can feed it into our model<br>\n",
    "- understand the dynamics of the training process<br>"
   ]
  },
  {
   "cell_type": "markdown",
   "id": "46cdfd4b-8edd-4e7b-bd89-ffd17c8a5c71",
   "metadata": {},
   "source": [
    "<br>"
   ]
  },
  {
   "cell_type": "markdown",
   "id": "bd91947b-7a92-4cc9-b3c2-f64996aa6b9b",
   "metadata": {},
   "source": [
    "**0) Loading Libraries**"
   ]
  },
  {
   "cell_type": "markdown",
   "id": "a794fd0f-bea6-47e4-8a64-6f31a7b01bc6",
   "metadata": {},
   "source": [
    "First, we load our standard libraries, including one needed for random sampling. We will need it for the training part. "
   ]
  },
  {
   "cell_type": "code",
   "execution_count": 53,
   "id": "10ff6bca-5f5d-4d4c-ad33-bbbd77331525",
   "metadata": {},
   "outputs": [],
   "source": [
    "import random\n",
    "import numpy as np"
   ]
  },
  {
   "cell_type": "markdown",
   "id": "746a62ff-7463-4816-a104-0ffef075e2fc",
   "metadata": {},
   "source": [
    "Next, we load the library *Data*. We will need this library to turn our graph into a *torch_geometric.data.data.Data* object. This particular structure is needed for the GNN.  "
   ]
  },
  {
   "cell_type": "code",
   "execution_count": 55,
   "id": "7edfb8cc-6f9a-47fd-bf10-eb2ed76983aa",
   "metadata": {},
   "outputs": [],
   "source": [
    "from torch_geometric.data import Data"
   ]
  },
  {
   "cell_type": "markdown",
   "id": "1247ffec-2131-45b7-9315-5277dd46d33f",
   "metadata": {},
   "source": [
    "And of course we need to load PyTorch itself:"
   ]
  },
  {
   "cell_type": "code",
   "execution_count": 57,
   "id": "10768348-1bc3-4080-9efc-deface19be7a",
   "metadata": {},
   "outputs": [],
   "source": [
    "import torch"
   ]
  },
  {
   "cell_type": "markdown",
   "id": "6a5d2357-6a59-4482-8449-ccc4de7f28dc",
   "metadata": {},
   "source": [
    "<br>"
   ]
  },
  {
   "cell_type": "markdown",
   "id": "f08cc605-eaac-4c93-bcb9-d91db69e4280",
   "metadata": {},
   "source": [
    "**1) Caffeine again**"
   ]
  },
  {
   "cell_type": "markdown",
   "id": "2711eff6-4e01-44b3-8996-5b8bb54ad0d5",
   "metadata": {},
   "source": [
    "First, we need to create the caffeine molecule again. We run the same code as in Graph II."
   ]
  },
  {
   "cell_type": "code",
   "execution_count": 59,
   "id": "3c0438dd-f10b-4710-b26f-89691de271e1",
   "metadata": {},
   "outputs": [],
   "source": [
    "Atoms = ['C1', 'C2', 'C3', 'C4','C5', 'C6', 'C7', 'C8',\\\n",
    "         'H1', 'H2','H3', 'H4','H5', 'H6','H7', 'H8','H9', 'H10',\\\n",
    "         'N1', 'N2', 'N3', 'N4',\\\n",
    "         'O1', 'O2']\n",
    "\n",
    "N     = len(Atoms)\n",
    "\n",
    "Mass  = np.array([12,12,12,12,12,12,12,12,\\\n",
    "                   1, 1, 1, 1, 1, 1, 1, 1, 1, 1,\\\n",
    "                  14,14,14,14,\\\n",
    "                  16,16])\n",
    "\n",
    "#electronegativity    \n",
    "Eminus = np.array([2.55, 2.55, 2.55, 2.55, 2.55, 2.55, 2.55, 2.55,\\\n",
    "                   2.20, 2.20, 2.20, 2.20, 2.20, 2.20, 2.20, 2.20, 2.20, 2.20,\\\n",
    "                   3.04, 3.04, 3.04, 3.04,\\\n",
    "                   3.44, 3.44])\n",
    "\n",
    "A = np.array((\n",
    "             [0, 0, 0, 0, 0, 0, 0, 0, 1, 1, 1, 0, 0, 0, 0, 0, 0, 0, 1, 0, 0, 0, 0, 0],\n",
    "             [0, 0, 1, 0, 0, 0, 0, 0, 0, 0, 0, 0, 0, 0, 0, 0, 0, 0, 1, 0, 0, 0, 2, 0],\n",
    "             [0, 1, 0, 2, 0, 0, 0, 0, 0, 0, 0, 0, 0, 0, 0, 0, 0, 0, 0, 1, 0, 0, 0, 0],\n",
    "             [0, 0, 2, 0, 0, 0, 0, 0, 0, 0, 0, 0, 0, 0, 0, 0, 0, 0, 0, 0, 1, 1, 0, 0],\n",
    "             [0, 0, 0, 0, 0, 0, 0, 0, 0, 0, 0, 0, 0, 0, 1, 1, 1, 0, 0, 0, 0, 1, 0, 0],\n",
    "             [0, 0, 0, 0, 0, 0, 0, 0, 0, 0, 0, 0, 0, 0, 0, 0, 0, 0, 1, 0, 0, 1, 0, 2],\n",
    "             [0, 0, 0, 0, 0, 0, 0, 0, 0, 0, 0, 0, 0, 0, 0, 0, 0, 1, 0, 1, 2, 0, 0, 0],\n",
    "             [0, 0, 0, 0, 0, 0, 0, 0, 0, 0, 0, 1, 1, 1, 0, 0, 0, 0, 0, 1, 0, 0, 0, 0],\n",
    "             [1, 0, 0, 0, 0, 0, 0, 0, 0, 0, 0, 0, 0, 0, 0, 0, 0, 0, 0, 0, 0, 0, 0, 0],\n",
    "             [1, 0, 0, 0, 0, 0, 0, 0, 0, 0, 0, 0, 0, 0, 0, 0, 0, 0, 0, 0, 0, 0, 0, 0],\n",
    "             [1, 0, 0, 0, 0, 0, 0, 0, 0, 0, 0, 0, 0, 0, 0, 0, 0, 0, 0, 0, 0, 0, 0, 0],\n",
    "             [0, 0, 0, 0, 0, 0, 0, 1, 0, 0, 0, 0, 0, 0, 0, 0, 0, 0, 0, 0, 0, 0, 0, 0],\n",
    "             [0, 0, 0, 0, 0, 0, 0, 1, 0, 0, 0, 0, 0, 0, 0, 0, 0, 0, 0, 0, 0, 0, 0, 0],\n",
    "             [0, 0, 0, 0, 0, 0, 0, 1, 0, 0, 0, 0, 0, 0, 0, 0, 0, 0, 0, 0, 0, 0, 0, 0],\n",
    "             [0, 0, 0, 0, 1, 0, 0, 0, 0, 0, 0, 0, 0, 0, 0, 0, 0, 0, 0, 0, 0, 0, 0, 0],\n",
    "             [0, 0, 0, 0, 1, 0, 0, 0, 0, 0, 0, 0, 0, 0, 0, 0, 0, 0, 0, 0, 0, 0, 0, 0],\n",
    "             [0, 0, 0, 0, 1, 0, 0, 0, 0, 0, 0, 0, 0, 0, 0, 0, 0, 0, 0, 0, 0, 0, 0, 0],\n",
    "             [0, 0, 0, 0, 0, 0, 1, 0, 0, 0, 0, 0, 0, 0, 0, 0, 0, 0, 0, 0, 0, 0, 0, 0],\n",
    "             [1, 1, 0, 0, 0, 1, 0, 0, 0, 0, 0, 0, 0, 0, 0, 0, 0, 0, 0, 0, 0, 0, 0, 0],\n",
    "             [0, 0, 1, 0, 0, 0, 1, 1, 0, 0, 0, 0, 0, 0, 0, 0, 0, 0, 0, 0, 0, 0, 0, 0],\n",
    "             [0, 0, 0, 1, 0, 0, 2, 0, 0, 0, 0, 0, 0, 0, 0, 0, 0, 0, 0, 0, 0, 0, 0, 0],\n",
    "             [0, 0, 0, 1, 1, 1, 0, 0, 0, 0, 0, 0, 0, 0, 0, 0, 0, 0, 0, 0, 0, 0, 0, 0],\n",
    "             [0, 2, 0, 0, 0, 0, 0, 0, 0, 0, 0, 0, 0, 0, 0, 0, 0, 0, 0, 0, 0, 0, 0, 0],\n",
    "             [0, 0, 0, 0, 0, 2, 0, 0, 0, 0, 0, 0, 0, 0, 0, 0, 0, 0, 0, 0, 0, 0, 0, 0]))\n",
    "\n",
    "SpecEminus  = Eminus/Mass\n",
    "DSpecEminus = np.tile(SpecEminus, (N,1)).transpose() - np.tile(SpecEminus, (N,1))\n",
    "\n",
    "Affinity    = A * (DSpecEminus + 1 - np.eye(N)) #np.eye removes diagonal elements       \n",
    "\n",
    "Adj_Tuple = []\n",
    "Weights   = []#from  Affinity Matrix\n",
    "Edges     = []\n",
    "\n",
    "for i in range(N):\n",
    "    for j in range(N):\n",
    "        if A[i,j] != 0:\n",
    "            Adj_Tuple += [(Atoms[i], Atoms[j])]\n",
    "            Weights   += [Affinity[i,j]]\n",
    "            Edges     += [(i, j)]"
   ]
  },
  {
   "cell_type": "markdown",
   "id": "d3e08d7f-d5d4-42b5-8122-f62bfaef0271",
   "metadata": {},
   "source": [
    "<br>"
   ]
  },
  {
   "cell_type": "markdown",
   "id": "706afa9e-7ac7-468a-9d39-4e4b7385e262",
   "metadata": {},
   "source": [
    "**2) Creating X and Y**"
   ]
  },
  {
   "cell_type": "markdown",
   "id": "4dec9235-956a-4f89-a8d2-38fe19148212",
   "metadata": {},
   "source": [
    "Since we are attempting to solve a classification problem, we need to create the target class vector *Y* and the corresponding feature matrix *X*. The vector *Y* is just our well known sparse class vector, whereas *X* is a matrix where each row corresponds to a node and each column contains the value of one feature (here: atomic mass and electronegativity).   "
   ]
  },
  {
   "cell_type": "code",
   "execution_count": 61,
   "id": "7d37afcb-8c71-486d-82b0-7a77b2568e6c",
   "metadata": {},
   "outputs": [],
   "source": [
    "#Y: sparse vector for classes\n",
    "Y = np.zeros((N,))\n",
    "#X: is a list of nodes with features:\n",
    "X = np.zeros((N, 2))\n",
    "\n",
    "for i, (a,m,e) in enumerate(zip(Atoms, Mass, Eminus)):\n",
    "    if 'C' in a:\n",
    "        c = 0\n",
    "    if 'H' in a:\n",
    "        c = 1\n",
    "    if 'N' in a:\n",
    "        c = 2\n",
    "    if 'O' in a:\n",
    "        c = 3\n",
    "    X[i,:] = [m, e]    \n",
    "    Y[i]   = c"
   ]
  },
  {
   "cell_type": "markdown",
   "id": "07b60241-f702-492f-aab9-57bde7e3473e",
   "metadata": {},
   "source": [
    "We check for consistency:"
   ]
  },
  {
   "cell_type": "code",
   "execution_count": 63,
   "id": "cb726033-8d2e-40db-971b-59818b77fce4",
   "metadata": {},
   "outputs": [
    {
     "name": "stdout",
     "output_type": "stream",
     "text": [
      "[0. 0. 0. 0. 0. 0. 0. 0. 1. 1. 1. 1. 1. 1. 1. 1. 1. 1. 2. 2. 2. 2. 3. 3.]\n"
     ]
    }
   ],
   "source": [
    "print(Y)"
   ]
  },
  {
   "cell_type": "code",
   "execution_count": 65,
   "id": "4c5ae575-e9b4-4c33-8dd2-8bc50f49bcf2",
   "metadata": {},
   "outputs": [
    {
     "name": "stdout",
     "output_type": "stream",
     "text": [
      "[[12.    2.55]\n",
      " [12.    2.55]\n",
      " [12.    2.55]\n",
      " [12.    2.55]\n",
      " [12.    2.55]\n",
      " [12.    2.55]\n",
      " [12.    2.55]\n",
      " [12.    2.55]\n",
      " [ 1.    2.2 ]\n",
      " [ 1.    2.2 ]\n",
      " [ 1.    2.2 ]\n",
      " [ 1.    2.2 ]\n",
      " [ 1.    2.2 ]\n",
      " [ 1.    2.2 ]\n",
      " [ 1.    2.2 ]\n",
      " [ 1.    2.2 ]\n",
      " [ 1.    2.2 ]\n",
      " [ 1.    2.2 ]\n",
      " [14.    3.04]\n",
      " [14.    3.04]\n",
      " [14.    3.04]\n",
      " [14.    3.04]\n",
      " [16.    3.44]\n",
      " [16.    3.44]]\n"
     ]
    }
   ],
   "source": [
    "print(X)"
   ]
  },
  {
   "cell_type": "markdown",
   "id": "17bed2ec-6975-4996-93e8-631ada77f654",
   "metadata": {},
   "source": [
    "<br>"
   ]
  },
  {
   "cell_type": "markdown",
   "id": "def336fe-c6ba-450a-ad3b-870035e970bf",
   "metadata": {},
   "source": [
    "**3) Generating the *torch_geometric.data.data.Data* object**"
   ]
  },
  {
   "cell_type": "markdown",
   "id": "1cf325f4-d6ac-4407-a086-aafb8c52839d",
   "metadata": {},
   "source": [
    "The next step is to turn the graph into a **torch tensor** with attributes such as edges and weights and also *X* and *Y*. A tricky part is that PyTorch expects specific data types for some attributes such as float32 (instead of float64) and *long* format. We need to stick to these specific requirements. Otherwise PyTorch will prompt error messages that might be hard to interprete.<br>\n",
    "Also make sure that the edge indexing worked well, such that the maximum value in *Edges* does not exceed the number of nodes."
   ]
  },
  {
   "cell_type": "code",
   "execution_count": 67,
   "id": "071d12e4-b6ce-451f-9512-c067c8f8f218",
   "metadata": {},
   "outputs": [],
   "source": [
    "x           = torch.tensor(X, dtype = torch.float) #has to be float\n",
    "y           = torch.tensor(Y, dtype = torch.long)  #has to be long format\n",
    "edge_index  = torch.tensor(np.array(Edges).transpose(), dtype=torch.long)\n",
    "edge_weight = torch.tensor(Weights, dtype=torch.float)"
   ]
  },
  {
   "cell_type": "code",
   "execution_count": 69,
   "id": "8319d0e6-409e-4037-b5e5-6b0178fa3b5e",
   "metadata": {},
   "outputs": [
    {
     "name": "stdout",
     "output_type": "stream",
     "text": [
      "tensor([-0.9875, -0.9875, -0.9875,  0.9954,  1.0000,  0.9954,  1.9950,  1.0000,\n",
      "         2.0000,  0.9954,  2.0000,  0.9954,  0.9954, -0.9875, -0.9875, -0.9875,\n",
      "         0.9954,  0.9954,  0.9954,  1.9950, -0.9875,  0.9954,  1.9907, -0.9875,\n",
      "        -0.9875, -0.9875,  0.9954,  2.9875,  2.9875,  2.9875,  2.9875,  2.9875,\n",
      "         2.9875,  2.9875,  2.9875,  2.9875,  2.9875,  1.0046,  1.0046,  1.0046,\n",
      "         1.0046,  1.0046,  1.0046,  1.0046,  2.0093,  1.0046,  1.0046,  1.0046,\n",
      "         2.0050,  2.0050])\n"
     ]
    }
   ],
   "source": [
    "print(edge_weight)"
   ]
  },
  {
   "cell_type": "markdown",
   "id": "96d5798d-a807-4efa-a827-618f545b239d",
   "metadata": {},
   "source": [
    "How does the training actually work? The idea is that we leave some nodes out and try to predict their class based on the neighbouring nodes and then compare the predicted classes to the actual class. In order to do that, we need to create a training mask that contains boolean which tell PyTorch which node has to be left out (= *True*). We select these nodes randomly with the typical 20% validation to 80% training ratio."
   ]
  },
  {
   "cell_type": "code",
   "execution_count": 71,
   "id": "9e5dba2c-3c83-4398-8303-39595a0c48f4",
   "metadata": {},
   "outputs": [],
   "source": [
    "training_mask = torch.tensor(np.random.choice([True, False], N, p = [0.3, 0.7]), dtype=torch.bool)"
   ]
  },
  {
   "cell_type": "markdown",
   "id": "824c6475-a76e-4b56-9c63-fcf8ac2a057d",
   "metadata": {},
   "source": [
    "Now we are ready to create the *Data* object."
   ]
  },
  {
   "cell_type": "code",
   "execution_count": 73,
   "id": "aa080d13-e6ad-4673-b2ca-db3d121f176a",
   "metadata": {},
   "outputs": [],
   "source": [
    "my_data = Data(x = x, y = y, training_mask = training_mask, edge_index = edge_index, edge_attr = edge_weight)"
   ]
  },
  {
   "cell_type": "code",
   "execution_count": 75,
   "id": "175c8c1d-c22c-4760-9ba5-9f8b85480844",
   "metadata": {},
   "outputs": [
    {
     "name": "stdout",
     "output_type": "stream",
     "text": [
      "Data(x=[24, 2], edge_index=[2, 50], edge_attr=[50], y=[24], training_mask=[24])\n"
     ]
    }
   ],
   "source": [
    "print(my_data)"
   ]
  },
  {
   "cell_type": "markdown",
   "id": "56d4e875-ee8c-4002-bb22-0008bbe683a3",
   "metadata": {},
   "source": [
    "<br>"
   ]
  },
  {
   "cell_type": "markdown",
   "id": "5c11850e-683a-494f-879c-d8f15f4e5a5c",
   "metadata": {},
   "source": [
    "**4) The Model**"
   ]
  },
  {
   "cell_type": "markdown",
   "id": "830c1954-2dcc-4c2c-85ee-7fda716476d7",
   "metadata": {},
   "source": [
    "We want to run our data on a two layer convolution GNN and add a soft max layer for classification. Each node can be embedded in an arbitrary number of dimensions (=hidden states or neurons). Like when we connected different dense layer or convolution layer, we can now connect the convolution GNN layer in the same way. Always keep in mind that it is just a simple matrix multiplication that is ran under the hood.  "
   ]
  },
  {
   "cell_type": "code",
   "execution_count": 77,
   "id": "aab90a8e-56f9-41ea-8b5a-925437a72888",
   "metadata": {},
   "outputs": [],
   "source": [
    "#import torch\n",
    "import torch.nn.functional as F\n",
    "from torch_geometric.nn import GCNConv\n",
    "\n",
    "class My_GCN(torch.nn.Module):\n",
    "    \n",
    "    def __init__(self, n_node_features, n_neuron, n_classes):\n",
    "        super(My_GCN, self).__init__()\n",
    "        \n",
    "        self.conv1 = GCNConv(n_node_features, n_neuron)\n",
    "        self.conv2 = GCNConv(n_neuron, n_classes)\n",
    "        \n",
    "\n",
    "    def forward(self, x, edge_index, edge_weight):\n",
    "        \n",
    "        x1 = self.conv1(x, edge_index, edge_weight = edge_weight)\n",
    "        x2 = F.relu(x1)\n",
    "        x3 = self.conv2(x2, edge_index, edge_weight = edge_weight)\n",
    "        \n",
    "        self.x1 = x1\n",
    "        self.x2 = x2\n",
    "        self.x3 = x3\n",
    "        \n",
    "        return F.log_softmax(x3, dim = 1)"
   ]
  },
  {
   "cell_type": "markdown",
   "id": "2ed650c7-bcfd-45b3-abe2-1a165e05ca1d",
   "metadata": {},
   "source": [
    "Next, we define a new class that initializes the model, calls an optimizer (here *Adam*) and runs the model."
   ]
  },
  {
   "cell_type": "code",
   "execution_count": 79,
   "id": "22b85bec-ff63-4dfc-b347-ae9f8f94cc39",
   "metadata": {},
   "outputs": [],
   "source": [
    "class FitModel():\n",
    "    \n",
    "    def __init__(self, my_model, learning_rate: float = 0.01):\n",
    "        \n",
    "        self.optimizer = torch.optim.Adam(my_model.parameters(), lr = learning_rate)\n",
    "        self.model = my_model\n",
    "        \n",
    "        \n",
    "    def Run(self, data, N_epochs: int = 200):\n",
    "        \n",
    "        lY = len(data.y)\n",
    "        \n",
    "        for n in range(N_epochs):\n",
    "            \n",
    "            self.model.train()\n",
    "            self.optimizer.zero_grad()\n",
    "            \n",
    "            out = self.model(data.x, data.edge_index, data.edge_attr)\n",
    "            loss = F.nll_loss(out[data.training_mask], data.y[data.training_mask])\n",
    "            loss.backward()\n",
    "            \n",
    "            self.optimizer.step()\n",
    "            \n",
    "            Y_pred = out.argmax(dim=1)\n",
    "            \n",
    "            acc    = (Y_pred == data.y).sum()/lY\n",
    "            \n",
    "            if not n % 10:\n",
    "                print(f'epoch: {n:>3} | loss: {loss:.2f} | accuracy: {acc*100:.2f}%' )\n",
    "        \n",
    "        \n",
    "        self.out = out"
   ]
  },
  {
   "cell_type": "markdown",
   "id": "5065289f-aaca-4d95-bcf1-cf0cb1571324",
   "metadata": {},
   "source": [
    "Now, we are ready to run our model:"
   ]
  },
  {
   "cell_type": "code",
   "execution_count": 81,
   "id": "97eed7ca-9f9d-4697-bd29-1fbc3365d95d",
   "metadata": {},
   "outputs": [
    {
     "data": {
      "text/plain": [
       "My_GCN(\n",
       "  (conv1): GCNConv(2, 100)\n",
       "  (conv2): GCNConv(100, 4)\n",
       ")"
      ]
     },
     "execution_count": 81,
     "metadata": {},
     "output_type": "execute_result"
    }
   ],
   "source": [
    "my_model = My_GCN(n_node_features = 2, n_neuron = 100, n_classes = 4)\n",
    "my_model"
   ]
  },
  {
   "cell_type": "code",
   "execution_count": 83,
   "id": "e0f66c38-d96d-47ce-9660-47d2dc4c2180",
   "metadata": {},
   "outputs": [],
   "source": [
    "My_Fit = FitModel(my_model, 0.0001)"
   ]
  },
  {
   "cell_type": "code",
   "execution_count": 85,
   "id": "22709a65-a822-4f6e-b81b-a582ed708bdb",
   "metadata": {},
   "outputs": [
    {
     "name": "stdout",
     "output_type": "stream",
     "text": [
      "epoch:   0 | loss: 242.01 | accuracy: 58.33%\n",
      "epoch:  10 | loss: 212.12 | accuracy: 58.33%\n",
      "epoch:  20 | loss: 182.29 | accuracy: 58.33%\n",
      "epoch:  30 | loss: 152.48 | accuracy: 58.33%\n",
      "epoch:  40 | loss: 122.73 | accuracy: 58.33%\n",
      "epoch:  50 | loss: 92.97 | accuracy: 58.33%\n",
      "epoch:  60 | loss: 63.19 | accuracy: 58.33%\n",
      "epoch:  70 | loss: 33.37 | accuracy: 58.33%\n",
      "epoch:  80 | loss: 3.49 | accuracy: 58.33%\n",
      "epoch:  90 | loss: 4.43 | accuracy: 58.33%\n",
      "epoch: 100 | loss: 3.20 | accuracy: 37.50%\n",
      "epoch: 110 | loss: 1.84 | accuracy: 33.33%\n",
      "epoch: 120 | loss: 1.48 | accuracy: 33.33%\n",
      "epoch: 130 | loss: 1.40 | accuracy: 58.33%\n",
      "epoch: 140 | loss: 1.17 | accuracy: 70.83%\n",
      "epoch: 150 | loss: 1.17 | accuracy: 70.83%\n",
      "epoch: 160 | loss: 1.10 | accuracy: 70.83%\n",
      "epoch: 170 | loss: 1.08 | accuracy: 70.83%\n",
      "epoch: 180 | loss: 1.05 | accuracy: 70.83%\n",
      "epoch: 190 | loss: 1.02 | accuracy: 70.83%\n"
     ]
    }
   ],
   "source": [
    "My_Fit.Run(my_data)"
   ]
  },
  {
   "cell_type": "markdown",
   "id": "2fc3f282-458c-47d0-9e49-9ac9d5f34b8e",
   "metadata": {},
   "source": [
    "Let us evaluate the result:"
   ]
  },
  {
   "cell_type": "code",
   "execution_count": 87,
   "id": "86214cb2-25cd-4359-a887-d05089298034",
   "metadata": {},
   "outputs": [],
   "source": [
    "Probs = np.exp(My_Fit.out.detach()).detach() #since we used log softmax"
   ]
  },
  {
   "cell_type": "code",
   "execution_count": 89,
   "id": "299d6fb5-8162-47a3-8c1b-d81dd827b38b",
   "metadata": {},
   "outputs": [],
   "source": [
    "Y_pred = Probs.argmax(dim=1)"
   ]
  },
  {
   "cell_type": "code",
   "execution_count": 91,
   "id": "6e51c8e9-07f5-492a-a84c-996f25aa226b",
   "metadata": {},
   "outputs": [
    {
     "name": "stdout",
     "output_type": "stream",
     "text": [
      "tensor([[6.4986e-01, 3.5014e-01, 0.0000e+00, 0.0000e+00],\n",
      "        [8.7544e-01, 2.3593e-02, 2.5533e-02, 7.5438e-02],\n",
      "        [8.5962e-01, 2.7590e-02, 2.9610e-02, 8.3181e-02],\n",
      "        [8.3641e-01, 3.3412e-02, 3.6056e-02, 9.4118e-02],\n",
      "        [6.4986e-01, 3.5014e-01, 0.0000e+00, 0.0000e+00],\n",
      "        [8.7532e-01, 2.3612e-02, 2.5574e-02, 7.5492e-02],\n",
      "        [3.2237e-01, 6.7763e-01, 0.0000e+00, 0.0000e+00],\n",
      "        [6.4634e-01, 3.5366e-01, 0.0000e+00, 0.0000e+00],\n",
      "        [1.4786e-01, 8.5214e-01, 0.0000e+00, 0.0000e+00],\n",
      "        [1.4786e-01, 8.5214e-01, 0.0000e+00, 0.0000e+00],\n",
      "        [1.4786e-01, 8.5214e-01, 0.0000e+00, 0.0000e+00],\n",
      "        [1.4786e-01, 8.5214e-01, 0.0000e+00, 0.0000e+00],\n",
      "        [1.4786e-01, 8.5214e-01, 0.0000e+00, 0.0000e+00],\n",
      "        [1.4786e-01, 8.5214e-01, 0.0000e+00, 0.0000e+00],\n",
      "        [1.4786e-01, 8.5214e-01, 0.0000e+00, 0.0000e+00],\n",
      "        [1.4786e-01, 8.5214e-01, 0.0000e+00, 0.0000e+00],\n",
      "        [1.4786e-01, 8.5214e-01, 0.0000e+00, 0.0000e+00],\n",
      "        [7.4264e-12, 1.0000e+00, 0.0000e+00, 0.0000e+00],\n",
      "        [8.8863e-01, 6.0360e-02, 9.2952e-03, 4.1715e-02],\n",
      "        [8.2305e-01, 1.3156e-01, 6.6414e-03, 3.8745e-02],\n",
      "        [8.2474e-01, 1.0156e-01, 1.1532e-02, 6.2169e-02],\n",
      "        [8.7470e-01, 6.9106e-02, 1.0660e-02, 4.5536e-02],\n",
      "        [8.2466e-01, 3.6762e-02, 3.9098e-02, 9.9482e-02],\n",
      "        [8.3547e-01, 3.3964e-02, 3.6017e-02, 9.4553e-02]])\n"
     ]
    }
   ],
   "source": [
    "print(Probs)"
   ]
  },
  {
   "cell_type": "code",
   "execution_count": 93,
   "id": "2e7d7ef0-c6d9-4e2e-a83c-8aa733652670",
   "metadata": {},
   "outputs": [
    {
     "name": "stdout",
     "output_type": "stream",
     "text": [
      "[0. 0. 0. 0. 0. 0. 0. 0. 1. 1. 1. 1. 1. 1. 1. 1. 1. 1. 2. 2. 2. 2. 3. 3.]\n",
      "tensor([0, 0, 0, 0, 0, 0, 1, 0, 1, 1, 1, 1, 1, 1, 1, 1, 1, 1, 0, 0, 0, 0, 0, 0])\n"
     ]
    }
   ],
   "source": [
    "print(Y)\n",
    "print(Y_pred)"
   ]
  },
  {
   "cell_type": "code",
   "execution_count": 95,
   "id": "d2a30042-ede5-43df-a724-bd85dc0d5e1a",
   "metadata": {},
   "outputs": [],
   "source": [
    "acc    = (Y_pred == my_data.y).sum()/N"
   ]
  },
  {
   "cell_type": "code",
   "execution_count": 97,
   "id": "9a6d6c1e-3cbf-4f18-8dcf-e25e1784ecda",
   "metadata": {},
   "outputs": [
    {
     "name": "stdout",
     "output_type": "stream",
     "text": [
      "tensor(0.7083)\n"
     ]
    }
   ],
   "source": [
    "print(acc)"
   ]
  },
  {
   "cell_type": "code",
   "execution_count": null,
   "id": "65ae6194-67b1-4cdb-8376-cfb44aa3f3e2",
   "metadata": {},
   "outputs": [],
   "source": []
  }
 ],
 "metadata": {
  "kernelspec": {
   "display_name": "Python 3 (ipykernel)",
   "language": "python",
   "name": "python3"
  },
  "language_info": {
   "codemirror_mode": {
    "name": "ipython",
    "version": 3
   },
   "file_extension": ".py",
   "mimetype": "text/x-python",
   "name": "python",
   "nbconvert_exporter": "python",
   "pygments_lexer": "ipython3",
   "version": "3.11.7"
  }
 },
 "nbformat": 4,
 "nbformat_minor": 5
}
