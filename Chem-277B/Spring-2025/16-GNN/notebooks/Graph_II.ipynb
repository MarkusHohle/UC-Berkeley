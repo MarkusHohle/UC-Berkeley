{
 "cells": [
  {
   "cell_type": "markdown",
   "id": "1c4a7b96-98ee-44cd-8c8f-144d6099c467",
   "metadata": {},
   "source": [
    "# Graphs II\n",
    "## The Caffeine Molecule"
   ]
  },
  {
   "attachments": {
    "f057e4d1-e944-428a-ac62-50f225172bdd.jpg": {
     "image/jpeg": "[encoded data removed]"
    }
   },
   "cell_type": "markdown",
   "id": "f65c2368-c342-4922-b271-a3c28b9f9a01",
   "metadata": {},
   "source": [
    "In this example we want to get a better understanding of how much information is stored in a graph, before we move on to run an actual GNN.<br>\n",
    "An intuitive application for a graph is a molecule, such as the caffeine molecule<br>\n",
    "![Caffeine_Molecule.jpg](attachment:f057e4d1-e944-428a-ac62-50f225172bdd.jpg)\n",
    "(source: espresso planet)"
   ]
  },
  {
   "cell_type": "markdown",
   "id": "76033ac3-78e2-4567-a9de-e8f878f4dec3",
   "metadata": {},
   "source": [
    "The atoms are the nodes of the graph. Each node has specific values for their features. The features in this case are<br>\n",
    "- atomic mass<br>\n",
    "- electronegativity<br>"
   ]
  },
  {
   "cell_type": "markdown",
   "id": "f3bda8af-18f6-4468-af14-edd9b3788e57",
   "metadata": {},
   "source": [
    "The edges of the graph are the molecular bonds, which have different features themselves:<br>\n",
    "- bond length<br>\n",
    "- bond strength (affinity)<br>"
   ]
  },
  {
   "cell_type": "markdown",
   "id": "a541d44e-84e4-4d41-ab6d-eeb5cd227267",
   "metadata": {},
   "source": [
    "If we wanted to train a model (see Graph III) on the graph we cloud solve different tasks. One task could be **node classification**, for example predicting the kind of atom based on the location and connections in the molecule. Another task could be **feature prediction**, i. e. predicting the 3D coordinates of each atom within the molecule (i. e. predicting the 3D structure of a protein from an amino acid sequence). That would be a regression problem that could be solved using an embedding (just adding a dense layer after the actual GNN) that represents the 3D structure (see Graph III). The idea is not so different from the problem of word embedding, which we discussed in the previous lecture.<br>\n",
    "Finally, another task could be **link prediction**. For example, once having a preliminary 3D structure, we could predict new edges within the molecule, which are not direct covalent bonds, but hydrogen bonds, and therefore fine-tune the 3D structure."
   ]
  },
  {
   "cell_type": "markdown",
   "id": "46cdfd4b-8edd-4e7b-bd89-ffd17c8a5c71",
   "metadata": {},
   "source": [
    "<br>"
   ]
  },
  {
   "cell_type": "markdown",
   "id": "bd91947b-7a92-4cc9-b3c2-f64996aa6b9b",
   "metadata": {},
   "source": [
    "**0) Loading Libraries**"
   ]
  },
  {
   "cell_type": "markdown",
   "id": "a794fd0f-bea6-47e4-8a64-6f31a7b01bc6",
   "metadata": {},
   "source": [
    "First, we load our standard libraries, plus umap for plotting a UMAP projection"
   ]
  },
  {
   "cell_type": "code",
   "execution_count": null,
   "id": "10ff6bca-5f5d-4d4c-ad33-bbbd77331525",
   "metadata": {},
   "outputs": [],
   "source": [
    "import numpy as np\n",
    "import pandas as pd\n",
    "import seaborn as sns\n",
    "import umap.umap_ as umap #pip install umap-learn\n",
    "import matplotlib.pyplot as plt"
   ]
  },
  {
   "cell_type": "markdown",
   "id": "746a62ff-7463-4816-a104-0ffef075e2fc",
   "metadata": {},
   "source": [
    "Next, we load a library for displaying a graph"
   ]
  },
  {
   "cell_type": "code",
   "execution_count": null,
   "id": "7edfb8cc-6f9a-47fd-bf10-eb2ed76983aa",
   "metadata": {},
   "outputs": [],
   "source": [
    "import networkx as nx #pip install networkx"
   ]
  },
  {
   "cell_type": "markdown",
   "id": "6a5d2357-6a59-4482-8449-ccc4de7f28dc",
   "metadata": {},
   "source": [
    "<br>"
   ]
  },
  {
   "cell_type": "markdown",
   "id": "f08cc605-eaac-4c93-bcb9-d91db69e4280",
   "metadata": {},
   "source": [
    "**1) The Nodes**"
   ]
  },
  {
   "cell_type": "markdown",
   "id": "2711eff6-4e01-44b3-8996-5b8bb54ad0d5",
   "metadata": {},
   "source": [
    "First, we implement the nodes, which are the atoms. Caffein is C8-H10-N4-O2. Thus, in order to be able to distinguish the different nodes, we just enumerate the different labels. "
   ]
  },
  {
   "cell_type": "code",
   "execution_count": null,
   "id": "3c0438dd-f10b-4710-b26f-89691de271e1",
   "metadata": {},
   "outputs": [],
   "source": [
    "#1a) node labels\n",
    "Atoms = ['C1', 'C2', 'C3', 'C4','C5', 'C6', 'C7', 'C8',\\\n",
    "         'H1', 'H2','H3', 'H4','H5', 'H6','H7', 'H8','H9', 'H10',\\\n",
    "         'N1', 'N2', 'N3', 'N4',\\\n",
    "         'O1', 'O2']"
   ]
  },
  {
   "cell_type": "code",
   "execution_count": null,
   "id": "fbf3c4c0-da5b-42cd-ace4-28685b87e8ce",
   "metadata": {},
   "outputs": [],
   "source": [
    "N     = len(Atoms) # needed for later"
   ]
  },
  {
   "cell_type": "markdown",
   "id": "57b53d7a-44b0-4545-a9c3-3aeae31bfc1e",
   "metadata": {},
   "source": [
    "Next, we create arrays for the features of the nodes to be added later."
   ]
  },
  {
   "cell_type": "code",
   "execution_count": null,
   "id": "176da275-1711-4ac3-9009-614eabd0f929",
   "metadata": {},
   "outputs": [],
   "source": [
    "Mass = np.array([12,12,12,12,12,12,12,12,\\\n",
    "                  1, 1, 1, 1, 1, 1, 1, 1, 1, 1,\\\n",
    "                 14,14,14,14,\\\n",
    "                 16,16])"
   ]
  },
  {
   "cell_type": "code",
   "execution_count": null,
   "id": "21a81d92-a395-467b-9eca-308d30db2328",
   "metadata": {},
   "outputs": [],
   "source": [
    "#electronegativity    \n",
    "Eminus = np.array([2.55, 2.55, 2.55, 2.55, 2.55, 2.55, 2.55, 2.55,\\\n",
    "                   2.20, 2.20, 2.20, 2.20, 2.20, 2.20, 2.20, 2.20, 2.20, 2.20,\\\n",
    "                   3.04, 3.04, 3.04, 3.04,\\\n",
    "                   3.44, 3.44])"
   ]
  },
  {
   "cell_type": "markdown",
   "id": "e6e6cd10-4d36-47a5-8c5b-e13540d0ebee",
   "metadata": {},
   "source": [
    "From these features, we can calculate the specific electronegativity (charge/mass) and the difference of those values between each atom. We will use this later for calculating the affinity. "
   ]
  },
  {
   "cell_type": "code",
   "execution_count": null,
   "id": "263934fa-bf70-4885-b2d6-2c27c4594af2",
   "metadata": {},
   "outputs": [],
   "source": [
    "SpecEminus  = Eminus/Mass\n",
    "DSpecEminus = np.tile(SpecEminus, (N,1)).transpose() - np.tile(SpecEminus, (N,1))"
   ]
  },
  {
   "cell_type": "code",
   "execution_count": null,
   "id": "72320c74-c77d-496b-a644-5826afa3ae17",
   "metadata": {},
   "outputs": [],
   "source": [
    "print(DSpecEminus)"
   ]
  },
  {
   "cell_type": "markdown",
   "id": "d3e08d7f-d5d4-42b5-8122-f62bfaef0271",
   "metadata": {},
   "source": [
    "<br>"
   ]
  },
  {
   "cell_type": "markdown",
   "id": "706afa9e-7ac7-468a-9d39-4e4b7385e262",
   "metadata": {},
   "source": [
    "**2) Edges**"
   ]
  },
  {
   "cell_type": "markdown",
   "id": "e58c1ec8-6702-434f-88ae-dec9f4e0b261",
   "metadata": {},
   "source": [
    "Now it is time to generate features for the edges. We start with a matrix *A* that states which atom has covalent bonds with other atoms. A single bond is represented by *1* and a double bond by the number *2*. No bond is represented by the number *0*. "
   ]
  },
  {
   "cell_type": "code",
   "execution_count": null,
   "id": "3a18dcc0-decc-406d-a204-dbaff89389e4",
   "metadata": {},
   "outputs": [],
   "source": [
    "#             C  C  C  C  C  C  C  C  H  H  H  H  H  H  H  H  H  H  N  N  N  N  O  O\n",
    "A = np.array((\n",
    "             [0, 0, 0, 0, 0, 0, 0, 0, 1, 1, 1, 0, 0, 0, 0, 0, 0, 0, 1, 0, 0, 0, 0, 0],\n",
    "             [0, 0, 1, 0, 0, 0, 0, 0, 0, 0, 0, 0, 0, 0, 0, 0, 0, 0, 1, 0, 0, 0, 2, 0],\n",
    "             [0, 1, 0, 2, 0, 0, 0, 0, 0, 0, 0, 0, 0, 0, 0, 0, 0, 0, 0, 1, 0, 0, 0, 0],\n",
    "             [0, 0, 2, 0, 0, 0, 0, 0, 0, 0, 0, 0, 0, 0, 0, 0, 0, 0, 0, 0, 1, 1, 0, 0],\n",
    "             [0, 0, 0, 0, 0, 0, 0, 0, 0, 0, 0, 0, 0, 0, 1, 1, 1, 0, 0, 0, 0, 1, 0, 0],\n",
    "             [0, 0, 0, 0, 0, 0, 0, 0, 0, 0, 0, 0, 0, 0, 0, 0, 0, 0, 1, 0, 0, 1, 0, 2],\n",
    "             [0, 0, 0, 0, 0, 0, 0, 0, 0, 0, 0, 0, 0, 0, 0, 0, 0, 1, 0, 1, 2, 0, 0, 0],\n",
    "             [0, 0, 0, 0, 0, 0, 0, 0, 0, 0, 0, 1, 1, 1, 0, 0, 0, 0, 0, 1, 0, 0, 0, 0],\n",
    "             [1, 0, 0, 0, 0, 0, 0, 0, 0, 0, 0, 0, 0, 0, 0, 0, 0, 0, 0, 0, 0, 0, 0, 0],\n",
    "             [1, 0, 0, 0, 0, 0, 0, 0, 0, 0, 0, 0, 0, 0, 0, 0, 0, 0, 0, 0, 0, 0, 0, 0],\n",
    "             [1, 0, 0, 0, 0, 0, 0, 0, 0, 0, 0, 0, 0, 0, 0, 0, 0, 0, 0, 0, 0, 0, 0, 0],\n",
    "             [0, 0, 0, 0, 0, 0, 0, 1, 0, 0, 0, 0, 0, 0, 0, 0, 0, 0, 0, 0, 0, 0, 0, 0],\n",
    "             [0, 0, 0, 0, 0, 0, 0, 1, 0, 0, 0, 0, 0, 0, 0, 0, 0, 0, 0, 0, 0, 0, 0, 0],\n",
    "             [0, 0, 0, 0, 0, 0, 0, 1, 0, 0, 0, 0, 0, 0, 0, 0, 0, 0, 0, 0, 0, 0, 0, 0],\n",
    "             [0, 0, 0, 0, 1, 0, 0, 0, 0, 0, 0, 0, 0, 0, 0, 0, 0, 0, 0, 0, 0, 0, 0, 0],\n",
    "             [0, 0, 0, 0, 1, 0, 0, 0, 0, 0, 0, 0, 0, 0, 0, 0, 0, 0, 0, 0, 0, 0, 0, 0],\n",
    "             [0, 0, 0, 0, 1, 0, 0, 0, 0, 0, 0, 0, 0, 0, 0, 0, 0, 0, 0, 0, 0, 0, 0, 0],\n",
    "             [0, 0, 0, 0, 0, 0, 1, 0, 0, 0, 0, 0, 0, 0, 0, 0, 0, 0, 0, 0, 0, 0, 0, 0],\n",
    "             [1, 1, 0, 0, 0, 1, 0, 0, 0, 0, 0, 0, 0, 0, 0, 0, 0, 0, 0, 0, 0, 0, 0, 0],\n",
    "             [0, 0, 1, 0, 0, 0, 1, 1, 0, 0, 0, 0, 0, 0, 0, 0, 0, 0, 0, 0, 0, 0, 0, 0],\n",
    "             [0, 0, 0, 1, 0, 0, 2, 0, 0, 0, 0, 0, 0, 0, 0, 0, 0, 0, 0, 0, 0, 0, 0, 0],\n",
    "             [0, 0, 0, 1, 1, 1, 0, 0, 0, 0, 0, 0, 0, 0, 0, 0, 0, 0, 0, 0, 0, 0, 0, 0],\n",
    "             [0, 2, 0, 0, 0, 0, 0, 0, 0, 0, 0, 0, 0, 0, 0, 0, 0, 0, 0, 0, 0, 0, 0, 0],\n",
    "             [0, 0, 0, 0, 0, 2, 0, 0, 0, 0, 0, 0, 0, 0, 0, 0, 0, 0, 0, 0, 0, 0, 0, 0]))"
   ]
  },
  {
   "cell_type": "markdown",
   "id": "d974b1bb-d326-4d5b-8ffc-79951f3fd035",
   "metadata": {},
   "source": [
    "We can use the matrix *A* for generating the adjacency matrix: "
   ]
  },
  {
   "cell_type": "code",
   "execution_count": null,
   "id": "91430d00-e293-4926-8c96-7443833d45e6",
   "metadata": {},
   "outputs": [],
   "source": [
    "Adj = np.round((A/(A+1e-16)))"
   ]
  },
  {
   "cell_type": "markdown",
   "id": "4dec9235-956a-4f89-a8d2-38fe19148212",
   "metadata": {},
   "source": [
    "Just using the adjacency matrix would lead to an *unweighted* graph. However, we want to weight the edges according to the binding affinity. This is cruical for understanding the actual structure of the molecule. If we didn't know the affinity, a training task would be calculating the affinity.   "
   ]
  },
  {
   "cell_type": "code",
   "execution_count": null,
   "id": "7d37afcb-8c71-486d-82b0-7a77b2568e6c",
   "metadata": {},
   "outputs": [],
   "source": [
    "Affinity = A * (DSpecEminus + 1 - np.eye(N)) #np.eye removes diagonal elements "
   ]
  },
  {
   "cell_type": "markdown",
   "id": "17bed2ec-6975-4996-93e8-631ada77f654",
   "metadata": {},
   "source": [
    "<br>"
   ]
  },
  {
   "cell_type": "markdown",
   "id": "def336fe-c6ba-450a-ad3b-870035e970bf",
   "metadata": {},
   "source": [
    "**3) Plotting the Molecule**"
   ]
  },
  {
   "cell_type": "markdown",
   "id": "1cf325f4-d6ac-4407-a086-aafb8c52839d",
   "metadata": {},
   "source": [
    "Let us now see how much information we can derive from the edges and nodes.<br>\n",
    "In a first step, we just generate a heatmap from the adjacency matrix and see if we can cluster the atoms (nodes) based on that information."
   ]
  },
  {
   "cell_type": "code",
   "execution_count": null,
   "id": "071d12e4-b6ce-451f-9512-c067c8f8f218",
   "metadata": {},
   "outputs": [],
   "source": [
    "Molecule = pd.DataFrame(Adj, Atoms, Atoms)\n",
    "sns.clustermap(Molecule, cmap = 'Blues')\n",
    "plt.title('bindings')\n",
    "#plt.savefig('Coffeine_tree_Adj.pdf', dpi = 1200)\n",
    "plt.show()"
   ]
  },
  {
   "cell_type": "markdown",
   "id": "96d5798d-a807-4efa-a827-618f545b239d",
   "metadata": {},
   "source": [
    "We can see that a few hydrogen atoms can be grouped together in a cluster, based on their bonds to carbon atoms. We can also try to see if a UMAP plot reassembles the caffeine molecule to some degree, since UMAP is constructing a graph for generating the plot: "
   ]
  },
  {
   "cell_type": "code",
   "execution_count": null,
   "id": "9e5dba2c-3c83-4398-8303-39595a0c48f4",
   "metadata": {},
   "outputs": [],
   "source": [
    "Anew = umap.UMAP().fit_transform(Adj)\n",
    "\n",
    "\n",
    "plt.scatter(Anew[:8, 0], Anew[:8, 1],       c = 'k',       label = 'carbon')\n",
    "plt.scatter(Anew[8:18, 0], Anew[8:18, 1],   c = '#b9b3b1', label = 'hydrogen')\n",
    "plt.scatter(Anew[18:22, 0], Anew[18:22, 1], c = '#42a872', label = 'nitrogen')\n",
    "plt.scatter(Anew[22:, 0], Anew[22:, 1],     c = '#366ed8', label = 'oxygen')\n",
    "plt.gca().set_aspect('equal', 'datalim')\n",
    "plt.title('UMAP projection of the Adjacency Matrix', fontsize = 10)\n",
    "plt.legend()\n",
    "#plt.savefig('Coffeine_UMAP_Adj.pdf', dpi = 1200)\n",
    "plt.show()"
   ]
  },
  {
   "cell_type": "markdown",
   "id": "824c6475-a76e-4b56-9c63-fcf8ac2a057d",
   "metadata": {},
   "source": [
    "The UMAP plot doesn't reflect the structure of the molecule at all. The reason is that the adjacency matrix does not contain enough information. Let us run the same lines, but this time using the affinity (weighted edges)."
   ]
  },
  {
   "cell_type": "code",
   "execution_count": null,
   "id": "aa080d13-e6ad-4673-b2ca-db3d121f176a",
   "metadata": {},
   "outputs": [],
   "source": [
    "Molecule = pd.DataFrame(Affinity, Atoms, Atoms)\n",
    "sns.clustermap(Molecule, cmap = 'Blues')\n",
    "plt.title('bindings')\n",
    "#plt.savefig('Coffeine_tree_Adj.pdf', dpi = 1200)\n",
    "plt.show()"
   ]
  },
  {
   "cell_type": "code",
   "execution_count": null,
   "id": "1ff103b7-d60c-4a19-9eeb-24159b3df62d",
   "metadata": {},
   "outputs": [],
   "source": [
    "Anew = umap.UMAP().fit_transform(Affinity)\n",
    "\n",
    "plt.scatter(Anew[:8, 0], Anew[:8, 1],       c = 'k',       label = 'carbon')\n",
    "plt.scatter(Anew[8:18, 0], Anew[8:18, 1],   c = '#b9b3b1', label = 'hydrogen')\n",
    "plt.scatter(Anew[18:22, 0], Anew[18:22, 1], c = '#42a872', label = 'nitrogen')\n",
    "plt.scatter(Anew[22:, 0], Anew[22:, 1],     c = '#366ed8', label = 'oxygen')\n",
    "plt.gca().set_aspect('equal', 'datalim')\n",
    "plt.title('UMAP projection of the Affinity Matrix', fontsize = 10)\n",
    "plt.legend()\n",
    "#plt.savefig('Coffeine_UMAP_Aff.pdf', dpi = 1200)\n",
    "plt.show()"
   ]
  },
  {
   "cell_type": "markdown",
   "id": "2af065bc-f454-474e-9004-12a5e637a758",
   "metadata": {},
   "source": [
    "This time we can definitively see some reassembles to the caffeine molecule. The hydrogen atoms are located outside at the molecule, whereas the carbon atoms are located at the inner part. "
   ]
  },
  {
   "cell_type": "markdown",
   "id": "56d4e875-ee8c-4002-bb22-0008bbe683a3",
   "metadata": {},
   "source": [
    "<br>"
   ]
  },
  {
   "cell_type": "markdown",
   "id": "5c11850e-683a-494f-879c-d8f15f4e5a5c",
   "metadata": {},
   "source": [
    "**4) The actual Graph**"
   ]
  },
  {
   "cell_type": "markdown",
   "id": "830c1954-2dcc-4c2c-85ee-7fda716476d7",
   "metadata": {},
   "source": [
    "The *nx* library needs a certain structure for the node and edge features and for the adjacency. The adjacency matrix has to be converted into an **adjacency tuple**. It essentially lists all connections between the nodes. "
   ]
  },
  {
   "cell_type": "code",
   "execution_count": null,
   "id": "aab90a8e-56f9-41ea-8b5a-925437a72888",
   "metadata": {},
   "outputs": [],
   "source": [
    "Adj_Tuple = []\n",
    "Weights   = []#from  Affinity Matrix\n",
    "Edges     = []\n",
    "\n",
    "for i in range(N):\n",
    "    for j in range(N):\n",
    "        if Adj[i,j] != 0:\n",
    "            Adj_Tuple += [(Atoms[i], Atoms[j])]\n",
    "            Weights   += [Affinity[i,j]]\n",
    "            Edges     += [(i, j)]"
   ]
  },
  {
   "cell_type": "markdown",
   "id": "2ed650c7-bcfd-45b3-abe2-1a165e05ca1d",
   "metadata": {},
   "source": [
    "Now we construct the graph and add all the properties. Note, that the required format is a *dictionary* for the nodes and *tuples* for the edges."
   ]
  },
  {
   "cell_type": "code",
   "execution_count": null,
   "id": "22b85bec-ff63-4dfc-b347-ae9f8f94cc39",
   "metadata": {},
   "outputs": [],
   "source": [
    "Caffeine = nx.Graph()\n",
    "Caffeine.add_nodes_from([(a, {'atom': a, 'atomic mass': m, 'electronegativity': e}) for a, m, e in zip(Atoms, Mass, Eminus)])\n",
    "Caffeine.add_edges_from(Adj_Tuple)#just the Adjacency Matrix\n",
    "Caffeine.add_weighted_edges_from( ( (a[0], a[1], w) for a, w in zip(Adj_Tuple, Weights)) )# adding weights"
   ]
  },
  {
   "cell_type": "markdown",
   "id": "5065289f-aaca-4d95-bcf1-cf0cb1571324",
   "metadata": {},
   "source": [
    "We just want to make sure, that the graph is indeed a weighted graph:"
   ]
  },
  {
   "cell_type": "code",
   "execution_count": null,
   "id": "97eed7ca-9f9d-4697-bd29-1fbc3365d95d",
   "metadata": {},
   "outputs": [],
   "source": [
    "print(nx.is_weighted(Caffeine))"
   ]
  },
  {
   "cell_type": "markdown",
   "id": "6e9e02ca-2abd-482c-a5cc-83177b5ba1eb",
   "metadata": {},
   "source": [
    "And we also pick some random edges in order to make sure that the edge features are set:"
   ]
  },
  {
   "cell_type": "code",
   "execution_count": null,
   "id": "e0f66c38-d96d-47ce-9660-47d2dc4c2180",
   "metadata": {},
   "outputs": [],
   "source": [
    "Caffeine.get_edge_data('C7', 'N3')"
   ]
  },
  {
   "cell_type": "markdown",
   "id": "647b7e6c-52a2-4e24-b986-de502a51dc12",
   "metadata": {},
   "source": [
    "Finally, we plot the graph and scale the edge length and the edge width to the weights."
   ]
  },
  {
   "cell_type": "code",
   "execution_count": null,
   "id": "22709a65-a822-4f6e-b81b-a582ed708bdb",
   "metadata": {},
   "outputs": [],
   "source": [
    "color_map = ['k']*8 + ['#b9b3b1']*10 + ['#42a872']*4 + ['#366ed8']*2\n",
    "\n",
    "# get node positions for layout, k normalizes spacing between nodes\n",
    "pos = nx.spring_layout(Caffeine, weight= 'length', k = 0.02)\n",
    "\n",
    "# draw nodes with labels\n",
    "nx.draw(Caffeine, pos, with_labels = True, node_color = color_map, font_color = \"whitesmoke\", node_size = 600)\n",
    "\n",
    "#draw edge thickness according to weight\n",
    "for edge in Caffeine.edges(data = 'weight'):\n",
    "    w = edge[2]\n",
    "    nx.draw_networkx_edges(Caffeine, pos, edgelist=[edge], width = 2*w)\n",
    "#plt.savefig('Coffeine.pdf', dpi = 1200)\n",
    "plt.show()"
   ]
  },
  {
   "cell_type": "markdown",
   "id": "2fc3f282-458c-47d0-9e49-9ac9d5f34b8e",
   "metadata": {},
   "source": [
    "The result is not bad considering that we haven't trained a model at all and just plotted the graph with the properties as we know them from the periodic table of elements. The next step would be learning the actual 3D structure. However, that requires a suitable training set first. "
   ]
  }
 ],
 "metadata": {
  "kernelspec": {
   "display_name": "Python 3 (ipykernel)",
   "language": "python",
   "name": "python3"
  },
  "language_info": {
   "codemirror_mode": {
    "name": "ipython",
    "version": 3
   },
   "file_extension": ".py",
   "mimetype": "text/x-python",
   "name": "python",
   "nbconvert_exporter": "python",
   "pygments_lexer": "ipython3",
   "version": "3.11.7"
  }
 },
 "nbformat": 4,
 "nbformat_minor": 5
}
