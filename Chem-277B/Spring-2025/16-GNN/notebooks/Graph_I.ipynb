{
 "cells": [
  {
   "cell_type": "markdown",
   "id": "1c4a7b96-98ee-44cd-8c8f-144d6099c467",
   "metadata": {},
   "source": [
    "# Graphs I\n",
    "## Visualizing Graphs"
   ]
  },
  {
   "attachments": {},
   "cell_type": "markdown",
   "id": "f65c2368-c342-4922-b271-a3c28b9f9a01",
   "metadata": {},
   "source": [
    "Before we want to learn how to train a model on a GNN, it makes sense to visualize a graph first. Not only that this gives us a better understanding of what a graph looks like, we will also see which attributes are important.    "
   ]
  },
  {
   "cell_type": "markdown",
   "id": "46cdfd4b-8edd-4e7b-bd89-ffd17c8a5c71",
   "metadata": {},
   "source": [
    "<br>"
   ]
  },
  {
   "cell_type": "markdown",
   "id": "bd91947b-7a92-4cc9-b3c2-f64996aa6b9b",
   "metadata": {},
   "source": [
    "**0) Loading Libraries**"
   ]
  },
  {
   "cell_type": "markdown",
   "id": "a794fd0f-bea6-47e4-8a64-6f31a7b01bc6",
   "metadata": {},
   "source": [
    "First, we load our standard libraries as usual"
   ]
  },
  {
   "cell_type": "code",
   "execution_count": null,
   "id": "10ff6bca-5f5d-4d4c-ad33-bbbd77331525",
   "metadata": {},
   "outputs": [],
   "source": [
    "import numpy as np\n",
    "import pandas as pd\n",
    "import seaborn as sns\n",
    "import matplotlib.pyplot as plt"
   ]
  },
  {
   "cell_type": "markdown",
   "id": "746a62ff-7463-4816-a104-0ffef075e2fc",
   "metadata": {},
   "source": [
    "Next, we load a library for displaying a graph"
   ]
  },
  {
   "cell_type": "code",
   "execution_count": null,
   "id": "7edfb8cc-6f9a-47fd-bf10-eb2ed76983aa",
   "metadata": {},
   "outputs": [],
   "source": [
    "import networkx as nx #pip install networkx"
   ]
  },
  {
   "cell_type": "markdown",
   "id": "6a5d2357-6a59-4482-8449-ccc4de7f28dc",
   "metadata": {},
   "source": [
    "<br>"
   ]
  },
  {
   "cell_type": "markdown",
   "id": "f08cc605-eaac-4c93-bcb9-d91db69e4280",
   "metadata": {},
   "source": [
    "**1) Social Network**"
   ]
  },
  {
   "cell_type": "markdown",
   "id": "2711eff6-4e01-44b3-8996-5b8bb54ad0d5",
   "metadata": {},
   "source": [
    "A common example of a graph is a social network. The people are represented by the nodes and the relations between those people are the edges. *Relation* can mean anything that is relevant for a particular analysis. It could refer to *knowing each other*, or sending messages to eachother etc.<br>\n",
    "In order to make the example more realistic, we will label the nodes with actual names and therefore load the names file first."
   ]
  },
  {
   "cell_type": "code",
   "execution_count": null,
   "id": "3c0438dd-f10b-4710-b26f-89691de271e1",
   "metadata": {},
   "outputs": [],
   "source": [
    "Names = open('names.txt','r').read().splitlines()"
   ]
  },
  {
   "cell_type": "code",
   "execution_count": null,
   "id": "fbf3c4c0-da5b-42cd-ace4-28685b87e8ce",
   "metadata": {},
   "outputs": [],
   "source": [
    "print(Names[:15])"
   ]
  },
  {
   "cell_type": "markdown",
   "id": "57b53d7a-44b0-4545-a9c3-3aeae31bfc1e",
   "metadata": {},
   "source": [
    "The edges of an unweighted graph can be simply represented by a list containing tuples which themselves contain the index of the start node and the index of the end node.<br>\n",
    "We generate the edges randomly:"
   ]
  },
  {
   "cell_type": "code",
   "execution_count": null,
   "id": "176da275-1711-4ac3-9009-614eabd0f929",
   "metadata": {},
   "outputs": [],
   "source": [
    "Nmax  = 50                                  # maximum number of nodes\n",
    "Names = Names[:Nmax]\n",
    "\n",
    "N1 = Nmax/2 + Nmax*np.random.randn(10*Nmax)# randomly picking nodes. Some people know more than others --> normal distibution\n",
    "N1 = N1.astype(int)                        # indices are integer\n",
    "N1[N1>=Nmax] = Nmax-1                      # making sure that max<=Nmax\n",
    "N1[N1<0]    = 0\n",
    "\n",
    "N2 = np.random.randint(1, Nmax,(10*Nmax,))\n",
    "\n",
    "#now: Edges\n",
    "Relation = [None] *len(N1)\n",
    "\n",
    "for i, (j, k) in enumerate(zip(N1,N2)):\n",
    "    Relation[i] = (Names[j], Names[k])"
   ]
  },
  {
   "cell_type": "code",
   "execution_count": null,
   "id": "21a81d92-a395-467b-9eca-308d30db2328",
   "metadata": {},
   "outputs": [],
   "source": [
    "print(Relation[:15])"
   ]
  },
  {
   "cell_type": "markdown",
   "id": "d3e08d7f-d5d4-42b5-8122-f62bfaef0271",
   "metadata": {},
   "source": [
    "<br>"
   ]
  },
  {
   "cell_type": "markdown",
   "id": "706afa9e-7ac7-468a-9d39-4e4b7385e262",
   "metadata": {},
   "source": [
    "**2) Building and visualizing the graph**"
   ]
  },
  {
   "cell_type": "markdown",
   "id": "e58c1ec8-6702-434f-88ae-dec9f4e0b261",
   "metadata": {},
   "source": [
    "A graph is defined by nodes and edges. Therefore, we already have everything we need and can move on to construct the graph."
   ]
  },
  {
   "cell_type": "code",
   "execution_count": null,
   "id": "368c02ec-3a4e-42f8-b461-a75c63a6e27c",
   "metadata": {},
   "outputs": [],
   "source": [
    "My_NW = nx.Graph()"
   ]
  },
  {
   "cell_type": "code",
   "execution_count": null,
   "id": "fc98970c-6e18-44ef-b8ff-82fce2760b45",
   "metadata": {},
   "outputs": [],
   "source": [
    "My_NW.add_nodes_from(Names)\n",
    "My_NW.add_edges_from(Relation)"
   ]
  },
  {
   "cell_type": "markdown",
   "id": "d974b1bb-d326-4d5b-8ffc-79951f3fd035",
   "metadata": {},
   "source": [
    "The nx library provides different layouts for visualizing the graph, see [graph gallery](https://python-graph-gallery.com/322-network-layout-possibilities/). We pick one particular layout and also assign the node labels (needs to be a dictionary) and the edge colors."
   ]
  },
  {
   "cell_type": "code",
   "execution_count": null,
   "id": "91430d00-e293-4926-8c96-7443833d45e6",
   "metadata": {},
   "outputs": [],
   "source": [
    "pos = nx.random_layout(My_NW)  # positions for all nodes\n",
    "plt.figure(3,figsize=(12,12)) \n",
    "nx.draw_networkx_nodes(My_NW, pos, node_color = 'red', node_size = 50)\n",
    "\n",
    "nx.draw_networkx_labels(My_NW, pos,\\\n",
    "                        labels = {name: name for name in Names},\\\n",
    "                        font_size = 12, font_weight = 'bold')\n",
    "nx.draw_networkx_edges(My_NW, pos, alpha = 0.2, edge_color = '#ff5733')\n",
    "plt.title(\"Graph\")\n",
    "#plt.savefig('Graph1.pdf', dpi = 1200)\n",
    "plt.show()"
   ]
  },
  {
   "cell_type": "markdown",
   "id": "4dec9235-956a-4f89-a8d2-38fe19148212",
   "metadata": {},
   "source": [
    "In some cases you might see loops. This is because we generated the edges randomly. Loops correspond to non-zeros in the adjacency matrix and can actually play a role, such as in chemical pathways.<br>\n",
    "We can analyze the graph in various ways. For example we can sort the nodes (people) according to how many other people they know, i. e. how many connections (= node degree) they have."
   ]
  },
  {
   "cell_type": "code",
   "execution_count": null,
   "id": "7d37afcb-8c71-486d-82b0-7a77b2568e6c",
   "metadata": {},
   "outputs": [],
   "source": [
    "D = np.zeros((Nmax,))\n",
    "\n",
    "for i, name in enumerate(Names):\n",
    "    D[i] = My_NW.degree[name]\n",
    "    \n",
    "degrees_idx    = D.argsort()\n",
    "degrees_sorted = D[degrees_idx[::-1]]\n",
    "Names_sorted   = [Names[int(i)] for i in degrees_idx[::-1]]\n",
    "\n",
    "plt.stem(degrees_sorted, 'k')\n",
    "plt.ylabel('degree')\n",
    "plt.xticks(ticks = range(Nmax), labels = Names_sorted)\n",
    "plt.xticks(rotation = 90)\n",
    "plt.xlabel('node')\n",
    "plt.show()"
   ]
  },
  {
   "cell_type": "markdown",
   "id": "17bed2ec-6975-4996-93e8-631ada77f654",
   "metadata": {},
   "source": [
    "<br>"
   ]
  },
  {
   "cell_type": "markdown",
   "id": "def336fe-c6ba-450a-ad3b-870035e970bf",
   "metadata": {},
   "source": [
    "As in real life: a few people know many, and many people know only a few."
   ]
  },
  {
   "cell_type": "markdown",
   "id": "1cf325f4-d6ac-4407-a086-aafb8c52839d",
   "metadata": {},
   "source": [
    "We can also explore the adjacency matrix as wel."
   ]
  },
  {
   "cell_type": "code",
   "execution_count": null,
   "id": "071d12e4-b6ce-451f-9512-c067c8f8f218",
   "metadata": {},
   "outputs": [],
   "source": [
    "A    = nx.adjacency_matrix(My_NW).toarray()\n",
    "A_df = pd.DataFrame(A, columns = Names, index = Names)\n",
    "\n",
    "sns.heatmap(A_df, cmap = 'Blues')\n",
    "plt.title(\"adjacency\")\n",
    "plt.show()\n",
    "\n",
    "sns.clustermap(A_df, cmap = 'Blues')\n",
    "plt.title(\"adjacency - clustered\")\n",
    "plt.show()"
   ]
  },
  {
   "cell_type": "markdown",
   "id": "56d4e875-ee8c-4002-bb22-0008bbe683a3",
   "metadata": {},
   "source": [
    "<br>"
   ]
  }
 ],
 "metadata": {
  "kernelspec": {
   "display_name": "Python 3 (ipykernel)",
   "language": "python",
   "name": "python3"
  },
  "language_info": {
   "codemirror_mode": {
    "name": "ipython",
    "version": 3
   },
   "file_extension": ".py",
   "mimetype": "text/x-python",
   "name": "python",
   "nbconvert_exporter": "python",
   "pygments_lexer": "ipython3",
   "version": "3.11.7"
  }
 },
 "nbformat": 4,
 "nbformat_minor": 5
}
