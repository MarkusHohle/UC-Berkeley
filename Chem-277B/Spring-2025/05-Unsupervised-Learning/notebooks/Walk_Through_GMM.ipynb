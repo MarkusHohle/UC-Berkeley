{
 "cells": [
  {
   "cell_type": "markdown",
   "id": "99ed50b5-0671-4f0a-bfbf-d15c3ff60268",
   "metadata": {},
   "source": [
    "## Example Gaussian Mixture Model (GMM) in Python<br>\n",
    "<br>"
   ]
  },
  {
   "cell_type": "markdown",
   "id": "7d3647e1-8ea4-4f8b-ba78-572286a0f6ef",
   "metadata": {},
   "source": [
    "**0) Loading Libraries**<br>\n",
    "<br>"
   ]
  },
  {
   "cell_type": "code",
   "execution_count": null,
   "id": "54f051da-4fff-472c-a6d2-1481ef78ad4a",
   "metadata": {},
   "outputs": [],
   "source": [
    "#standard libraries\n",
    "import pandas as pd\n",
    "import matplotlib.pyplot as plt\n",
    "import numpy as np\n",
    "import seaborn as sns"
   ]
  },
  {
   "cell_type": "code",
   "execution_count": null,
   "id": "2b2564a4-54f4-4aac-ad97-c2b21af7ab4c",
   "metadata": {},
   "outputs": [],
   "source": [
    "import warnings                                                   #sometimes GMM produces warnings which are not relevant\n",
    "from sklearn.mixture import GaussianMixture                       #for performing actual GMM\n",
    "from sklearn.metrics import silhouette_samples, silhouette_score  #calculating silhouette coefficient\n",
    "from sklearn import datasets                                      #we want to work with an internal data set"
   ]
  },
  {
   "cell_type": "markdown",
   "id": "82a61616-0928-453d-b391-930aeccbe782",
   "metadata": {},
   "source": [
    "<br>"
   ]
  },
  {
   "cell_type": "markdown",
   "id": "086b5bf8-9220-4bf3-b9ea-fc462daaffe9",
   "metadata": {},
   "source": [
    "**1) Loading and Inspecting the Data**<br>\n",
    "<br>"
   ]
  },
  {
   "cell_type": "code",
   "execution_count": null,
   "id": "d4caeff5-3547-4562-a8ca-2e4b6e631e2d",
   "metadata": {},
   "outputs": [],
   "source": [
    "iris = datasets.load_iris()\n",
    "print(iris.DESCR)"
   ]
  },
  {
   "cell_type": "code",
   "execution_count": null,
   "id": "14f9dd46-e5fd-4716-8963-660caa77c8d6",
   "metadata": {},
   "outputs": [],
   "source": [
    "Labels = iris.target_names\n",
    "print(Labels)\n",
    "X = iris.data\n",
    "k = len(Labels)\n",
    "print(X.shape)"
   ]
  },
  {
   "cell_type": "markdown",
   "id": "225bdbd5-9991-4026-9290-d39b57ec78ec",
   "metadata": {},
   "source": [
    "<br>\n",
    "Extracting numerical labels (target vector Y):"
   ]
  },
  {
   "cell_type": "code",
   "execution_count": null,
   "id": "92009456-b38b-4d45-bcc2-0cffe290fc8b",
   "metadata": {},
   "outputs": [],
   "source": [
    "Y = iris.target\n",
    "print(Y)"
   ]
  },
  {
   "cell_type": "markdown",
   "id": "9a9cb9d4-b3cf-41b2-9712-d90a8e7eb769",
   "metadata": {},
   "source": [
    "<br>"
   ]
  },
  {
   "cell_type": "markdown",
   "id": "392113a3-021c-481c-a3ed-f47238b6fcfb",
   "metadata": {},
   "source": [
    "**2) Plotting the Data**<br>\n",
    "<br>"
   ]
  },
  {
   "cell_type": "markdown",
   "id": "7dfe1ad3-e125-408d-a768-b5712d3fd389",
   "metadata": {},
   "source": [
    "The first 50 entries in the data refer to Setosa, the next 50 entries refer to Versicolour etc. The data set is 4D. For plotting purposes, let's take a look at two dimensions each:"
   ]
  },
  {
   "cell_type": "code",
   "execution_count": null,
   "id": "7027b8bc-d6b6-44eb-984f-f6831c572036",
   "metadata": {},
   "outputs": [],
   "source": [
    "X12 = X[:,0:2]\n",
    "X23 = X[:,1:3]\n",
    "X34 = X[:,2:]\n",
    "\n",
    "Color = [\"#1B9E77\", \"#D95F02\", \"#7570B3\"]"
   ]
  },
  {
   "cell_type": "markdown",
   "id": "3fcb5a96-f25e-407d-9526-f68a4945f373",
   "metadata": {},
   "source": [
    "a) first two coordinates:"
   ]
  },
  {
   "cell_type": "code",
   "execution_count": null,
   "id": "ac5bd632-6dd3-4ed2-82b5-aa2ea084bd0c",
   "metadata": {},
   "outputs": [],
   "source": [
    "fig, ax = plt.subplots(figsize = (8,8))\n",
    "i = 0\n",
    "for species, color in zip(Labels, Color):\n",
    "    idxs = np.arange(0,50) + 50*i\n",
    "    i += 1\n",
    "    ax.scatter(X12[idxs,0], X12[idxs,1], label = species, s = 50, color = color, alpha = 0.7)\n",
    "ax.legend()\n",
    "plt.show()"
   ]
  },
  {
   "cell_type": "markdown",
   "id": "95852487-2d58-4693-afff-3c49b8808833",
   "metadata": {},
   "source": [
    "b) second and third coordinate:"
   ]
  },
  {
   "cell_type": "code",
   "execution_count": null,
   "id": "6f856e41-55ac-4cf8-8d0e-277848a4a425",
   "metadata": {},
   "outputs": [],
   "source": [
    "fig, ax = plt.subplots(figsize = (8,8))\n",
    "i = 0\n",
    "for species, color in zip(Labels, Color):\n",
    "    idxs = np.arange(0,50) + 50*i\n",
    "    i += 1\n",
    "    ax.scatter(X23[idxs,0], X23[idxs,1], label = species, s = 50, color = color, alpha = 0.7)\n",
    "ax.legend()\n",
    "plt.show()"
   ]
  },
  {
   "cell_type": "markdown",
   "id": "73a3291f-dc5e-4d45-a929-424334bba3dd",
   "metadata": {},
   "source": [
    "c) last two coordinates:"
   ]
  },
  {
   "cell_type": "code",
   "execution_count": null,
   "id": "876a2fdd-b846-45f9-8762-64238c9bc094",
   "metadata": {},
   "outputs": [],
   "source": [
    "fig, ax = plt.subplots(figsize = (8,8))\n",
    "i = 0\n",
    "for species, color in zip(Labels, Color):\n",
    "    idxs = np.arange(0,50) + 50*i\n",
    "    i += 1\n",
    "    ax.scatter(X34[idxs,0], X34[idxs,1], label = species, s = 50, color = color, alpha = 0.7)\n",
    "ax.legend()\n",
    "plt.show()"
   ]
  },
  {
   "cell_type": "markdown",
   "id": "de04ee5b-c3fb-4a0c-9e60-59b9a77afa22",
   "metadata": {},
   "source": [
    "<br>"
   ]
  },
  {
   "cell_type": "markdown",
   "id": "51233878-8641-44a9-b705-a562f53a417a",
   "metadata": {},
   "source": [
    "**3) Running GMM**<br>\n",
    "<br>"
   ]
  },
  {
   "cell_type": "markdown",
   "id": "e280ee9b-56c0-437d-b292-a937b9697fdc",
   "metadata": {},
   "source": [
    "a) This time, we start with the full 4D dataset, but we also want to evaluate the results using the 2D projections for plotting."
   ]
  },
  {
   "cell_type": "code",
   "execution_count": null,
   "id": "7d7e3531-72f1-49a5-8e95-3a45aab0c05d",
   "metadata": {},
   "outputs": [],
   "source": [
    "warnings.filterwarnings('ignore') #for ignoring warnings\n",
    "\n",
    "my_model   = GaussianMixture(n_components = k, random_state = 0).fit(X) #data points are assgined randomly to intial gaussians\n",
    "Center     = my_model.means_\n",
    "PredLabels = my_model.predict(X)"
   ]
  },
  {
   "cell_type": "markdown",
   "id": "6c8ba23d-0a8e-4790-ab81-dab09fc7d429",
   "metadata": {},
   "source": [
    "The labels are assigned 0, 1, 2 since we don't know the true labels (unsupervised learning!)"
   ]
  },
  {
   "cell_type": "code",
   "execution_count": null,
   "id": "30828a2f-0187-4096-aaf0-191ea60c1217",
   "metadata": {},
   "outputs": [],
   "source": [
    "print(PredLabels)#predicted vs true labels\n",
    "print(Y)"
   ]
  },
  {
   "cell_type": "markdown",
   "id": "70d7ce1c-e37f-4089-adcc-70a9b695f133",
   "metadata": {},
   "source": [
    "Let us plot the centers (means) and compare their location to the data:"
   ]
  },
  {
   "cell_type": "code",
   "execution_count": null,
   "id": "1172bb8b-851d-4564-81b7-baeea57036fb",
   "metadata": {},
   "outputs": [],
   "source": [
    "for i in range(3):\n",
    "    X2D      = X[:,i:i+2]\n",
    "    Center2D = Center[:,i:i+2]\n",
    "    \n",
    "    fig, ax = plt.subplots(figsize=(8,8))\n",
    "    for species_pred, color in zip(np.unique(PredLabels), Color):\n",
    "        idxs = np.where(np.array(PredLabels) == species_pred)\n",
    "        ax.scatter(X2D[idxs,0], X2D[idxs,1], label = species_pred,\\\n",
    "               s = 50, color = color, alpha = 0.7)\n",
    "    ax.legend()\n",
    "    ax.scatter(Center2D[:,0],Center2D[:,1], marker = 'x', s = 200,\\\n",
    "               color = 'k')\n",
    "    plt.title('cluster assignment after GMM')\n",
    "    plt.show()"
   ]
  },
  {
   "cell_type": "markdown",
   "id": "33eea5a4-945f-4566-9cbb-a39dfa2eaf83",
   "metadata": {},
   "source": [
    "<br>\n",
    "b) As with k-means, we want to calculate the silhoutte coefficient for different number of clusters and determin the accuracy for k = 3 cluster. "
   ]
  },
  {
   "cell_type": "code",
   "execution_count": null,
   "id": "42ab7a21-88dd-4a6e-8963-68e02970be17",
   "metadata": {},
   "outputs": [],
   "source": [
    "Kmax = 15                 #calculate the silhouette coefficient for 2, 3, ... 15 cluster\n",
    "S    = np.zeros((Kmax-1)) #preparing matrix for storing the result"
   ]
  },
  {
   "cell_type": "code",
   "execution_count": null,
   "id": "73005b21-f30f-423e-aef1-f5e40b1759dc",
   "metadata": {},
   "outputs": [],
   "source": [
    "for k in range(2, Kmax + 1):\n",
    "        my_model = GaussianMixture(n_components = k, random_state = 0).fit(X)\n",
    "        Labels   = my_model.predict(X)\n",
    "        S[k-2]   = silhouette_score(X, Labels)#calculating the silhouette coefficient (1st entry for k=2, but index = 0)\n",
    "        \n",
    "        if k == 3:\n",
    "            Labels = np.sort(Labels)\n",
    "            diff0  = Labels[:50]    - 0\n",
    "            diff1  = Labels[50:100] - 1\n",
    "            diff2  = Labels[100:]   - 2\n",
    "    \n",
    "            diff    = np.vstack((diff0, diff1, diff2))\n",
    "            idx     = np.array(np.where(diff==0))\n",
    "            _, col  = idx.shape\n",
    "            accur   = col/150\n",
    "            \n",
    "        \n",
    "plt.plot(np.arange(2,Kmax+1), S, c = 'k', linestyle = '-.', linewidth = 3)\n",
    "plt.xlabel('number of cluster')\n",
    "plt.ylabel('mean silhouette')\n",
    "plt.show()\n",
    "\n",
    "print(f'\\n accuracy for k = 3 is: {accur:.3f}%')"
   ]
  },
  {
   "cell_type": "markdown",
   "id": "b37084dd-abdb-4038-bbbb-e4acf6901c16",
   "metadata": {},
   "source": [
    "Again, the accuracy is high, but we obtain the best silhouette coefficient for k = 2."
   ]
  },
  {
   "cell_type": "code",
   "execution_count": null,
   "id": "a3af71fe-3456-44f7-8afb-c5ea717cc46e",
   "metadata": {},
   "outputs": [],
   "source": []
  }
 ],
 "metadata": {
  "kernelspec": {
   "display_name": "Python 3 (ipykernel)",
   "language": "python",
   "name": "python3"
  },
  "language_info": {
   "codemirror_mode": {
    "name": "ipython",
    "version": 3
   },
   "file_extension": ".py",
   "mimetype": "text/x-python",
   "name": "python",
   "nbconvert_exporter": "python",
   "pygments_lexer": "ipython3",
   "version": "3.11.7"
  }
 },
 "nbformat": 4,
 "nbformat_minor": 5
}
