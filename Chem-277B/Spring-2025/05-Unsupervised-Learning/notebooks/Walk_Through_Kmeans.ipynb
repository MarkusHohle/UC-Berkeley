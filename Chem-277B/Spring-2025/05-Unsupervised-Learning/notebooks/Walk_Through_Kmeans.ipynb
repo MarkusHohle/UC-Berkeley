{
 "cells": [
  {
   "cell_type": "markdown",
   "id": "99ed50b5-0671-4f0a-bfbf-d15c3ff60268",
   "metadata": {},
   "source": [
    "## Example K-means in Python<br>\n",
    "<br>"
   ]
  },
  {
   "cell_type": "markdown",
   "id": "7d3647e1-8ea4-4f8b-ba78-572286a0f6ef",
   "metadata": {},
   "source": [
    "**0) Loading Libraries**<br>\n",
    "<br>"
   ]
  },
  {
   "cell_type": "code",
   "execution_count": null,
   "id": "7e1761d5-0b31-45c3-b001-71fb843cc187",
   "metadata": {},
   "outputs": [],
   "source": [
    "#standard libraries\n",
    "import pandas as pd\n",
    "import matplotlib.pyplot as plt\n",
    "import numpy as np\n",
    "import seaborn as sns\n",
    "\n",
    "from pyclustering.utils.metric import *                           #for choosing between different metrics\n",
    "from nltk.cluster.kmeans import KMeansClusterer                   #performs K-means\n",
    "from sklearn.metrics import silhouette_samples, silhouette_score  #calculating silhouette coefficient\n",
    "from sklearn import datasets                                      #we want to work with an internal data set"
   ]
  },
  {
   "cell_type": "markdown",
   "id": "82a61616-0928-453d-b391-930aeccbe782",
   "metadata": {},
   "source": [
    "<br>"
   ]
  },
  {
   "cell_type": "markdown",
   "id": "086b5bf8-9220-4bf3-b9ea-fc462daaffe9",
   "metadata": {},
   "source": [
    "**1) Loading and Inspecting the Data**<br>\n",
    "<br>"
   ]
  },
  {
   "cell_type": "code",
   "execution_count": null,
   "id": "d4caeff5-3547-4562-a8ca-2e4b6e631e2d",
   "metadata": {},
   "outputs": [],
   "source": [
    "iris = datasets.load_iris()\n",
    "print(iris.DESCR)"
   ]
  },
  {
   "cell_type": "code",
   "execution_count": null,
   "id": "14f9dd46-e5fd-4716-8963-660caa77c8d6",
   "metadata": {},
   "outputs": [],
   "source": [
    "Labels = iris.target_names\n",
    "print(Labels)\n",
    "X = iris.data\n",
    "print(X.shape)"
   ]
  },
  {
   "cell_type": "markdown",
   "id": "9a9cb9d4-b3cf-41b2-9712-d90a8e7eb769",
   "metadata": {},
   "source": [
    "<br>"
   ]
  },
  {
   "cell_type": "markdown",
   "id": "392113a3-021c-481c-a3ed-f47238b6fcfb",
   "metadata": {},
   "source": [
    "**2) Plotting the Data**<br>\n",
    "<br>"
   ]
  },
  {
   "cell_type": "markdown",
   "id": "7dfe1ad3-e125-408d-a768-b5712d3fd389",
   "metadata": {},
   "source": [
    "The first 50 entries in the data refer to Setosa, the next 50 entries refer to Versicolour etc. The data set is 4D. For plotting purposes, let's take a look at two dimensions each:"
   ]
  },
  {
   "cell_type": "code",
   "execution_count": null,
   "id": "7027b8bc-d6b6-44eb-984f-f6831c572036",
   "metadata": {},
   "outputs": [],
   "source": [
    "X12 = X[:,0:2]\n",
    "X23 = X[:,1:3]\n",
    "X34 = X[:,2:]\n",
    "\n",
    "Color = [\"#1B9E77\", \"#D95F02\", \"#7570B3\"]"
   ]
  },
  {
   "cell_type": "markdown",
   "id": "3fcb5a96-f25e-407d-9526-f68a4945f373",
   "metadata": {},
   "source": [
    "a) first two coordinates:"
   ]
  },
  {
   "cell_type": "code",
   "execution_count": null,
   "id": "ac5bd632-6dd3-4ed2-82b5-aa2ea084bd0c",
   "metadata": {},
   "outputs": [],
   "source": [
    "fig, ax = plt.subplots(figsize = (8,8))\n",
    "i = 0\n",
    "for species, color in zip(Labels, Color):\n",
    "    idxs = np.arange(0,50) + 50*i\n",
    "    i += 1\n",
    "    ax.scatter(X12[idxs,0], X12[idxs,1], label = species, s = 50, color = color, alpha = 0.7)\n",
    "ax.legend()\n",
    "plt.show()"
   ]
  },
  {
   "cell_type": "markdown",
   "id": "95852487-2d58-4693-afff-3c49b8808833",
   "metadata": {},
   "source": [
    "b) second and third coordinate:"
   ]
  },
  {
   "cell_type": "code",
   "execution_count": null,
   "id": "6f856e41-55ac-4cf8-8d0e-277848a4a425",
   "metadata": {},
   "outputs": [],
   "source": [
    "fig, ax = plt.subplots(figsize = (8,8))\n",
    "i = 0\n",
    "for species, color in zip(Labels, Color):\n",
    "    idxs = np.arange(0,50) + 50*i\n",
    "    i += 1\n",
    "    ax.scatter(X23[idxs,0], X23[idxs,1], label = species, s = 50, color = color, alpha = 0.7)\n",
    "ax.legend()\n",
    "plt.show()"
   ]
  },
  {
   "cell_type": "markdown",
   "id": "73a3291f-dc5e-4d45-a929-424334bba3dd",
   "metadata": {},
   "source": [
    "c) last two coordinates:"
   ]
  },
  {
   "cell_type": "code",
   "execution_count": null,
   "id": "876a2fdd-b846-45f9-8762-64238c9bc094",
   "metadata": {},
   "outputs": [],
   "source": [
    "fig, ax = plt.subplots(figsize = (8,8))\n",
    "i = 0\n",
    "for species, color in zip(Labels, Color):\n",
    "    idxs = np.arange(0,50) + 50*i\n",
    "    i += 1\n",
    "    ax.scatter(X34[idxs,0], X34[idxs,1], label = species, s = 50, color = color, alpha = 0.7)\n",
    "ax.legend()\n",
    "plt.show()"
   ]
  },
  {
   "cell_type": "markdown",
   "id": "de04ee5b-c3fb-4a0c-9e60-59b9a77afa22",
   "metadata": {},
   "source": [
    "<br>"
   ]
  },
  {
   "cell_type": "markdown",
   "id": "51233878-8641-44a9-b705-a562f53a417a",
   "metadata": {},
   "source": [
    "**3) Running Kmeans**<br>\n",
    "<br>"
   ]
  },
  {
   "cell_type": "markdown",
   "id": "e280ee9b-56c0-437d-b292-a937b9697fdc",
   "metadata": {},
   "source": [
    "a) We start with one of the 2D data sets in order to be able to plot the result"
   ]
  },
  {
   "cell_type": "code",
   "execution_count": null,
   "id": "7d7e3531-72f1-49a5-8e95-3a45aab0c05d",
   "metadata": {},
   "outputs": [],
   "source": [
    "nClust     = 3  #Guessing the number of cluster\n",
    "rep        = 25 #The initial means are assigned randomly. In order to avoid getting stuck in a local minimum, we repeat the procedure 25 times \n",
    "                #and store the best result\n",
    "dist       = distance_metric(type_metric.EUCLIDEAN) #The features are meassured in cm, i. e. the correct distance to pick here is Euclidean"
   ]
  },
  {
   "cell_type": "code",
   "execution_count": null,
   "id": "07d92d14-17ab-4b3e-b2de-22efe50a1549",
   "metadata": {},
   "outputs": [],
   "source": [
    "my_model   = KMeansClusterer(nClust, distance = dist, repeats  = rep)\n",
    "PredLabels = my_model.cluster(X12, assign_clusters = True)\n",
    "Center     = my_model.means()    \n",
    "\n",
    "CenterAr   = np.array(Center)"
   ]
  },
  {
   "cell_type": "markdown",
   "id": "6c8ba23d-0a8e-4790-ab81-dab09fc7d429",
   "metadata": {},
   "source": [
    "The labels are assigned 0, 1, 2 since we don't know the true labels (unsupervised learning!)"
   ]
  },
  {
   "cell_type": "code",
   "execution_count": null,
   "id": "30828a2f-0187-4096-aaf0-191ea60c1217",
   "metadata": {},
   "outputs": [],
   "source": [
    "print(PredLabels)"
   ]
  },
  {
   "cell_type": "markdown",
   "id": "70d7ce1c-e37f-4089-adcc-70a9b695f133",
   "metadata": {},
   "source": [
    "Let us plot the centers (means) and compare their location to the data:"
   ]
  },
  {
   "cell_type": "code",
   "execution_count": null,
   "id": "1172bb8b-851d-4564-81b7-baeea57036fb",
   "metadata": {},
   "outputs": [],
   "source": [
    "fig, ax = plt.subplots(figsize=(8,8))\n",
    "i = 0\n",
    "for species, color in zip(Labels, Color):\n",
    "    idxs = np.arange(0,50) + 50*i\n",
    "    i += 1\n",
    "    ax.scatter(X12[idxs,0], X12[idxs,1], label = species, \\\n",
    "               s = 50, color = color, alpha = 0.7)\n",
    "ax.legend()\n",
    "ax.scatter(CenterAr[:,0],CenterAr[:,1], marker = 'x', s = 200, color = 'k')\n",
    "plt.show()"
   ]
  },
  {
   "cell_type": "markdown",
   "id": "33eea5a4-945f-4566-9cbb-a39dfa2eaf83",
   "metadata": {},
   "source": [
    "Now our model is ready to go and we can predict the class of a new, unknown data point:"
   ]
  },
  {
   "cell_type": "code",
   "execution_count": null,
   "id": "42ab7a21-88dd-4a6e-8963-68e02970be17",
   "metadata": {},
   "outputs": [],
   "source": [
    "data_new  = [6.2,2.7]\n",
    "#data_new  = [5,3.5]"
   ]
  },
  {
   "cell_type": "code",
   "execution_count": null,
   "id": "73005b21-f30f-423e-aef1-f5e40b1759dc",
   "metadata": {},
   "outputs": [],
   "source": [
    "data_new_PredLabel = my_model.classify(data_new) #predicting the label\n",
    "print(data_new_PredLabel)"
   ]
  },
  {
   "cell_type": "markdown",
   "id": "6d135924-e77d-4330-b2c5-d5e293c808c7",
   "metadata": {},
   "source": [
    "Label  = 1 corresponds to:"
   ]
  },
  {
   "cell_type": "code",
   "execution_count": null,
   "id": "6d8deae2-cc44-44b9-86a1-f70026d1c9ba",
   "metadata": {},
   "outputs": [],
   "source": [
    "print(Labels[data_new_PredLabel])"
   ]
  },
  {
   "cell_type": "markdown",
   "id": "e1edc263-0e21-4867-b4be-9b55432e89e6",
   "metadata": {},
   "source": [
    "What is the probability, that the new data point does indeed belong to cluster Labelpred = 0? "
   ]
  },
  {
   "cell_type": "code",
   "execution_count": null,
   "id": "0c9e3404-0978-478d-9524-43644760ec16",
   "metadata": {},
   "outputs": [],
   "source": [
    "Probs = my_model.likelihood(data_new, data_new_PredLabel)\n",
    "print(Probs)"
   ]
  },
  {
   "cell_type": "markdown",
   "id": "bac7a8c1-83b0-4cdc-bbec-d54e1bf657d4",
   "metadata": {},
   "source": [
    "Let us now create the same scatterplot as above, but now assigning the labes according to the predicted labels:"
   ]
  },
  {
   "cell_type": "code",
   "execution_count": null,
   "id": "e2f4776f-1a42-4c56-943e-2616587829b2",
   "metadata": {},
   "outputs": [],
   "source": [
    "PredLabels = np.array(PredLabels)"
   ]
  },
  {
   "cell_type": "code",
   "execution_count": null,
   "id": "77d5afa3-f2da-4247-bf24-b84746ef1ebd",
   "metadata": {},
   "outputs": [],
   "source": [
    "fig, ax = plt.subplots(figsize=(8,8))\n",
    "for species_pred, color in zip(np.unique(PredLabels), Color):\n",
    "    idxs = np.where(np.array(PredLabels) == species_pred)\n",
    "    ax.scatter(X12[idxs,0], X12[idxs,1], label = species, \\\n",
    "               s = 50, color = color, alpha = 0.7)\n",
    "ax.legend()\n",
    "ax.scatter(CenterAr[:,0],CenterAr[:,1], marker = 'x', s = 200, color = 'k')\n",
    "plt.show()"
   ]
  },
  {
   "cell_type": "markdown",
   "id": "12873327-2455-4059-b39a-eac7a225f939",
   "metadata": {},
   "source": [
    "Some data points have been labeled differently. Again, keep in mind, that we **don't know the individual labels in practice** (unsupervised learning)!<br>\n",
    "Often, we don't know the number of clusters too. Let us create a density plot in order to get an impression of how the data appears to us if we didn't know the number of clusters:"
   ]
  },
  {
   "cell_type": "code",
   "execution_count": null,
   "id": "5f7d9d6a-775e-44f0-ac95-5c7612fb0863",
   "metadata": {},
   "outputs": [],
   "source": [
    "ax = sns.kdeplot(data = pd.DataFrame(X12, columns = ['x', 'y']), x = 'x', y = 'y', cmap = 'Blues', fill=True)\n",
    "ax.scatter(CenterAr[:,0],CenterAr[:,1], marker = 'x', s = 200, color = 'k')\n",
    "plt.show()"
   ]
  },
  {
   "cell_type": "markdown",
   "id": "056a4733-0229-404c-ab50-f1835bb8c50e",
   "metadata": {},
   "source": [
    "It actually looks like two clusters!"
   ]
  },
  {
   "cell_type": "markdown",
   "id": "57c73775-2ca2-4198-bf8c-75ee3800a479",
   "metadata": {},
   "source": [
    "b) Analyzing the 4D dataset"
   ]
  },
  {
   "cell_type": "markdown",
   "id": "400023d8-504e-4197-b5b4-ae820a40e41c",
   "metadata": {},
   "source": [
    "Let us now take all features into account and run the 4D dataset. We also want to calculate the silhouette coefficient for different numbers of clusters and find the best value."
   ]
  },
  {
   "cell_type": "code",
   "execution_count": null,
   "id": "763f434d-f68b-4a33-bb95-9aed9316c325",
   "metadata": {},
   "outputs": [],
   "source": [
    "Kmax = 15                 #calculate the silhouette coefficient for 2, 3, ... 15 cluster\n",
    "S    = np.zeros((Kmax-1)) #preparing matrix for storing the result"
   ]
  },
  {
   "cell_type": "code",
   "execution_count": null,
   "id": "57fa4a5d-2613-4164-af19-a637d5f991fa",
   "metadata": {},
   "outputs": [],
   "source": [
    "for k in range(2, Kmax + 1):\n",
    "    my_model = KMeansClusterer(k, distance = dist, repeats = 25, avoid_empty_clusters = True)\n",
    "    Labels   = my_model.cluster(X, assign_clusters = True)\n",
    "    S[k-2]   = silhouette_score(X, Labels)#calculating the silhouette coefficient (1st entry for k=2, but index = 0)"
   ]
  },
  {
   "cell_type": "markdown",
   "id": "5e0891e4-0864-4d02-bf1f-165ec0a779d1",
   "metadata": {},
   "source": [
    "Plotting the silhouette coefficient depending on the number of clusters"
   ]
  },
  {
   "cell_type": "code",
   "execution_count": null,
   "id": "13bb586b-8a03-42d5-9134-049fcded33e9",
   "metadata": {},
   "outputs": [],
   "source": [
    "plt.plot(np.arange(2, Kmax + 1), S, c = 'k', linestyle = '-.', linewidth = 3)\n",
    "plt.xlabel('number of cluster')\n",
    "plt.ylabel('mean silhouette')\n",
    "plt.show()"
   ]
  },
  {
   "cell_type": "markdown",
   "id": "a86b773e-c161-4fe9-aefb-beac3f61c699",
   "metadata": {},
   "source": [
    "We obtain the best values for k = 2, not for k = 3!"
   ]
  },
  {
   "cell_type": "markdown",
   "id": "9dfede87-a8e1-4f17-be5d-b10e4d792872",
   "metadata": {},
   "source": [
    "Let us run the model for k = 3 and calculate the accuracy:"
   ]
  },
  {
   "cell_type": "code",
   "execution_count": null,
   "id": "aa272037-6633-4dfc-99a0-7009372f5ec7",
   "metadata": {},
   "outputs": [],
   "source": [
    "my_model = KMeansClusterer(3, distance = dist, repeats = 25, avoid_empty_clusters = True)\n",
    "Labels   = my_model.cluster(X, assign_clusters = True)"
   ]
  },
  {
   "cell_type": "code",
   "execution_count": null,
   "id": "fa2cb61a-ed48-4c5b-9592-b776c429770b",
   "metadata": {},
   "outputs": [],
   "source": [
    "Labels   = np.array(Labels)\n",
    "\n",
    "diff0 = Labels[:50]    - 0\n",
    "diff1 = Labels[50:100] - 1\n",
    "diff2 = Labels[100:]   - 2\n",
    "\n",
    "diff    = np.vstack((diff0, diff1, diff2))\n",
    "idx     = np.array(np.where(diff==0))\n",
    "_, col  = idx.shape\n",
    "accur   = col/150\n",
    "print(f'accuracy is :{accur:.3f}%')"
   ]
  },
  {
   "cell_type": "markdown",
   "id": "9aa0d379-f8c7-4113-a00e-c91ce470062c",
   "metadata": {},
   "source": [
    "Almost 90%"
   ]
  }
 ],
 "metadata": {
  "kernelspec": {
   "display_name": "Python 3 (ipykernel)",
   "language": "python",
   "name": "python3"
  },
  "language_info": {
   "codemirror_mode": {
    "name": "ipython",
    "version": 3
   },
   "file_extension": ".py",
   "mimetype": "text/x-python",
   "name": "python",
   "nbconvert_exporter": "python",
   "pygments_lexer": "ipython3",
   "version": "3.11.7"
  }
 },
 "nbformat": 4,
 "nbformat_minor": 5
}
