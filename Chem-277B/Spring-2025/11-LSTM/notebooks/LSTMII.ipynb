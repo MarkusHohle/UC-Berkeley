{
 "cells": [
  {
   "cell_type": "markdown",
   "id": "59c618c3-a50b-4b7a-8611-043670640ec0",
   "metadata": {},
   "source": [
    "## LSTM Example"
   ]
  },
  {
   "cell_type": "markdown",
   "id": "e2c89d13-fad7-443e-81fb-e0894b443594",
   "metadata": {},
   "source": [
    "We want to train a **multivariate**, **N** feature LSTM"
   ]
  },
  {
   "cell_type": "markdown",
   "id": "960bdad6-9657-4d5c-b96d-7d888e59c5ef",
   "metadata": {},
   "source": [
    "**0) Loading Libraries and Subroutines**"
   ]
  },
  {
   "cell_type": "markdown",
   "id": "98acc91f-f3da-4c05-be20-ce803b1c564f",
   "metadata": {},
   "source": [
    "Standard libraries for plotting and numerical operations"
   ]
  },
  {
   "cell_type": "code",
   "execution_count": null,
   "id": "e10ab194-3b21-45c7-8387-aafd39ad3691",
   "metadata": {},
   "outputs": [],
   "source": [
    "import numpy as np\n",
    "import matplotlib.pyplot as plt"
   ]
  },
  {
   "cell_type": "markdown",
   "id": "90050234-9bfe-46aa-8d54-7226e6bef06e",
   "metadata": {},
   "source": [
    "Loading LSTM related keras libraries:"
   ]
  },
  {
   "cell_type": "code",
   "execution_count": null,
   "id": "2245f694-3281-4e77-98bc-3641fca8aae9",
   "metadata": {},
   "outputs": [],
   "source": [
    "from keras import optimizers\n",
    "from keras.layers import LSTM\n",
    "from keras.layers import Dense\n",
    "from keras.models import Sequential\n",
    "from sklearn.preprocessing import MinMaxScaler"
   ]
  },
  {
   "cell_type": "markdown",
   "id": "e7be23df-b658-4560-9f9f-0b95486bf5b1",
   "metadata": {},
   "source": [
    "Calling a subroutine that puts data set in the correct shape for LSTM (see later)"
   ]
  },
  {
   "cell_type": "code",
   "execution_count": null,
   "id": "9ce62fba-0ff4-4b93-bdcf-576610421807",
   "metadata": {},
   "outputs": [],
   "source": [
    "from prepare_data import prepare_data"
   ]
  },
  {
   "cell_type": "markdown",
   "id": "6ca37431-93b4-44ee-a0e8-d475c5d80dc6",
   "metadata": {},
   "source": [
    "<br>"
   ]
  },
  {
   "cell_type": "markdown",
   "id": "7e305239-47f7-4299-999c-990d1f1d2911",
   "metadata": {},
   "source": [
    "**1) Generating a Simple Dataset**"
   ]
  },
  {
   "cell_type": "markdown",
   "id": "3628ffdc-7cdc-4733-8e8e-5f012b5d578d",
   "metadata": {},
   "source": [
    "The goal is to generate a data set that has two features ($X(t_1)$ and $X(t_2)$) and to predict the values of two dependent variables $Y(t_1)$ and $Y(t_2)$"
   ]
  },
  {
   "cell_type": "code",
   "execution_count": null,
   "id": "d483fb87-1d0b-4712-944c-242a184b71e7",
   "metadata": {},
   "outputs": [],
   "source": [
    "t_start = -50\n",
    "t_end   = 10\n",
    "incr    = 0.25\n",
    "\n",
    "t       = np.arange(t_start, t_end, incr)\n",
    "t       = t.reshape(len(t), 1)\n",
    "\n",
    "X_t1    = np.sin(t) + 0.1*np.random.randn(len(t), 1)\n",
    "X_t2    = 0.1*np.random.randn(len(t),1) + 10*np.cos(t)\n",
    "\n",
    "Y_t1    = X_t1 * X_t2\n",
    "Y_t2    = X_t1 / (abs(X_t2) + 0.1)\n",
    "Data    = np.hstack((Y_t1, Y_t2, X_t1, X_t2))"
   ]
  },
  {
   "cell_type": "code",
   "execution_count": null,
   "id": "f9402644-1811-48c5-a41c-1169fdd21391",
   "metadata": {},
   "outputs": [],
   "source": [
    "fig, axs = plt.subplot_mosaic([['$Y_{t1}$'], ['$Y_{t2}$'], ['$X_{t1}$'], ['$X_{t2}$']], layout = 'constrained')\n",
    "for i, l in enumerate(axs.items()):\n",
    "    lab = l[0]\n",
    "    axs[lab].plot(t, Data[:,i])\n",
    "    axs[lab].set_title(lab)\n",
    "plt.show()"
   ]
  },
  {
   "cell_type": "markdown",
   "id": "b0b7b113-e556-43f5-aca1-1a4fb93df077",
   "metadata": {},
   "source": [
    "**2) Preprocessing the Data**"
   ]
  },
  {
   "cell_type": "markdown",
   "id": "3260bff7-10f9-4c19-9c84-93922ba33f96",
   "metadata": {},
   "source": [
    "2a) Scaling:"
   ]
  },
  {
   "cell_type": "markdown",
   "id": "fa60d6d5-804b-49fb-a8d7-03ec42678c49",
   "metadata": {},
   "source": [
    "As before, we need to scale the data first."
   ]
  },
  {
   "cell_type": "code",
   "execution_count": null,
   "id": "fd712503-a991-470d-a174-fb34cb8ec961",
   "metadata": {},
   "outputs": [],
   "source": [
    "Xall    = np.hstack((X_t1, X_t2))\n",
    "Yall    = np.hstack((Y_t1, Y_t2))\n",
    "\n",
    "scaler  = MinMaxScaler(feature_range = (0, 1))\n",
    "\n",
    "Y_tnorm = scaler.fit_transform(Yall)\n",
    "X_tnorm = scaler.fit_transform(Xall)"
   ]
  },
  {
   "cell_type": "markdown",
   "id": "319aa0b1-4350-4fc9-ab99-a12fc1f7d107",
   "metadata": {},
   "source": [
    "2b) Reshaping the Data"
   ]
  },
  {
   "cell_type": "markdown",
   "id": "cc90a7f6-197a-4539-9ee0-ab34a36014c9",
   "metadata": {},
   "source": [
    "In contrast to the previous example in LSTMI, the dependent variable is not just a prediction of $X(t)$ into the future, now it is two time series, $Y(t_1)$ and $Y(t_2)$. "
   ]
  },
  {
   "cell_type": "code",
   "execution_count": null,
   "id": "6a9ce64a-55bd-4c2e-bce4-375ed1d810f0",
   "metadata": {},
   "outputs": [],
   "source": [
    "dt_past    = 20\n",
    "dt_futu    = 8\n",
    "n_features = X_tnorm.shape[1]\n",
    "\n",
    "[X, _]     = prepare_data(X_tnorm, dt_past, dt_futu)\n",
    "[_, Y]     = prepare_data(Y_tnorm, dt_past, dt_futu)"
   ]
  },
  {
   "cell_type": "markdown",
   "id": "18a095c5-8fe6-4888-afee-ff65efcf3cef",
   "metadata": {},
   "source": [
    "<br>"
   ]
  },
  {
   "cell_type": "markdown",
   "id": "10f266f5-8674-4cd4-be29-306d3927b941",
   "metadata": {},
   "source": [
    "Let us check the shapes:"
   ]
  },
  {
   "cell_type": "code",
   "execution_count": null,
   "id": "11446a10-0092-4bda-b064-a0d1bb995ce7",
   "metadata": {},
   "outputs": [],
   "source": [
    "print(Y_tnorm.shape)\n",
    "print(X_tnorm.shape)\n",
    "print(X.shape)\n",
    "print(Y.shape)"
   ]
  },
  {
   "cell_type": "markdown",
   "id": "12c35040-c63b-4f1a-9a56-6b0d1170ede7",
   "metadata": {},
   "source": [
    "Each time series has two features now."
   ]
  },
  {
   "cell_type": "markdown",
   "id": "19a829d8-8b6a-4b8c-8543-8925e7665f4d",
   "metadata": {},
   "source": [
    "<br>"
   ]
  },
  {
   "cell_type": "markdown",
   "id": "32b71849-bc60-46c5-8351-e65acf5c8787",
   "metadata": {},
   "source": [
    "2c) Splitting data into Training and Test dataset"
   ]
  },
  {
   "cell_type": "code",
   "execution_count": null,
   "id": "02e0c719-bff7-4e41-a18c-9a226120b8dc",
   "metadata": {},
   "outputs": [],
   "source": [
    "cut            = int(np.round(0.7*Y_tnorm.shape[0]))\n",
    "\n",
    "TrainX, TrainY = X[:cut], Y[:cut]\n",
    "TestX,   TestY = X[cut:], Y[cut:]"
   ]
  },
  {
   "cell_type": "markdown",
   "id": "7b9bb98d-0ccb-40bf-a2b6-b13d5933e1a9",
   "metadata": {},
   "source": [
    "Just to make sure, that the shape is *len(X) x dt_past x n_features*"
   ]
  },
  {
   "cell_type": "code",
   "execution_count": null,
   "id": "9cfd5ea9-e363-4fdc-bb8b-b12452063b49",
   "metadata": {},
   "outputs": [],
   "source": [
    "print(TrainX.shape)\n",
    "print(TrainY.shape)"
   ]
  },
  {
   "cell_type": "markdown",
   "id": "000836d4-7d77-4820-98f9-de445c3487a1",
   "metadata": {},
   "source": [
    "<br>"
   ]
  },
  {
   "cell_type": "markdown",
   "id": "697bb035-9d4d-4afa-aacc-c637e80dc731",
   "metadata": {},
   "source": [
    "**3) Creating the Model**"
   ]
  },
  {
   "cell_type": "markdown",
   "id": "58c0dfce-5e95-4632-867f-70479c82c2cc",
   "metadata": {},
   "source": [
    "Let us run two models: one for predicting $Y(t_1)$ and one for predicting $Y(t_2)$.<br>"
   ]
  },
  {
   "cell_type": "code",
   "execution_count": null,
   "id": "51ab735e-3b3a-4560-94a9-13ac117280f5",
   "metadata": {},
   "outputs": [],
   "source": [
    "n_neurons  = 400\n",
    "batch_size = 128\n",
    "\n",
    "model1 = Sequential()\n",
    "model1.add(LSTM(n_neurons, input_shape = (dt_past, n_features), activation = 'tanh'))\n",
    "model1.add(Dense(dt_futu))\n",
    "\n",
    "opt = optimizers.Adam()\n",
    "model1.compile(loss = 'mean_squared_error', optimizer = opt)\n",
    "\n",
    "model1.summary()"
   ]
  },
  {
   "cell_type": "code",
   "execution_count": null,
   "id": "62a6c7ef-44ca-4126-96e3-237bb92212a7",
   "metadata": {},
   "outputs": [],
   "source": [
    "model2 = Sequential()\n",
    "model2.add(LSTM(n_neurons, input_shape = (dt_past, n_features), activation = 'tanh'))\n",
    "model2.add(Dense(dt_futu))\n",
    "\n",
    "opt = optimizers.Adam()\n",
    "model2.compile(loss = 'mean_squared_error', optimizer = opt)\n",
    "\n",
    "model2.summary()"
   ]
  },
  {
   "cell_type": "markdown",
   "id": "c657ee60-4a60-44ee-8bcd-c31592309138",
   "metadata": {},
   "source": [
    "<br>"
   ]
  },
  {
   "cell_type": "markdown",
   "id": "d5ae7a81-b89e-413f-a179-104a157721b6",
   "metadata": {},
   "source": [
    "**4) Running the Fit**"
   ]
  },
  {
   "cell_type": "code",
   "execution_count": null,
   "id": "57c8cf7a-0619-4107-85cf-4a89c197fe09",
   "metadata": {},
   "outputs": [],
   "source": [
    "n_epochs = 800\n",
    "out1 = model1.fit(TrainX, TrainY[:,:,0], epochs = n_epochs, batch_size = batch_size, validation_split = 0.2, verbose = 2, shuffle = False)"
   ]
  },
  {
   "cell_type": "code",
   "execution_count": null,
   "id": "94d8d7fd-a501-4753-8dae-0df55c36f5b4",
   "metadata": {},
   "outputs": [],
   "source": [
    "out2 = model2.fit(TrainX, TrainY[:,:,1], epochs = n_epochs, batch_size = batch_size, validation_split = 0.2, verbose = 2, shuffle = False)"
   ]
  },
  {
   "cell_type": "code",
   "execution_count": null,
   "id": "8a87c15e-58fa-4d82-9532-0b5893ea734f",
   "metadata": {},
   "outputs": [],
   "source": [
    "#plotting #############################################################\n",
    "plt.plot(out1.history['loss'])\n",
    "plt.plot(out1.history['val_loss'])\n",
    "plt.title('model loss of $Y(t_1)$')\n",
    "plt.ylabel('loss')\n",
    "plt.xlabel('epoch')\n",
    "plt.legend(['train', 'val'], loc = 'upper left')\n",
    "plt.savefig('training loss.pdf')\n",
    "plt.show()\n",
    "#######################################################################\n",
    "#plotting #############################################################\n",
    "plt.plot(out2.history['loss'])\n",
    "plt.plot(out2.history['val_loss'])\n",
    "plt.title('model loss of $Y(t_2)$')\n",
    "plt.ylabel('loss')\n",
    "plt.xlabel('epoch')\n",
    "plt.legend(['train', 'val'], loc = 'upper left')\n",
    "plt.savefig('training loss.pdf')\n",
    "plt.show()\n",
    "#######################################################################"
   ]
  },
  {
   "cell_type": "markdown",
   "id": "71ea4f73-4732-406d-af20-da678e62a51d",
   "metadata": {},
   "source": [
    "<br>"
   ]
  },
  {
   "cell_type": "markdown",
   "id": "a5055ad5-85e1-4f6c-8e06-b99b117e4f38",
   "metadata": {},
   "source": [
    "**5) Evaluating the Fit**"
   ]
  },
  {
   "cell_type": "code",
   "execution_count": null,
   "id": "370ee4be-f196-4f94-b6f7-d9a661772dbd",
   "metadata": {},
   "outputs": [],
   "source": [
    "PredY = model1.predict(TestX)\n",
    "back  = PredY.shape[0]\n",
    "\n",
    "plt.plot(t, Y_tnorm[:,0], linewidth = 5)\n",
    "plt.plot(t[-back:], PredY[:, dt_futu-1])\n",
    "plt.legend(['actual data', 'prediction'])\n",
    "plt.fill_between([t[-back,0], t[-1,0]], 0, 1, color = 'k', alpha = 0.1)\n",
    "plt.plot([t[-back,0], t[-back,0]], [0, 1], 'k-', linewidth = 3)\n",
    "plt.show()"
   ]
  },
  {
   "cell_type": "code",
   "execution_count": null,
   "id": "7d9e58d4-17d7-47e2-abf5-31d2c96d5e11",
   "metadata": {},
   "outputs": [],
   "source": [
    "PredY = model2.predict(TestX)\n",
    "back  = PredY.shape[0]\n",
    "\n",
    "plt.plot(t, Y_tnorm[:,1], linewidth = 5)\n",
    "plt.plot(t[-back:], PredY[:, dt_futu-1])\n",
    "plt.legend(['actual data', 'prediction'])\n",
    "plt.fill_between([t[-back,0], t[-1,0]], 0, 1, color = 'k', alpha = 0.1)\n",
    "plt.plot([t[-back,0], t[-back,0]], [0, 1], 'k-', linewidth = 3)\n",
    "plt.show()"
   ]
  },
  {
   "cell_type": "code",
   "execution_count": null,
   "id": "4f4330c0-dabf-4505-bafd-00a33f4c6ba1",
   "metadata": {},
   "outputs": [],
   "source": []
  }
 ],
 "metadata": {
  "kernelspec": {
   "display_name": "Python 3 (ipykernel)",
   "language": "python",
   "name": "python3"
  },
  "language_info": {
   "codemirror_mode": {
    "name": "ipython",
    "version": 3
   },
   "file_extension": ".py",
   "mimetype": "text/x-python",
   "name": "python",
   "nbconvert_exporter": "python",
   "pygments_lexer": "ipython3",
   "version": "3.11.7"
  }
 },
 "nbformat": 4,
 "nbformat_minor": 5
}
