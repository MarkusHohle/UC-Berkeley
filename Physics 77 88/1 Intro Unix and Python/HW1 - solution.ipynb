{
 "cells": [
  {
   "cell_type": "markdown",
   "id": "31301c69-25a2-469a-b710-2fe882c3be57",
   "metadata": {},
   "source": [
    "# Physics 77/88 - Fall 2024 - Homework 1, Solution \n",
    "## Unix and Python\n",
    "*Submit this notebook to bCourses to receive a credit for this assignment.*\n",
    "<br>\n",
    "due: Sept 11 2024 \n",
    "<br>\n",
    "<br>\n",
    "## Problem 1 (4P)\n",
    "\n",
    "Imagine you have to import many **8 bit** color images (e. g. RGB) for training an ANN.\n",
    "\n",
    "a) How many different colors can be saved theoreticaly in each of the images? Explain your answer. (2P)<br>"
   ]
  },
  {
   "cell_type": "markdown",
   "id": "0d41ee71-c312-4006-abe8-96a3d41e4291",
   "metadata": {},
   "source": [
    "For each color we have $$2^8 = 256$$ different values and we have three different colors, thus the total number is $$256^3 = 16\\,777\\,216$$ "
   ]
  },
  {
   "cell_type": "markdown",
   "id": "beb98af4-c179-417b-ad5a-7e01678e2d5c",
   "metadata": {},
   "source": [
    "b) Do the same for a **16 bit** image. (2P)<br>"
   ]
  },
  {
   "cell_type": "markdown",
   "id": "e9f03e57-04e5-4e69-9d29-f964f653e919",
   "metadata": {},
   "source": [
    "$$2^{16^3} = 281\\,474\\,976\\,710\\,656$$"
   ]
  },
  {
   "cell_type": "markdown",
   "id": "0ec42cab-a7ef-4d0e-8907-eeda3a2ed3db",
   "metadata": {},
   "source": [
    "\n",
    "## Problem 2 (2P)\n",
    "\n",
    "For many algorithms, you need to calculate the product $P_{tot}$ of different **probabilities** $P_i$ like eg.\n",
    "\n",
    "$$\n",
    "P_{tot} = \\Pi_{i}^{I}\\,P_i\n",
    "$$\n",
    "\n",
    "for large $I$.\n",
    "\n",
    "a) Why could this be a problem? (1P)<br>\n",
    "We continioulsy multiply numbers between 0 and 1, which leads to floating point underflow latest after $I \\gtrapprox 10^2$ and the result doesn't make sense anymore.\n",
    "\n",
    "b) How can you solve the problem? (1P)<br>\n",
    "Log transform:\n",
    "\n",
    "$$\n",
    "log(P_{tot}) = \\Sigma_{i}^{I}\\,log(P_i)\n",
    "$$\n",
    "\n",
    "and finally $P_{tot} = e^{log(P_{tot})}$\n",
    "\n",
    "\n",
    "## Problem 3 (4P)\n",
    "\n",
    "Write down the following numbers as binary and with base 3 (including derivation):\n",
    "\n",
    "a) 21 (2P)<br>\n",
    "$21 = 1\\cdot 2^0 + 0\\cdot 2^1 + 1\\cdot 2^2 + 0\\cdot 2^3 + 1\\cdot 2^4 = 00010101$<br>\n",
    "$21 = 0\\cdot 3^0 + 1\\cdot 3^1 + 2\\cdot 3^2 + 0\\cdot 3^3 + 0\\cdot 3^4 = 00000210$<br>\n",
    "\n",
    "b) 27 (2P)<br>\n",
    "$27 = 1\\cdot 2^0 + 1\\cdot 2^1 + 0\\cdot 2^2 + 1\\cdot 2^3 + 1\\cdot 2^4 = 00011011$<br>\n",
    "$27 = 0\\cdot 3^0 + 0\\cdot 3^1 + 0\\cdot 3^2 + 1\\cdot 3^3 + 0\\cdot 3^4 = 00001000$<br>\n",
    "\n",
    "\n",
    "\n",
    "\n",
    "## Problem 4 (4P)\n",
    "\n",
    "Create an arbitrary list *L1* in Python. From *L1* create another list *L2* that lists only those properties of *L1* which are **dunder methods**."
   ]
  },
  {
   "cell_type": "code",
   "execution_count": 16,
   "id": "e24ba102-538b-42e0-a9ba-dffc05903de6",
   "metadata": {},
   "outputs": [
    {
     "name": "stdout",
     "output_type": "stream",
     "text": [
      "['__add__', '__class__', '__class_getitem__', '__contains__', '__delattr__', '__delitem__', '__dir__', '__doc__', '__eq__', '__format__', '__ge__', '__getattribute__', '__getitem__', '__getstate__', '__gt__', '__hash__', '__iadd__', '__imul__', '__init__', '__init_subclass__', '__iter__', '__le__', '__len__', '__lt__', '__mul__', '__ne__', '__new__', '__reduce__', '__reduce_ex__', '__repr__', '__reversed__', '__rmul__', '__setattr__', '__setitem__', '__sizeof__', '__str__', '__subclasshook__']\n"
     ]
    }
   ],
   "source": [
    "L1 = [1,2,3]\n",
    "D = dir(L1)\n",
    "L2 =[d for d in D if '__' in d]\n",
    "print(L2)"
   ]
  },
  {
   "cell_type": "markdown",
   "id": "64f6f10a-00d0-4c14-a470-371bbff8515b",
   "metadata": {},
   "source": [
    "\n",
    "\n",
    "\n",
    "## Problem 5 (2P)\n",
    "\n",
    "After a curve fit, a programm returns a vector *V* containing the errors, e. g.: "
   ]
  },
  {
   "cell_type": "code",
   "execution_count": 26,
   "id": "c0f7feb7-8157-40e8-b58c-aae3642edca0",
   "metadata": {},
   "outputs": [],
   "source": [
    "import numpy as np\n",
    "\n",
    "V = np.array([0.3, 0.01, 0.2, 0.121, 0.11])"
   ]
  },
  {
   "cell_type": "markdown",
   "id": "10b9fc3e-fdce-4d35-a372-2b72ad06ad58",
   "metadata": {},
   "source": [
    "How would you calculate the mean of the squared errors (MSE) most efficiently in Python?\n",
    "\n"
   ]
  },
  {
   "cell_type": "code",
   "execution_count": 23,
   "id": "9a1562b0-f857-4dbf-ac76-5493e21be03f",
   "metadata": {},
   "outputs": [
    {
     "name": "stdout",
     "output_type": "stream",
     "text": [
      "0.0313682\n"
     ]
    }
   ],
   "source": [
    "MSE = np.dot(V,V)/len(V)\n",
    "print(MSE)"
   ]
  }
 ],
 "metadata": {
  "kernelspec": {
   "display_name": "Python 3 (ipykernel)",
   "language": "python",
   "name": "python3"
  },
  "language_info": {
   "codemirror_mode": {
    "name": "ipython",
    "version": 3
   },
   "file_extension": ".py",
   "mimetype": "text/x-python",
   "name": "python",
   "nbconvert_exporter": "python",
   "pygments_lexer": "ipython3",
   "version": "3.11.7"
  }
 },
 "nbformat": 4,
 "nbformat_minor": 5
}
