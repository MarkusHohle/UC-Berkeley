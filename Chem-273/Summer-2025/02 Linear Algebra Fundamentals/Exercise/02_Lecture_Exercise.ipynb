{
 "cells": [
  {
   "cell_type": "markdown",
   "id": "39635859-8651-446a-9e9a-2f9e3edc1398",
   "metadata": {},
   "source": [
    "# Lecture Exercise 02 - Chem 273\n",
    "## Loops vs Matrices"
   ]
  },
  {
   "cell_type": "markdown",
   "id": "6d61e612-9f5e-4fbf-a95e-4f30bbee6107",
   "metadata": {},
   "source": [
    "**1) Motivation**"
   ]
  },
  {
   "cell_type": "markdown",
   "id": "db7704f4-badc-480f-a3ec-0fadcd330774",
   "metadata": {},
   "source": [
    "In many cases, loops can be avoided by using matrix operations instead. Not only that the code is more compact, it is usually a few orders of magnitude faster when avoiding loops. However, for large matrices, there are limitations concerning memory allocation. The memory has to be specifically reallocated to the disc space.<br>\n",
    "In this exercise, we want to explore the gain and limitations of solving a simple problem once via nested *for* loops and once via matrix operations."
   ]
  },
  {
   "cell_type": "markdown",
   "id": "c1b6b4a0-9107-4790-9283-43976d13ebd9",
   "metadata": {},
   "source": [
    "<br>"
   ]
  },
  {
   "cell_type": "markdown",
   "id": "0b8ab7dc-f8c4-4b7b-83a4-3dadd862e623",
   "metadata": {},
   "source": [
    "**2) Preparation**"
   ]
  },
  {
   "cell_type": "markdown",
   "id": "e580e006-328d-479f-ae1c-1bdd923489a7",
   "metadata": {},
   "source": [
    "In order to be able to measure runtime accurately, we will use a *decorator*:"
   ]
  },
  {
   "cell_type": "code",
   "execution_count": 34,
   "id": "9baaff1c-c870-4729-a641-c00d53e32209",
   "metadata": {},
   "outputs": [],
   "source": [
    "from my_timer import my_timer "
   ]
  },
  {
   "cell_type": "markdown",
   "id": "11810c2b-7374-4044-a878-19cd7b71f057",
   "metadata": {},
   "source": [
    "Moreover, we are going to need *numpy* as well: "
   ]
  },
  {
   "cell_type": "code",
   "execution_count": 4,
   "id": "95fc8dd9-a42d-4113-9c3d-a9d77a3d9e44",
   "metadata": {},
   "outputs": [],
   "source": [
    "import numpy as np"
   ]
  },
  {
   "cell_type": "markdown",
   "id": "a375d868-44b7-4c08-bc3d-c8eb7ad4fab5",
   "metadata": {},
   "source": [
    "<br>"
   ]
  },
  {
   "cell_type": "markdown",
   "id": "32c07b04-01ee-4ae5-8ab4-63bcd21bcc6d",
   "metadata": {},
   "source": [
    "**3) Exercise**"
   ]
  },
  {
   "cell_type": "markdown",
   "id": "898cbbcb-67e8-4f5d-ac83-c2167759ac9d",
   "metadata": {},
   "source": [
    "Imagine we have a *numpy* array *V* of length *N* and we need to calculate the distance of each element of *V* to all the other elements of *V*. We also want to store the distances in a *numpy* array *D*. Therefore, we will get a *numpy* array *D* of size *N x N*, where <br>"
   ]
  },
  {
   "cell_type": "code",
   "execution_count": 11,
   "id": "b841b3d8-b1ca-42f6-9227-7303229d44e2",
   "metadata": {},
   "outputs": [],
   "source": [
    "#D[i,j] = (V[i] - V[j])**2"
   ]
  },
  {
   "cell_type": "markdown",
   "id": "c25f143c-3ac3-42fb-8642-3255dadb59a1",
   "metadata": {},
   "source": [
    "<br>"
   ]
  },
  {
   "cell_type": "markdown",
   "id": "0d286c80-dc0b-4e3f-b4fe-58ea076b2229",
   "metadata": {},
   "source": [
    "**3a)**"
   ]
  },
  {
   "cell_type": "markdown",
   "id": "2c7886ed-69b0-43da-b091-5740bc99f5c7",
   "metadata": {},
   "source": [
    "Write a code using *def* that returns *D* for a given *V*. Solve the problem by using two nested *for* loops. Implement the *for* loops in the most efficient way by using the fact that *D* is a distance matrix with the properties"
   ]
  },
  {
   "cell_type": "code",
   "execution_count": 14,
   "id": "11a3c089-2b9f-4638-8a13-7c145daec568",
   "metadata": {},
   "outputs": [],
   "source": [
    "#D[i,j] = D[j,i]\n",
    "#D[i,j] = 0 for all i=j"
   ]
  },
  {
   "cell_type": "markdown",
   "id": "83c08062-2022-4b7d-9db2-5c440808af9e",
   "metadata": {},
   "source": [
    "You can start with the following code snippet:"
   ]
  },
  {
   "cell_type": "code",
   "execution_count": 22,
   "id": "c1642fc1-0927-42e1-b38a-72a7e4326546",
   "metadata": {},
   "outputs": [],
   "source": [
    "#  @my_timer\n",
    "#  def Loops(N = 100):\n",
    "#      V = np.random.uniform(0,1,(N,1))\n",
    "#      D = np.zeros((N,N))\n",
    "#  #your code here\n",
    "#  \n",
    "#      return D"
   ]
  },
  {
   "cell_type": "markdown",
   "id": "3e7f5b18-a296-40a8-bbfa-538ee495e35c",
   "metadata": {},
   "source": [
    "<br>"
   ]
  },
  {
   "cell_type": "markdown",
   "id": "8e45008f-98dd-4317-9f10-1122ba569b54",
   "metadata": {},
   "source": [
    "**3b)**"
   ]
  },
  {
   "cell_type": "markdown",
   "id": "0b91e96c-b094-458d-9a0c-ea9c27c72391",
   "metadata": {},
   "source": [
    "Now, solve the problem using matrix operations. Hint: explore the method *np.tile* and apply it to *V*. Run both codes for *N=100*, *N=500*, *N=1000*, *N=2000* and *N=5000*. How do the times compare?<br>\n",
    "You can start with the following code snipplet:"
   ]
  },
  {
   "cell_type": "code",
   "execution_count": 27,
   "id": "352f198a-a94f-424c-916b-e97b3ff6e508",
   "metadata": {},
   "outputs": [],
   "source": [
    "#  @my_timer\n",
    "#  def Tiles(N = 100):\n",
    "#      V = np.random.uniform(0,1,(N,1))\n",
    "#      D = np.zeros((N,N))\n",
    "#  #your code here\n",
    "#  \n",
    "#      return D"
   ]
  }
 ],
 "metadata": {
  "kernelspec": {
   "display_name": "Python 3 (ipykernel)",
   "language": "python",
   "name": "python3"
  },
  "language_info": {
   "codemirror_mode": {
    "name": "ipython",
    "version": 3
   },
   "file_extension": ".py",
   "mimetype": "text/x-python",
   "name": "python",
   "nbconvert_exporter": "python",
   "pygments_lexer": "ipython3",
   "version": "3.11.7"
  }
 },
 "nbformat": 4,
 "nbformat_minor": 5
}
