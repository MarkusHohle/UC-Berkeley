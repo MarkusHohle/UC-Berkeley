{
 "cells": [
  {
   "cell_type": "markdown",
   "id": "39635859-8651-446a-9e9a-2f9e3edc1398",
   "metadata": {},
   "source": [
    "# Lecture Exercise 01 - Chem 273\n",
    "## Reading Files"
   ]
  },
  {
   "cell_type": "markdown",
   "id": "6d61e612-9f5e-4fbf-a95e-4f30bbee6107",
   "metadata": {},
   "source": [
    "**1) Motivation**"
   ]
  },
  {
   "cell_type": "markdown",
   "id": "db7704f4-badc-480f-a3ec-0fadcd330774",
   "metadata": {},
   "source": [
    "The goal of this exercise is to benchmark different tools for reading files of different formats. We also want to repeat some python coding as a warm-up for the course."
   ]
  },
  {
   "cell_type": "markdown",
   "id": "c1b6b4a0-9107-4790-9283-43976d13ebd9",
   "metadata": {},
   "source": [
    "<br>"
   ]
  },
  {
   "cell_type": "markdown",
   "id": "0b8ab7dc-f8c4-4b7b-83a4-3dadd862e623",
   "metadata": {},
   "source": [
    "**2) Preparation**"
   ]
  },
  {
   "cell_type": "markdown",
   "id": "e580e006-328d-479f-ae1c-1bdd923489a7",
   "metadata": {},
   "source": [
    "In order to be able to measure runtime accurately, we will use a *decorator*:"
   ]
  },
  {
   "cell_type": "code",
   "execution_count": 34,
   "id": "9baaff1c-c870-4729-a641-c00d53e32209",
   "metadata": {},
   "outputs": [],
   "source": [
    "from my_timer import my_timer "
   ]
  },
  {
   "cell_type": "markdown",
   "id": "11810c2b-7374-4044-a878-19cd7b71f057",
   "metadata": {},
   "source": [
    "In the next step we want to read the following data files:<br>\n",
    "<br>\n",
    "*Data_set_0.xlsx*<br>\n",
    "*Data_set_0.csv*<br>\n",
    "*Data_set_0.txt*<br>\n",
    "<br>\n",
    "All three files have the exact same content, but are of different formats. We now load the required libraries *pandas*, *dask* and *polars*: "
   ]
  },
  {
   "cell_type": "code",
   "execution_count": 21,
   "id": "95fc8dd9-a42d-4113-9c3d-a9d77a3d9e44",
   "metadata": {},
   "outputs": [],
   "source": [
    "import pandas as pd\n",
    "import dask.dataframe as dd\n",
    "import polars as pl\n",
    "#run pip install dask and/or pip install polars if needed!"
   ]
  },
  {
   "cell_type": "markdown",
   "id": "a375d868-44b7-4c08-bc3d-c8eb7ad4fab5",
   "metadata": {},
   "source": [
    "<br>"
   ]
  },
  {
   "cell_type": "markdown",
   "id": "32c07b04-01ee-4ae5-8ab4-63bcd21bcc6d",
   "metadata": {},
   "source": [
    "**3) Exercise**"
   ]
  },
  {
   "cell_type": "markdown",
   "id": "06d51a9b-dd6f-4512-bf3c-5fd7b1b98e48",
   "metadata": {},
   "source": [
    "Write a short function using *def* that reads the data file of a given format and using a specific library. Apply the decorator via"
   ]
  },
  {
   "cell_type": "code",
   "execution_count": null,
   "id": "672524fa-1aaa-4f87-bc49-66dd714af28e",
   "metadata": {},
   "outputs": [],
   "source": [
    "#@my_timer\n",
    "#def My_Function(input1, input2, ...)"
   ]
  },
  {
   "cell_type": "markdown",
   "id": "f03159e9-cbe6-4f08-9cc8-1d703365bb10",
   "metadata": {},
   "source": [
    "What is the difference in time you measure?<br>\n",
    "In order to obtain the same functionality of data frames you are used to by *pandas*, sometimes the data frame which has been generated using another library, such as *polars* or *dask*, has to be converted into a *pandas* data frame via: "
   ]
  },
  {
   "cell_type": "code",
   "execution_count": 31,
   "id": "b841b3d8-b1ca-42f6-9227-7303229d44e2",
   "metadata": {},
   "outputs": [],
   "source": [
    "#df = pd.DataFrame(df)"
   ]
  },
  {
   "cell_type": "markdown",
   "id": "4bd1f819-d736-44fd-b152-56f8258e6736",
   "metadata": {},
   "source": [
    "How much time does the conversion require? Do we still gain time?"
   ]
  }
 ],
 "metadata": {
  "kernelspec": {
   "display_name": "Python 3 (ipykernel)",
   "language": "python",
   "name": "python3"
  },
  "language_info": {
   "codemirror_mode": {
    "name": "ipython",
    "version": 3
   },
   "file_extension": ".py",
   "mimetype": "text/x-python",
   "name": "python",
   "nbconvert_exporter": "python",
   "pygments_lexer": "ipython3",
   "version": "3.11.7"
  }
 },
 "nbformat": 4,
 "nbformat_minor": 5
}
