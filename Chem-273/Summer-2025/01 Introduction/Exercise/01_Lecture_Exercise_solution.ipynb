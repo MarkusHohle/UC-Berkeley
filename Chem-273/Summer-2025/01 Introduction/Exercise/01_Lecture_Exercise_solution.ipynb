{
 "cells": [
  {
   "cell_type": "markdown",
   "id": "39635859-8651-446a-9e9a-2f9e3edc1398",
   "metadata": {},
   "source": [
    "# Lecture Exercise 01 - Chem 273  *solution*\n",
    "## Reading Files"
   ]
  },
  {
   "cell_type": "markdown",
   "id": "6d61e612-9f5e-4fbf-a95e-4f30bbee6107",
   "metadata": {},
   "source": [
    "**1) Motivation**"
   ]
  },
  {
   "cell_type": "markdown",
   "id": "db7704f4-badc-480f-a3ec-0fadcd330774",
   "metadata": {},
   "source": [
    "The goal of this exercise is to benchmark different tools for reading files of different formats. We also want to repeat some python coding as a warm-up for the course."
   ]
  },
  {
   "cell_type": "markdown",
   "id": "c1b6b4a0-9107-4790-9283-43976d13ebd9",
   "metadata": {},
   "source": [
    "<br>"
   ]
  },
  {
   "cell_type": "markdown",
   "id": "0b8ab7dc-f8c4-4b7b-83a4-3dadd862e623",
   "metadata": {},
   "source": [
    "**2) Preparation**"
   ]
  },
  {
   "cell_type": "markdown",
   "id": "e580e006-328d-479f-ae1c-1bdd923489a7",
   "metadata": {},
   "source": [
    "In order to be able to measure runtime accurately, we will use a *decorator*:"
   ]
  },
  {
   "cell_type": "code",
   "execution_count": 75,
   "id": "9baaff1c-c870-4729-a641-c00d53e32209",
   "metadata": {},
   "outputs": [],
   "source": [
    "from my_timer import my_timer "
   ]
  },
  {
   "cell_type": "markdown",
   "id": "11810c2b-7374-4044-a878-19cd7b71f057",
   "metadata": {},
   "source": [
    "In the next step we want to read the following data files:<br>\n",
    "<br>\n",
    "*Data_set_0.xlsx*<br>\n",
    "*Data_set_0.csv*<br>\n",
    "*Data_set_0.txt*<br>\n",
    "<br>\n",
    "All three files have the exact same content, but are of different formats. We now load the required libraries *pandas*, *dask* and *polars*: "
   ]
  },
  {
   "cell_type": "code",
   "execution_count": 77,
   "id": "95fc8dd9-a42d-4113-9c3d-a9d77a3d9e44",
   "metadata": {},
   "outputs": [],
   "source": [
    "import pandas as pd\n",
    "import dask.dataframe as dd\n",
    "import polars as pl\n",
    "#run pip install dask and/or pip install polars if needed!"
   ]
  },
  {
   "cell_type": "markdown",
   "id": "a375d868-44b7-4c08-bc3d-c8eb7ad4fab5",
   "metadata": {},
   "source": [
    "<br>"
   ]
  },
  {
   "cell_type": "markdown",
   "id": "32c07b04-01ee-4ae5-8ab4-63bcd21bcc6d",
   "metadata": {},
   "source": [
    "**3) Exercise**"
   ]
  },
  {
   "cell_type": "markdown",
   "id": "a9151647-0e95-40bd-be38-611fd31db6a9",
   "metadata": {},
   "source": [
    "Write a short function using *def* that reads the data file of a given format and using a specific library. Apply the decorator via. "
   ]
  },
  {
   "cell_type": "code",
   "execution_count": null,
   "id": "a5d75b8e-4a58-4800-8e2f-9bd1d6919564",
   "metadata": {},
   "outputs": [],
   "source": [
    "#@my_timer\n",
    "#def My_Function(input1, input2, ...)"
   ]
  },
  {
   "cell_type": "markdown",
   "id": "eb85d876-eb4c-4d61-b6a3-87e4583849f6",
   "metadata": {},
   "source": [
    "What is the difference in time you measure?<br>\n",
    "In order to obtain the same functionality for data frames you are used to by *pandas*, sometimes the data frame which has been generated using another library, such as *polars* or *dask*, has to be converted into a *pandas* data frame via: "
   ]
  },
  {
   "cell_type": "code",
   "execution_count": null,
   "id": "b841b3d8-b1ca-42f6-9227-7303229d44e2",
   "metadata": {},
   "outputs": [],
   "source": [
    "#df = pd.DataFrame(df)"
   ]
  },
  {
   "cell_type": "markdown",
   "id": "4bd1f819-d736-44fd-b152-56f8258e6736",
   "metadata": {},
   "source": [
    "How much time does the conversion require? Do we still gain time?"
   ]
  },
  {
   "cell_type": "markdown",
   "id": "38c72f89-fd5c-4efc-ac97-400fa3f11692",
   "metadata": {},
   "source": [
    "<br>"
   ]
  },
  {
   "cell_type": "markdown",
   "id": "183aac35-a7f6-4c04-abe2-22cb6369ab72",
   "metadata": {},
   "source": [
    "**4) Solution**"
   ]
  },
  {
   "cell_type": "markdown",
   "id": "1705dd0c-b03b-44ef-8c41-6f632bbc68c8",
   "metadata": {},
   "source": [
    "Here is a simple example code:"
   ]
  },
  {
   "cell_type": "code",
   "execution_count": 79,
   "id": "7db2dcb3-80cc-48bd-9717-c1eac278ee79",
   "metadata": {},
   "outputs": [],
   "source": [
    "@my_timer\n",
    "def ReadWithPandasCSV(filename: str = 'Data_set_0.csv') -> pd.DataFrame:\n",
    "    return pd.read_csv(filename)\n",
    "\n",
    "@my_timer\n",
    "def ReadWithDaskCSV(filename: str = 'Data_set_0.csv')   -> dd.DataFrame:\n",
    "    return dd.read_csv(filename)"
   ]
  },
  {
   "cell_type": "code",
   "execution_count": 81,
   "id": "567205e3-8f69-4297-86dd-783e55ec4385",
   "metadata": {},
   "outputs": [
    {
     "name": "stdout",
     "output_type": "stream",
     "text": [
      "Total runtime: 4.546999999991385 seconds\n",
      "Total runtime: 0.0 seconds\n"
     ]
    }
   ],
   "source": [
    "dfPandasCSV = ReadWithPandasCSV()\n",
    "dfDaskCSV   = ReadWithDaskCSV()"
   ]
  },
  {
   "cell_type": "markdown",
   "id": "ad3d38b1-0f9c-4a71-af42-b64d1f8a5671",
   "metadata": {},
   "source": [
    "<br>"
   ]
  },
  {
   "cell_type": "markdown",
   "id": "6bcf82e1-7091-4a39-b986-5a1b1826d5f4",
   "metadata": {},
   "source": [
    "Same code, but more dynamically:"
   ]
  },
  {
   "cell_type": "code",
   "execution_count": 83,
   "id": "9ad042d1-ad1a-4b9f-aef2-589b61790c4a",
   "metadata": {},
   "outputs": [],
   "source": [
    "@my_timer\n",
    "def ReadWithAnyToolCSV(filename: str = 'Data_set_0.csv', my_tool: str = 'pd') -> pd.DataFrame:\n",
    "    read_csv = globals()[my_tool].read_csv\n",
    "    return read_csv(filename)"
   ]
  },
  {
   "cell_type": "code",
   "execution_count": 85,
   "id": "25a1f6a4-e709-4a66-b95d-ef89f090b769",
   "metadata": {},
   "outputs": [
    {
     "name": "stdout",
     "output_type": "stream",
     "text": [
      "Total runtime: 11.48399999999674 seconds\n",
      "Total runtime: 0.0159999999741558 seconds\n",
      "Total runtime: 1.2030000000086147 seconds\n"
     ]
    }
   ],
   "source": [
    "dfPandasCSV = ReadWithAnyToolCSV()                     #pandas as default\n",
    "dfPandasCSV = ReadWithAnyToolCSV(my_tool = 'dd')       #dask\n",
    "dfPandasCSV = ReadWithAnyToolCSV(my_tool = 'pl')       #polars"
   ]
  },
  {
   "cell_type": "markdown",
   "id": "365803e2-65f3-43bc-a616-b28616114d10",
   "metadata": {},
   "source": [
    "<br>"
   ]
  },
  {
   "cell_type": "markdown",
   "id": "49b7b5c0-ef2b-4b03-94f6-6a851876169a",
   "metadata": {},
   "source": [
    "Both, tool and method dynamically:"
   ]
  },
  {
   "cell_type": "code",
   "execution_count": 87,
   "id": "3dd884c8-1954-4e66-aae0-a3919ccc9bac",
   "metadata": {},
   "outputs": [],
   "source": [
    "@my_timer\n",
    "def ReadWithAnyToolAnyMethod(filename: str = 'Data_set_0.csv', my_tool: str = 'pd', my_method: str = 'read_csv') -> pd.DataFrame:\n",
    "    tool   = globals()[my_tool]\n",
    "    method = getattr(tool, my_method)\n",
    "    return method(filename)"
   ]
  },
  {
   "cell_type": "code",
   "execution_count": 89,
   "id": "d75abd49-8941-4f4c-b3c9-1eb1dbd88d50",
   "metadata": {},
   "outputs": [
    {
     "name": "stdout",
     "output_type": "stream",
     "text": [
      "Total runtime: 10.030999999988126 seconds\n",
      "Total runtime: 366.7970000000205 seconds\n",
      "Total runtime: 0.0 seconds\n",
      "Total runtime: 0.26600000000325963 seconds\n",
      "Total runtime: 24.625 seconds\n"
     ]
    }
   ],
   "source": [
    "dfPandasCSV = ReadWithAnyToolAnyMethod()                                                                                 #pandas as default, read csv\n",
    "dfPandasCSV = ReadWithAnyToolAnyMethod(filename = 'Data_set_0.xlsx', my_method = 'read_excel')                           #pandas as default, read xlsx\n",
    "\n",
    "dfPandasCSV = ReadWithAnyToolAnyMethod(my_tool = 'dd')                                                                   #dask\n",
    "\n",
    "dfPandasCSV = ReadWithAnyToolAnyMethod(my_tool = 'pl')                                                                   #polars\n",
    "dfPandasCSV = ReadWithAnyToolAnyMethod(filename = 'Data_set_0.xlsx', my_tool = 'pl', my_method = 'read_excel')           #polars"
   ]
  },
  {
   "cell_type": "code",
   "execution_count": null,
   "id": "0c01cb98-f486-4897-8eb6-6cd8ff9a96d3",
   "metadata": {},
   "outputs": [],
   "source": []
  }
 ],
 "metadata": {
  "kernelspec": {
   "display_name": "Python 3 (ipykernel)",
   "language": "python",
   "name": "python3"
  },
  "language_info": {
   "codemirror_mode": {
    "name": "ipython",
    "version": 3
   },
   "file_extension": ".py",
   "mimetype": "text/x-python",
   "name": "python",
   "nbconvert_exporter": "python",
   "pygments_lexer": "ipython3",
   "version": "3.11.7"
  }
 },
 "nbformat": 4,
 "nbformat_minor": 5
}
